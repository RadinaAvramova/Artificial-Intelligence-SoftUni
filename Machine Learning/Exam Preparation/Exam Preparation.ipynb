{
 "cells": [
  {
   "cell_type": "code",
   "execution_count": 1,
   "id": "8f2bd7bd-3aab-49c3-bb16-f57961ecfc9e",
   "metadata": {},
   "outputs": [],
   "source": [
    "%matplotlib inline"
   ]
  },
  {
   "cell_type": "code",
   "execution_count": 154,
   "id": "5cecd782-a878-4147-962a-4501b9fd986b",
   "metadata": {
    "tags": []
   },
   "outputs": [],
   "source": [
    "import pandas as pd\n",
    "import numpy as np\n",
    "import matplotlib.pyplot as plt\n",
    "\n",
    "from sklearn.pipeline import Pipeline, FeatureUnion\n",
    "from sklearn.preprocessing import FunctionTransformer, MinMaxScaler, OneHotEncoder\n",
    "from sklearn.feature_extraction.text import TfidfVectorizer\n",
    "from sklearn.compose import ColumnTransformer\n",
    "from sklearn.impute import SimpleImputer\n",
    "\n",
    "from sklearn.decomposition import PCA, TruncatedSVD\n",
    "\n",
    "from sklearn.model_selection import GridSearchCV\n",
    "\n",
    "from sklearn.linear_model import LogisticRegression"
   ]
  },
  {
   "cell_type": "markdown",
   "id": "7c6fae12-8cb6-4901-be18-18017da14bb3",
   "metadata": {},
   "source": [
    "# Exam Preparation"
   ]
  },
  {
   "cell_type": "markdown",
   "id": "85c855ef-117f-46fd-9c42-a3bd8d633aa4",
   "metadata": {},
   "source": [
    "### Live Demos"
   ]
  },
  {
   "cell_type": "code",
   "execution_count": 22,
   "id": "f023d156-2689-4607-946c-5ae20bb2aec2",
   "metadata": {},
   "outputs": [],
   "source": [
    "EPSILON = 1e-6"
   ]
  },
  {
   "cell_type": "code",
   "execution_count": 7,
   "id": "151782e4-ffff-4e72-ae4b-5cd9142bc584",
   "metadata": {},
   "outputs": [],
   "source": [
    "spaceship_titanic = pd.read_csv('Data/train.csv', true_values=['True'], false_values=['Flase'])"
   ]
  },
  {
   "cell_type": "code",
   "execution_count": 8,
   "id": "4b649e49-1006-44bf-8fed-f9f0ab7da6e7",
   "metadata": {},
   "outputs": [
    {
     "data": {
      "text/html": [
       "<div>\n",
       "<style scoped>\n",
       "    .dataframe tbody tr th:only-of-type {\n",
       "        vertical-align: middle;\n",
       "    }\n",
       "\n",
       "    .dataframe tbody tr th {\n",
       "        vertical-align: top;\n",
       "    }\n",
       "\n",
       "    .dataframe thead th {\n",
       "        text-align: right;\n",
       "    }\n",
       "</style>\n",
       "<table border=\"1\" class=\"dataframe\">\n",
       "  <thead>\n",
       "    <tr style=\"text-align: right;\">\n",
       "      <th></th>\n",
       "      <th>PassengerId</th>\n",
       "      <th>HomePlanet</th>\n",
       "      <th>CryoSleep</th>\n",
       "      <th>Cabin</th>\n",
       "      <th>Destination</th>\n",
       "      <th>Age</th>\n",
       "      <th>VIP</th>\n",
       "      <th>RoomService</th>\n",
       "      <th>FoodCourt</th>\n",
       "      <th>ShoppingMall</th>\n",
       "      <th>Spa</th>\n",
       "      <th>VRDeck</th>\n",
       "      <th>Name</th>\n",
       "      <th>Transported</th>\n",
       "    </tr>\n",
       "  </thead>\n",
       "  <tbody>\n",
       "    <tr>\n",
       "      <th>0</th>\n",
       "      <td>0001_01</td>\n",
       "      <td>Europa</td>\n",
       "      <td>False</td>\n",
       "      <td>B/0/P</td>\n",
       "      <td>TRAPPIST-1e</td>\n",
       "      <td>39.0</td>\n",
       "      <td>False</td>\n",
       "      <td>0.0</td>\n",
       "      <td>0.0</td>\n",
       "      <td>0.0</td>\n",
       "      <td>0.0</td>\n",
       "      <td>0.0</td>\n",
       "      <td>Maham Ofracculy</td>\n",
       "      <td>False</td>\n",
       "    </tr>\n",
       "    <tr>\n",
       "      <th>1</th>\n",
       "      <td>0002_01</td>\n",
       "      <td>Earth</td>\n",
       "      <td>False</td>\n",
       "      <td>F/0/S</td>\n",
       "      <td>TRAPPIST-1e</td>\n",
       "      <td>24.0</td>\n",
       "      <td>False</td>\n",
       "      <td>109.0</td>\n",
       "      <td>9.0</td>\n",
       "      <td>25.0</td>\n",
       "      <td>549.0</td>\n",
       "      <td>44.0</td>\n",
       "      <td>Juanna Vines</td>\n",
       "      <td>True</td>\n",
       "    </tr>\n",
       "    <tr>\n",
       "      <th>2</th>\n",
       "      <td>0003_01</td>\n",
       "      <td>Europa</td>\n",
       "      <td>False</td>\n",
       "      <td>A/0/S</td>\n",
       "      <td>TRAPPIST-1e</td>\n",
       "      <td>58.0</td>\n",
       "      <td>True</td>\n",
       "      <td>43.0</td>\n",
       "      <td>3576.0</td>\n",
       "      <td>0.0</td>\n",
       "      <td>6715.0</td>\n",
       "      <td>49.0</td>\n",
       "      <td>Altark Susent</td>\n",
       "      <td>False</td>\n",
       "    </tr>\n",
       "    <tr>\n",
       "      <th>3</th>\n",
       "      <td>0003_02</td>\n",
       "      <td>Europa</td>\n",
       "      <td>False</td>\n",
       "      <td>A/0/S</td>\n",
       "      <td>TRAPPIST-1e</td>\n",
       "      <td>33.0</td>\n",
       "      <td>False</td>\n",
       "      <td>0.0</td>\n",
       "      <td>1283.0</td>\n",
       "      <td>371.0</td>\n",
       "      <td>3329.0</td>\n",
       "      <td>193.0</td>\n",
       "      <td>Solam Susent</td>\n",
       "      <td>False</td>\n",
       "    </tr>\n",
       "    <tr>\n",
       "      <th>4</th>\n",
       "      <td>0004_01</td>\n",
       "      <td>Earth</td>\n",
       "      <td>False</td>\n",
       "      <td>F/1/S</td>\n",
       "      <td>TRAPPIST-1e</td>\n",
       "      <td>16.0</td>\n",
       "      <td>False</td>\n",
       "      <td>303.0</td>\n",
       "      <td>70.0</td>\n",
       "      <td>151.0</td>\n",
       "      <td>565.0</td>\n",
       "      <td>2.0</td>\n",
       "      <td>Willy Santantines</td>\n",
       "      <td>True</td>\n",
       "    </tr>\n",
       "    <tr>\n",
       "      <th>...</th>\n",
       "      <td>...</td>\n",
       "      <td>...</td>\n",
       "      <td>...</td>\n",
       "      <td>...</td>\n",
       "      <td>...</td>\n",
       "      <td>...</td>\n",
       "      <td>...</td>\n",
       "      <td>...</td>\n",
       "      <td>...</td>\n",
       "      <td>...</td>\n",
       "      <td>...</td>\n",
       "      <td>...</td>\n",
       "      <td>...</td>\n",
       "      <td>...</td>\n",
       "    </tr>\n",
       "    <tr>\n",
       "      <th>8688</th>\n",
       "      <td>9276_01</td>\n",
       "      <td>Europa</td>\n",
       "      <td>False</td>\n",
       "      <td>A/98/P</td>\n",
       "      <td>55 Cancri e</td>\n",
       "      <td>41.0</td>\n",
       "      <td>True</td>\n",
       "      <td>0.0</td>\n",
       "      <td>6819.0</td>\n",
       "      <td>0.0</td>\n",
       "      <td>1643.0</td>\n",
       "      <td>74.0</td>\n",
       "      <td>Gravior Noxnuther</td>\n",
       "      <td>False</td>\n",
       "    </tr>\n",
       "    <tr>\n",
       "      <th>8689</th>\n",
       "      <td>9278_01</td>\n",
       "      <td>Earth</td>\n",
       "      <td>True</td>\n",
       "      <td>G/1499/S</td>\n",
       "      <td>PSO J318.5-22</td>\n",
       "      <td>18.0</td>\n",
       "      <td>False</td>\n",
       "      <td>0.0</td>\n",
       "      <td>0.0</td>\n",
       "      <td>0.0</td>\n",
       "      <td>0.0</td>\n",
       "      <td>0.0</td>\n",
       "      <td>Kurta Mondalley</td>\n",
       "      <td>False</td>\n",
       "    </tr>\n",
       "    <tr>\n",
       "      <th>8690</th>\n",
       "      <td>9279_01</td>\n",
       "      <td>Earth</td>\n",
       "      <td>False</td>\n",
       "      <td>G/1500/S</td>\n",
       "      <td>TRAPPIST-1e</td>\n",
       "      <td>26.0</td>\n",
       "      <td>False</td>\n",
       "      <td>0.0</td>\n",
       "      <td>0.0</td>\n",
       "      <td>1872.0</td>\n",
       "      <td>1.0</td>\n",
       "      <td>0.0</td>\n",
       "      <td>Fayey Connon</td>\n",
       "      <td>True</td>\n",
       "    </tr>\n",
       "    <tr>\n",
       "      <th>8691</th>\n",
       "      <td>9280_01</td>\n",
       "      <td>Europa</td>\n",
       "      <td>False</td>\n",
       "      <td>E/608/S</td>\n",
       "      <td>55 Cancri e</td>\n",
       "      <td>32.0</td>\n",
       "      <td>False</td>\n",
       "      <td>0.0</td>\n",
       "      <td>1049.0</td>\n",
       "      <td>0.0</td>\n",
       "      <td>353.0</td>\n",
       "      <td>3235.0</td>\n",
       "      <td>Celeon Hontichre</td>\n",
       "      <td>False</td>\n",
       "    </tr>\n",
       "    <tr>\n",
       "      <th>8692</th>\n",
       "      <td>9280_02</td>\n",
       "      <td>Europa</td>\n",
       "      <td>False</td>\n",
       "      <td>E/608/S</td>\n",
       "      <td>TRAPPIST-1e</td>\n",
       "      <td>44.0</td>\n",
       "      <td>False</td>\n",
       "      <td>126.0</td>\n",
       "      <td>4688.0</td>\n",
       "      <td>0.0</td>\n",
       "      <td>0.0</td>\n",
       "      <td>12.0</td>\n",
       "      <td>Propsh Hontichre</td>\n",
       "      <td>True</td>\n",
       "    </tr>\n",
       "  </tbody>\n",
       "</table>\n",
       "<p>8693 rows × 14 columns</p>\n",
       "</div>"
      ],
      "text/plain": [
       "     PassengerId HomePlanet CryoSleep     Cabin    Destination   Age    VIP  \\\n",
       "0        0001_01     Europa     False     B/0/P    TRAPPIST-1e  39.0  False   \n",
       "1        0002_01      Earth     False     F/0/S    TRAPPIST-1e  24.0  False   \n",
       "2        0003_01     Europa     False     A/0/S    TRAPPIST-1e  58.0   True   \n",
       "3        0003_02     Europa     False     A/0/S    TRAPPIST-1e  33.0  False   \n",
       "4        0004_01      Earth     False     F/1/S    TRAPPIST-1e  16.0  False   \n",
       "...          ...        ...       ...       ...            ...   ...    ...   \n",
       "8688     9276_01     Europa     False    A/98/P    55 Cancri e  41.0   True   \n",
       "8689     9278_01      Earth      True  G/1499/S  PSO J318.5-22  18.0  False   \n",
       "8690     9279_01      Earth     False  G/1500/S    TRAPPIST-1e  26.0  False   \n",
       "8691     9280_01     Europa     False   E/608/S    55 Cancri e  32.0  False   \n",
       "8692     9280_02     Europa     False   E/608/S    TRAPPIST-1e  44.0  False   \n",
       "\n",
       "      RoomService  FoodCourt  ShoppingMall     Spa  VRDeck               Name  \\\n",
       "0             0.0        0.0           0.0     0.0     0.0    Maham Ofracculy   \n",
       "1           109.0        9.0          25.0   549.0    44.0       Juanna Vines   \n",
       "2            43.0     3576.0           0.0  6715.0    49.0      Altark Susent   \n",
       "3             0.0     1283.0         371.0  3329.0   193.0       Solam Susent   \n",
       "4           303.0       70.0         151.0   565.0     2.0  Willy Santantines   \n",
       "...           ...        ...           ...     ...     ...                ...   \n",
       "8688          0.0     6819.0           0.0  1643.0    74.0  Gravior Noxnuther   \n",
       "8689          0.0        0.0           0.0     0.0     0.0    Kurta Mondalley   \n",
       "8690          0.0        0.0        1872.0     1.0     0.0       Fayey Connon   \n",
       "8691          0.0     1049.0           0.0   353.0  3235.0   Celeon Hontichre   \n",
       "8692        126.0     4688.0           0.0     0.0    12.0   Propsh Hontichre   \n",
       "\n",
       "      Transported  \n",
       "0           False  \n",
       "1            True  \n",
       "2           False  \n",
       "3           False  \n",
       "4            True  \n",
       "...           ...  \n",
       "8688        False  \n",
       "8689        False  \n",
       "8690         True  \n",
       "8691        False  \n",
       "8692         True  \n",
       "\n",
       "[8693 rows x 14 columns]"
      ]
     },
     "execution_count": 8,
     "metadata": {},
     "output_type": "execute_result"
    }
   ],
   "source": [
    "spaceship_titanic"
   ]
  },
  {
   "cell_type": "code",
   "execution_count": 9,
   "id": "458b14b4-b64c-4b5c-8bd8-c3ff13cd3939",
   "metadata": {},
   "outputs": [
    {
     "data": {
      "text/plain": [
       "PassengerId      object\n",
       "HomePlanet       object\n",
       "CryoSleep        object\n",
       "Cabin            object\n",
       "Destination      object\n",
       "Age             float64\n",
       "VIP              object\n",
       "RoomService     float64\n",
       "FoodCourt       float64\n",
       "ShoppingMall    float64\n",
       "Spa             float64\n",
       "VRDeck          float64\n",
       "Name             object\n",
       "Transported        bool\n",
       "dtype: object"
      ]
     },
     "execution_count": 9,
     "metadata": {},
     "output_type": "execute_result"
    }
   ],
   "source": [
    "spaceship_titanic.dtypes"
   ]
  },
  {
   "cell_type": "code",
   "execution_count": 12,
   "id": "6ed42b3f-7ee2-4798-94e2-19b1e55f2d0a",
   "metadata": {},
   "outputs": [
    {
     "data": {
      "text/plain": [
       "False    5439\n",
       "True     3037\n",
       "NaN       217\n",
       "Name: CryoSleep, dtype: int64"
      ]
     },
     "execution_count": 12,
     "metadata": {},
     "output_type": "execute_result"
    }
   ],
   "source": [
    "spaceship_titanic.CryoSleep.value_counts(dropna=False)"
   ]
  },
  {
   "cell_type": "code",
   "execution_count": 15,
   "id": "4288255e-a1a6-401c-8a5e-ce88d8e00003",
   "metadata": {},
   "outputs": [
    {
     "data": {
      "image/png": "[encoded data removed]",
      "text/plain": [
       "<Figure size 640x480 with 1 Axes>"
      ]
     },
     "metadata": {},
     "output_type": "display_data"
    }
   ],
   "source": [
    "plt.hist(spaceship_titanic.FoodCourt, bins=50)\n",
    "plt.semilogx()\n",
    "\n",
    "plt.xlabel('Food court expenses')\n",
    "plt.ylabel('Count')\n",
    "plt.show()"
   ]
  },
  {
   "cell_type": "code",
   "execution_count": 18,
   "id": "eab5b902-d43c-4279-b7a3-a9dcd79a79eb",
   "metadata": {},
   "outputs": [
    {
     "data": {
      "text/plain": [
       "(-0.001, 1.0]        5572\n",
       "(1.0, 13.0]           395\n",
       "(13.0, 76.0]          416\n",
       "(76.0, 258.0]         426\n",
       "(258.0, 608.0]        425\n",
       "(608.0, 1026.0]       426\n",
       "(1026.0, 2748.5]      424\n",
       "(2748.5, 29813.0]     426\n",
       "Name: FoodCourt, dtype: int64"
      ]
     },
     "execution_count": 18,
     "metadata": {},
     "output_type": "execute_result"
    }
   ],
   "source": [
    "pd.qcut(spaceship_titanic.FoodCourt, q = 20, duplicates = 'drop').value_counts().sort_index()"
   ]
  },
  {
   "cell_type": "code",
   "execution_count": 19,
   "id": "4237d1f8-a7de-4aaa-a8be-3abbc9e35398",
   "metadata": {},
   "outputs": [
    {
     "data": {
      "text/html": [
       "<div>\n",
       "<style scoped>\n",
       "    .dataframe tbody tr th:only-of-type {\n",
       "        vertical-align: middle;\n",
       "    }\n",
       "\n",
       "    .dataframe tbody tr th {\n",
       "        vertical-align: top;\n",
       "    }\n",
       "\n",
       "    .dataframe thead th {\n",
       "        text-align: right;\n",
       "    }\n",
       "</style>\n",
       "<table border=\"1\" class=\"dataframe\">\n",
       "  <thead>\n",
       "    <tr style=\"text-align: right;\">\n",
       "      <th></th>\n",
       "      <th>PassengerId</th>\n",
       "      <th>HomePlanet</th>\n",
       "      <th>CryoSleep</th>\n",
       "      <th>Cabin</th>\n",
       "      <th>Destination</th>\n",
       "      <th>Age</th>\n",
       "      <th>VIP</th>\n",
       "      <th>RoomService</th>\n",
       "      <th>FoodCourt</th>\n",
       "      <th>ShoppingMall</th>\n",
       "      <th>Spa</th>\n",
       "      <th>VRDeck</th>\n",
       "      <th>Name</th>\n",
       "      <th>Transported</th>\n",
       "    </tr>\n",
       "  </thead>\n",
       "  <tbody>\n",
       "    <tr>\n",
       "      <th>0</th>\n",
       "      <td>0001_01</td>\n",
       "      <td>Europa</td>\n",
       "      <td>False</td>\n",
       "      <td>B/0/P</td>\n",
       "      <td>TRAPPIST-1e</td>\n",
       "      <td>39.0</td>\n",
       "      <td>False</td>\n",
       "      <td>0.0</td>\n",
       "      <td>0.0</td>\n",
       "      <td>0.0</td>\n",
       "      <td>0.0</td>\n",
       "      <td>0.0</td>\n",
       "      <td>Maham Ofracculy</td>\n",
       "      <td>False</td>\n",
       "    </tr>\n",
       "    <tr>\n",
       "      <th>7</th>\n",
       "      <td>0006_02</td>\n",
       "      <td>Earth</td>\n",
       "      <td>True</td>\n",
       "      <td>G/0/S</td>\n",
       "      <td>TRAPPIST-1e</td>\n",
       "      <td>28.0</td>\n",
       "      <td>False</td>\n",
       "      <td>0.0</td>\n",
       "      <td>0.0</td>\n",
       "      <td>0.0</td>\n",
       "      <td>0.0</td>\n",
       "      <td>NaN</td>\n",
       "      <td>Candra Jacostaffey</td>\n",
       "      <td>True</td>\n",
       "    </tr>\n",
       "    <tr>\n",
       "      <th>9</th>\n",
       "      <td>0008_01</td>\n",
       "      <td>Europa</td>\n",
       "      <td>True</td>\n",
       "      <td>B/1/P</td>\n",
       "      <td>55 Cancri e</td>\n",
       "      <td>14.0</td>\n",
       "      <td>False</td>\n",
       "      <td>0.0</td>\n",
       "      <td>0.0</td>\n",
       "      <td>0.0</td>\n",
       "      <td>0.0</td>\n",
       "      <td>0.0</td>\n",
       "      <td>Erraiam Flatic</td>\n",
       "      <td>True</td>\n",
       "    </tr>\n",
       "    <tr>\n",
       "      <th>10</th>\n",
       "      <td>0008_02</td>\n",
       "      <td>Europa</td>\n",
       "      <td>True</td>\n",
       "      <td>B/1/P</td>\n",
       "      <td>TRAPPIST-1e</td>\n",
       "      <td>34.0</td>\n",
       "      <td>False</td>\n",
       "      <td>0.0</td>\n",
       "      <td>0.0</td>\n",
       "      <td>NaN</td>\n",
       "      <td>0.0</td>\n",
       "      <td>0.0</td>\n",
       "      <td>Altardr Flatic</td>\n",
       "      <td>True</td>\n",
       "    </tr>\n",
       "    <tr>\n",
       "      <th>12</th>\n",
       "      <td>0009_01</td>\n",
       "      <td>Mars</td>\n",
       "      <td>False</td>\n",
       "      <td>F/1/P</td>\n",
       "      <td>TRAPPIST-1e</td>\n",
       "      <td>32.0</td>\n",
       "      <td>False</td>\n",
       "      <td>73.0</td>\n",
       "      <td>0.0</td>\n",
       "      <td>1123.0</td>\n",
       "      <td>0.0</td>\n",
       "      <td>113.0</td>\n",
       "      <td>Berers Barne</td>\n",
       "      <td>True</td>\n",
       "    </tr>\n",
       "    <tr>\n",
       "      <th>...</th>\n",
       "      <td>...</td>\n",
       "      <td>...</td>\n",
       "      <td>...</td>\n",
       "      <td>...</td>\n",
       "      <td>...</td>\n",
       "      <td>...</td>\n",
       "      <td>...</td>\n",
       "      <td>...</td>\n",
       "      <td>...</td>\n",
       "      <td>...</td>\n",
       "      <td>...</td>\n",
       "      <td>...</td>\n",
       "      <td>...</td>\n",
       "      <td>...</td>\n",
       "    </tr>\n",
       "    <tr>\n",
       "      <th>8681</th>\n",
       "      <td>9270_01</td>\n",
       "      <td>Earth</td>\n",
       "      <td>True</td>\n",
       "      <td>G/1497/S</td>\n",
       "      <td>55 Cancri e</td>\n",
       "      <td>33.0</td>\n",
       "      <td>False</td>\n",
       "      <td>0.0</td>\n",
       "      <td>0.0</td>\n",
       "      <td>0.0</td>\n",
       "      <td>0.0</td>\n",
       "      <td>0.0</td>\n",
       "      <td>Lan Mckinsond</td>\n",
       "      <td>True</td>\n",
       "    </tr>\n",
       "    <tr>\n",
       "      <th>8684</th>\n",
       "      <td>9274_01</td>\n",
       "      <td>NaN</td>\n",
       "      <td>True</td>\n",
       "      <td>G/1508/P</td>\n",
       "      <td>TRAPPIST-1e</td>\n",
       "      <td>23.0</td>\n",
       "      <td>False</td>\n",
       "      <td>0.0</td>\n",
       "      <td>0.0</td>\n",
       "      <td>0.0</td>\n",
       "      <td>0.0</td>\n",
       "      <td>0.0</td>\n",
       "      <td>Chelsa Bullisey</td>\n",
       "      <td>True</td>\n",
       "    </tr>\n",
       "    <tr>\n",
       "      <th>8685</th>\n",
       "      <td>9275_01</td>\n",
       "      <td>Europa</td>\n",
       "      <td>False</td>\n",
       "      <td>A/97/P</td>\n",
       "      <td>TRAPPIST-1e</td>\n",
       "      <td>0.0</td>\n",
       "      <td>False</td>\n",
       "      <td>0.0</td>\n",
       "      <td>0.0</td>\n",
       "      <td>0.0</td>\n",
       "      <td>0.0</td>\n",
       "      <td>0.0</td>\n",
       "      <td>Polaton Conable</td>\n",
       "      <td>True</td>\n",
       "    </tr>\n",
       "    <tr>\n",
       "      <th>8689</th>\n",
       "      <td>9278_01</td>\n",
       "      <td>Earth</td>\n",
       "      <td>True</td>\n",
       "      <td>G/1499/S</td>\n",
       "      <td>PSO J318.5-22</td>\n",
       "      <td>18.0</td>\n",
       "      <td>False</td>\n",
       "      <td>0.0</td>\n",
       "      <td>0.0</td>\n",
       "      <td>0.0</td>\n",
       "      <td>0.0</td>\n",
       "      <td>0.0</td>\n",
       "      <td>Kurta Mondalley</td>\n",
       "      <td>False</td>\n",
       "    </tr>\n",
       "    <tr>\n",
       "      <th>8690</th>\n",
       "      <td>9279_01</td>\n",
       "      <td>Earth</td>\n",
       "      <td>False</td>\n",
       "      <td>G/1500/S</td>\n",
       "      <td>TRAPPIST-1e</td>\n",
       "      <td>26.0</td>\n",
       "      <td>False</td>\n",
       "      <td>0.0</td>\n",
       "      <td>0.0</td>\n",
       "      <td>1872.0</td>\n",
       "      <td>1.0</td>\n",
       "      <td>0.0</td>\n",
       "      <td>Fayey Connon</td>\n",
       "      <td>True</td>\n",
       "    </tr>\n",
       "  </tbody>\n",
       "</table>\n",
       "<p>5456 rows × 14 columns</p>\n",
       "</div>"
      ],
      "text/plain": [
       "     PassengerId HomePlanet CryoSleep     Cabin    Destination   Age    VIP  \\\n",
       "0        0001_01     Europa     False     B/0/P    TRAPPIST-1e  39.0  False   \n",
       "7        0006_02      Earth      True     G/0/S    TRAPPIST-1e  28.0  False   \n",
       "9        0008_01     Europa      True     B/1/P    55 Cancri e  14.0  False   \n",
       "10       0008_02     Europa      True     B/1/P    TRAPPIST-1e  34.0  False   \n",
       "12       0009_01       Mars     False     F/1/P    TRAPPIST-1e  32.0  False   \n",
       "...          ...        ...       ...       ...            ...   ...    ...   \n",
       "8681     9270_01      Earth      True  G/1497/S    55 Cancri e  33.0  False   \n",
       "8684     9274_01        NaN      True  G/1508/P    TRAPPIST-1e  23.0  False   \n",
       "8685     9275_01     Europa     False    A/97/P    TRAPPIST-1e   0.0  False   \n",
       "8689     9278_01      Earth      True  G/1499/S  PSO J318.5-22  18.0  False   \n",
       "8690     9279_01      Earth     False  G/1500/S    TRAPPIST-1e  26.0  False   \n",
       "\n",
       "      RoomService  FoodCourt  ShoppingMall  Spa  VRDeck                Name  \\\n",
       "0             0.0        0.0           0.0  0.0     0.0     Maham Ofracculy   \n",
       "7             0.0        0.0           0.0  0.0     NaN  Candra Jacostaffey   \n",
       "9             0.0        0.0           0.0  0.0     0.0      Erraiam Flatic   \n",
       "10            0.0        0.0           NaN  0.0     0.0      Altardr Flatic   \n",
       "12           73.0        0.0        1123.0  0.0   113.0        Berers Barne   \n",
       "...           ...        ...           ...  ...     ...                 ...   \n",
       "8681          0.0        0.0           0.0  0.0     0.0       Lan Mckinsond   \n",
       "8684          0.0        0.0           0.0  0.0     0.0     Chelsa Bullisey   \n",
       "8685          0.0        0.0           0.0  0.0     0.0     Polaton Conable   \n",
       "8689          0.0        0.0           0.0  0.0     0.0     Kurta Mondalley   \n",
       "8690          0.0        0.0        1872.0  1.0     0.0        Fayey Connon   \n",
       "\n",
       "      Transported  \n",
       "0           False  \n",
       "7            True  \n",
       "9            True  \n",
       "10           True  \n",
       "12           True  \n",
       "...           ...  \n",
       "8681         True  \n",
       "8684         True  \n",
       "8685         True  \n",
       "8689        False  \n",
       "8690         True  \n",
       "\n",
       "[5456 rows x 14 columns]"
      ]
     },
     "execution_count": 19,
     "metadata": {},
     "output_type": "execute_result"
    }
   ],
   "source": [
    "spaceship_titanic[spaceship_titanic.FoodCourt ==0]"
   ]
  },
  {
   "cell_type": "code",
   "execution_count": 21,
   "id": "44c8e2ac-f3c5-438b-9a14-3b65b621f98c",
   "metadata": {},
   "outputs": [
    {
     "data": {
      "image/png": "[encoded data removed]",
      "text/plain": [
       "<Figure size 640x480 with 1 Axes>"
      ]
     },
     "metadata": {},
     "output_type": "display_data"
    }
   ],
   "source": [
    "plt.hist(np.log10(spaceship_titanic.FoodCourt[spaceship_titanic.FoodCourt>0]))\n",
    "plt.show()"
   ]
  },
  {
   "cell_type": "code",
   "execution_count": 23,
   "id": "18d324eb-02cf-4b63-9e80-2618d55d4548",
   "metadata": {},
   "outputs": [],
   "source": [
    "spaceship_titanic.loc[spaceship_titanic.FoodCourt <= 0, 'FoodCourt'] = EPSILON"
   ]
  },
  {
   "cell_type": "code",
   "execution_count": 34,
   "id": "fbea688b-d495-4f02-b2a5-8d9096095cc5",
   "metadata": {},
   "outputs": [],
   "source": [
    "positive_values_transformer = FunctionTransformer(func = lambda x: np.array([EPSILON if elem <= 0 else elem for elem in x]))"
   ]
  },
  {
   "cell_type": "code",
   "execution_count": 35,
   "id": "3d166d76-cb5c-42fe-93e0-04a312032a93",
   "metadata": {},
   "outputs": [
    {
     "data": {
      "text/plain": [
       "array([1.e+00, 2.e+00, 3.e+00, 1.e-06, 1.e-06, 1.e-06])"
      ]
     },
     "execution_count": 35,
     "metadata": {},
     "output_type": "execute_result"
    }
   ],
   "source": [
    "positive_values_transformer.transform([1, 2, 3, 0, -5, -10])"
   ]
  },
  {
   "cell_type": "code",
   "execution_count": 36,
   "id": "3d109a38-f5cb-4fe9-babc-14ef1121c8f6",
   "metadata": {},
   "outputs": [],
   "source": [
    "log_transformer = FunctionTransformer(func = lambda x: np.log10(x))"
   ]
  },
  {
   "cell_type": "code",
   "execution_count": 38,
   "id": "503ff763-e633-44aa-b0a8-a5211b04503e",
   "metadata": {},
   "outputs": [
    {
     "data": {
      "text/plain": [
       "array([ 0.        ,  0.30103   ,  0.47712125, -6.        , -6.        ,\n",
       "       -6.        ])"
      ]
     },
     "execution_count": 38,
     "metadata": {},
     "output_type": "execute_result"
    }
   ],
   "source": [
    "pos_values = positive_values_transformer.transform([1, 2, 3, 0, -5, -10])\n",
    "log_transformer.transform(pos_values)"
   ]
  },
  {
   "cell_type": "code",
   "execution_count": 41,
   "id": "d6e965f0-2285-4e19-9687-54364fc8bc49",
   "metadata": {},
   "outputs": [],
   "source": [
    "log_pipeline = Pipeline([\n",
    "    ('pos_values', positive_values_transformer),\n",
    "    ('log10', log_transformer)]\n",
    ")"
   ]
  },
  {
   "cell_type": "code",
   "execution_count": 42,
   "id": "0c99cade-bb3c-4874-a563-348cd26aad52",
   "metadata": {},
   "outputs": [
    {
     "data": {
      "text/plain": [
       "array([ 0.        ,  0.30103   ,  0.47712125, -6.        , -6.        ,\n",
       "       -6.        ])"
      ]
     },
     "execution_count": 42,
     "metadata": {},
     "output_type": "execute_result"
    }
   ],
   "source": [
    "log_pipeline.transform([1, 2, 3, 0, -5, -10])"
   ]
  },
  {
   "cell_type": "code",
   "execution_count": 43,
   "id": "d746b676-2622-49d5-9032-999d0f40ab30",
   "metadata": {},
   "outputs": [
    {
     "data": {
      "text/plain": [
       "[('pos_values',\n",
       "  FunctionTransformer(func=<function <lambda> at 0x0000019F84FC1310>)),\n",
       " ('log10',\n",
       "  FunctionTransformer(func=<function <lambda> at 0x0000019F84FC1B80>))]"
      ]
     },
     "execution_count": 43,
     "metadata": {},
     "output_type": "execute_result"
    }
   ],
   "source": [
    "log_pipeline.steps"
   ]
  },
  {
   "cell_type": "code",
   "execution_count": 45,
   "id": "7fe2ea36-4473-4f7c-89d5-9c3cd839b4fd",
   "metadata": {},
   "outputs": [
    {
     "data": {
      "image/png": "[encoded data removed]",
      "text/plain": [
       "<Figure size 640x480 with 1 Axes>"
      ]
     },
     "metadata": {},
     "output_type": "display_data"
    }
   ],
   "source": [
    "plt.hist(log_pipeline.transform(spaceship_titanic.FoodCourt))\n",
    "plt.show()"
   ]
  },
  {
   "cell_type": "code",
   "execution_count": 47,
   "id": "a28d5b50-732d-44b6-bd7a-431bab3d7729",
   "metadata": {},
   "outputs": [
    {
     "data": {
      "text/plain": [
       "Earth     4602\n",
       "Europa    2131\n",
       "Mars      1759\n",
       "NaN        201\n",
       "Name: HomePlanet, dtype: int64"
      ]
     },
     "execution_count": 47,
     "metadata": {},
     "output_type": "execute_result"
    }
   ],
   "source": [
    "spaceship_titanic.HomePlanet.value_counts(dropna= False)"
   ]
  },
  {
   "cell_type": "code",
   "execution_count": 48,
   "id": "56db178b-de02-40b3-a3f9-0b957f918b2b",
   "metadata": {},
   "outputs": [
    {
     "data": {
      "text/html": [
       "<div>\n",
       "<style scoped>\n",
       "    .dataframe tbody tr th:only-of-type {\n",
       "        vertical-align: middle;\n",
       "    }\n",
       "\n",
       "    .dataframe tbody tr th {\n",
       "        vertical-align: top;\n",
       "    }\n",
       "\n",
       "    .dataframe thead th {\n",
       "        text-align: right;\n",
       "    }\n",
       "</style>\n",
       "<table border=\"1\" class=\"dataframe\">\n",
       "  <thead>\n",
       "    <tr style=\"text-align: right;\">\n",
       "      <th></th>\n",
       "      <th>Earth</th>\n",
       "      <th>Europa</th>\n",
       "      <th>Mars</th>\n",
       "      <th>NaN</th>\n",
       "    </tr>\n",
       "  </thead>\n",
       "  <tbody>\n",
       "    <tr>\n",
       "      <th>0</th>\n",
       "      <td>0</td>\n",
       "      <td>1</td>\n",
       "      <td>0</td>\n",
       "      <td>0</td>\n",
       "    </tr>\n",
       "    <tr>\n",
       "      <th>1</th>\n",
       "      <td>1</td>\n",
       "      <td>0</td>\n",
       "      <td>0</td>\n",
       "      <td>0</td>\n",
       "    </tr>\n",
       "    <tr>\n",
       "      <th>2</th>\n",
       "      <td>0</td>\n",
       "      <td>1</td>\n",
       "      <td>0</td>\n",
       "      <td>0</td>\n",
       "    </tr>\n",
       "    <tr>\n",
       "      <th>3</th>\n",
       "      <td>0</td>\n",
       "      <td>1</td>\n",
       "      <td>0</td>\n",
       "      <td>0</td>\n",
       "    </tr>\n",
       "    <tr>\n",
       "      <th>4</th>\n",
       "      <td>1</td>\n",
       "      <td>0</td>\n",
       "      <td>0</td>\n",
       "      <td>0</td>\n",
       "    </tr>\n",
       "    <tr>\n",
       "      <th>...</th>\n",
       "      <td>...</td>\n",
       "      <td>...</td>\n",
       "      <td>...</td>\n",
       "      <td>...</td>\n",
       "    </tr>\n",
       "    <tr>\n",
       "      <th>8688</th>\n",
       "      <td>0</td>\n",
       "      <td>1</td>\n",
       "      <td>0</td>\n",
       "      <td>0</td>\n",
       "    </tr>\n",
       "    <tr>\n",
       "      <th>8689</th>\n",
       "      <td>1</td>\n",
       "      <td>0</td>\n",
       "      <td>0</td>\n",
       "      <td>0</td>\n",
       "    </tr>\n",
       "    <tr>\n",
       "      <th>8690</th>\n",
       "      <td>1</td>\n",
       "      <td>0</td>\n",
       "      <td>0</td>\n",
       "      <td>0</td>\n",
       "    </tr>\n",
       "    <tr>\n",
       "      <th>8691</th>\n",
       "      <td>0</td>\n",
       "      <td>1</td>\n",
       "      <td>0</td>\n",
       "      <td>0</td>\n",
       "    </tr>\n",
       "    <tr>\n",
       "      <th>8692</th>\n",
       "      <td>0</td>\n",
       "      <td>1</td>\n",
       "      <td>0</td>\n",
       "      <td>0</td>\n",
       "    </tr>\n",
       "  </tbody>\n",
       "</table>\n",
       "<p>8693 rows × 4 columns</p>\n",
       "</div>"
      ],
      "text/plain": [
       "      Earth  Europa  Mars  NaN\n",
       "0         0       1     0    0\n",
       "1         1       0     0    0\n",
       "2         0       1     0    0\n",
       "3         0       1     0    0\n",
       "4         1       0     0    0\n",
       "...     ...     ...   ...  ...\n",
       "8688      0       1     0    0\n",
       "8689      1       0     0    0\n",
       "8690      1       0     0    0\n",
       "8691      0       1     0    0\n",
       "8692      0       1     0    0\n",
       "\n",
       "[8693 rows x 4 columns]"
      ]
     },
     "execution_count": 48,
     "metadata": {},
     "output_type": "execute_result"
    }
   ],
   "source": [
    "pd.get_dummies(spaceship_titanic.HomePlanet, dummy_na=True)"
   ]
  },
  {
   "cell_type": "code",
   "execution_count": 52,
   "id": "ae5d1eb4-f837-453c-9e50-fab08d03c77c",
   "metadata": {},
   "outputs": [
    {
     "data": {
      "text/plain": [
       "Earth      4602\n",
       "Europa     2131\n",
       "Mars       1759\n",
       "Unknown     201\n",
       "Name: HomePlanet, dtype: int64"
      ]
     },
     "execution_count": 52,
     "metadata": {},
     "output_type": "execute_result"
    }
   ],
   "source": [
    "spaceship_titanic.HomePlanet.fillna('Unknown').value_counts()"
   ]
  },
  {
   "cell_type": "code",
   "execution_count": 58,
   "id": "5badc5b2-91f3-4af6-a3cd-ff6efe88804e",
   "metadata": {},
   "outputs": [
    {
     "data": {
      "text/plain": [
       "OneHotEncoder()"
      ]
     },
     "execution_count": 58,
     "metadata": {},
     "output_type": "execute_result"
    }
   ],
   "source": [
    "ohe = OneHotEncoder()\n",
    "ohe.fit(spaceship_titanic.HomePlanet.values.reshape(-1, 1))"
   ]
  },
  {
   "cell_type": "code",
   "execution_count": 59,
   "id": "2feb37a4-70e6-4c6c-a6ad-631edab55930",
   "metadata": {},
   "outputs": [
    {
     "data": {
      "text/plain": [
       "[array(['Earth', 'Europa', 'Mars', nan], dtype=object)]"
      ]
     },
     "execution_count": 59,
     "metadata": {},
     "output_type": "execute_result"
    }
   ],
   "source": [
    "ohe.categories_"
   ]
  },
  {
   "cell_type": "code",
   "execution_count": 62,
   "id": "63962726-9587-4219-a33a-284d7cfccdfd",
   "metadata": {},
   "outputs": [
    {
     "data": {
      "text/plain": [
       "<8693x4 sparse matrix of type '<class 'numpy.float64'>'\n",
       "\twith 8693 stored elements in Compressed Sparse Row format>"
      ]
     },
     "execution_count": 62,
     "metadata": {},
     "output_type": "execute_result"
    }
   ],
   "source": [
    "ohe.transform(spaceship_titanic.HomePlanet.values.reshape(-1, 1))"
   ]
  },
  {
   "cell_type": "code",
   "execution_count": 135,
   "id": "5a68e3c3-f630-4d1d-a102-22347020e103",
   "metadata": {},
   "outputs": [],
   "source": [
    "def fill_in_string_values(str_values):\n",
    "    str_values.fillna('Unknown')\n",
    "    str_values_column = str_values.values.reshape(-1, 1)\n",
    "    return str_values_column"
   ]
  },
  {
   "cell_type": "code",
   "execution_count": 136,
   "id": "2b254bc4-40ef-4b77-8fb1-92aae4080875",
   "metadata": {},
   "outputs": [],
   "source": [
    "home_planet_pipeline = Pipeline(steps = [\n",
    "    ('fill_na', FunctionTransformer(func = fill_in_string_values)),\n",
    "    ('ohe', OneHotEncoder()),\n",
    "    ('create_dense_matrix', FunctionTransformer(func = lambda x: np.array(x.todense())))\n",
    "])"
   ]
  },
  {
   "cell_type": "code",
   "execution_count": 100,
   "id": "e325df5e-f043-46ea-bed8-224e0604ab84",
   "metadata": {},
   "outputs": [
    {
     "data": {
      "text/plain": [
       "Pipeline(steps=[('fill_na',\n",
       "                 FunctionTransformer(func=<function fill_in_planets at 0x0000019F89360EE0>)),\n",
       "                ('ohe', OneHotEncoder()),\n",
       "                ('create_dense_matrix',\n",
       "                 FunctionTransformer(func=<function <lambda> at 0x0000019F89360DC0>))])"
      ]
     },
     "execution_count": 100,
     "metadata": {},
     "output_type": "execute_result"
    }
   ],
   "source": [
    "home_planet_pipeline.fit(spaceship_titanic.HomePlanet)"
   ]
  },
  {
   "cell_type": "code",
   "execution_count": 102,
   "id": "bcee3a94-392c-42cd-9506-045f43d28b3b",
   "metadata": {},
   "outputs": [
    {
     "data": {
      "text/plain": [
       "array([[0., 1., 0., 0.],\n",
       "       [1., 0., 0., 0.],\n",
       "       [0., 1., 0., 0.],\n",
       "       ...,\n",
       "       [1., 0., 0., 0.],\n",
       "       [0., 1., 0., 0.],\n",
       "       [0., 1., 0., 0.]])"
      ]
     },
     "execution_count": 102,
     "metadata": {},
     "output_type": "execute_result"
    }
   ],
   "source": [
    "transformed_home_planets = home_planet_pipeline.transform(spaceship_titanic.HomePlanet)\n",
    "transformed_home_planets"
   ]
  },
  {
   "cell_type": "code",
   "execution_count": 103,
   "id": "7307cd93-f16e-43c5-83e2-af11b7819b98",
   "metadata": {},
   "outputs": [
    {
     "data": {
      "text/plain": [
       "PCA(n_components=2)"
      ]
     },
     "execution_count": 103,
     "metadata": {},
     "output_type": "execute_result"
    }
   ],
   "source": [
    "pca = PCA(n_components = 2)\n",
    "pca.fit(transformed_home_planets)"
   ]
  },
  {
   "cell_type": "code",
   "execution_count": 104,
   "id": "d68cefd1-0b84-49d9-8973-71996a8b9615",
   "metadata": {},
   "outputs": [
    {
     "data": {
      "image/png": "[encoded data removed]",
      "text/plain": [
       "<Figure size 640x480 with 1 Axes>"
      ]
     },
     "metadata": {},
     "output_type": "display_data"
    }
   ],
   "source": [
    "plt.plot(np.arange(1, len(pca.components_) +1), np.cumsum(pca.explained_variance_ratio_))\n",
    "plt.ylim(0, 1.05)\n",
    "plt.xticks(np.arange(1, len(pca.components_) +1))\n",
    "plt.show()"
   ]
  },
  {
   "cell_type": "code",
   "execution_count": 113,
   "id": "219891c9-2017-46ec-8929-f1a36e6c2b98",
   "metadata": {},
   "outputs": [],
   "source": [
    "home_planet_pipeline = Pipeline(steps = [\n",
    "    ('fill_na', FunctionTransformer(func = fill_in_planets)),\n",
    "    ('ohe', OneHotEncoder()),\n",
    "    ('create_dense_matrix', FunctionTransformer(func = lambda x: np.array(x.todense()))),\n",
    "    ('pca', PCA(n_components = 2))\n",
    "])"
   ]
  },
  {
   "cell_type": "code",
   "execution_count": 114,
   "id": "c34eb4f0-1fdf-43ec-878c-226732ad3bc9",
   "metadata": {},
   "outputs": [
    {
     "data": {
      "text/plain": [
       "Pipeline(steps=[('fill_na',\n",
       "                 FunctionTransformer(func=<function fill_in_planets at 0x0000019F89360EE0>)),\n",
       "                ('ohe', OneHotEncoder()),\n",
       "                ('create_dense_matrix',\n",
       "                 FunctionTransformer(func=<function <lambda> at 0x0000019F8937A550>)),\n",
       "                ('pca', PCA(n_components=2))])"
      ]
     },
     "execution_count": 114,
     "metadata": {},
     "output_type": "execute_result"
    }
   ],
   "source": [
    "home_planet_pipeline.fit(spaceship_titanic.HomePlanet)"
   ]
  },
  {
   "cell_type": "code",
   "execution_count": 115,
   "id": "c0b470a0-2f8e-41b8-9f8a-a099c59f0766",
   "metadata": {},
   "outputs": [],
   "source": [
    "transformed_home_planets = home_planet_pipeline.transform(spaceship_titanic.HomePlanet)"
   ]
  },
  {
   "cell_type": "code",
   "execution_count": 116,
   "id": "fd86e548-8687-4a61-981d-5f6d2da19324",
   "metadata": {},
   "outputs": [
    {
     "data": {
      "text/plain": [
       "array([[ 0.74289896, -0.58169619],\n",
       "       [-0.56620817, -0.04707087],\n",
       "       [ 0.74289896, -0.58169619],\n",
       "       ...,\n",
       "       [-0.56620817, -0.04707087],\n",
       "       [ 0.74289896, -0.58169619],\n",
       "       [ 0.74289896, -0.58169619]])"
      ]
     },
     "execution_count": 116,
     "metadata": {},
     "output_type": "execute_result"
    }
   ],
   "source": [
    "transformed_home_planets"
   ]
  },
  {
   "cell_type": "code",
   "execution_count": 119,
   "id": "9c55c7e8-dc78-4065-b62b-bfa8dacea2e8",
   "metadata": {},
   "outputs": [],
   "source": [
    "search = GridSearchCV(home_planet_pipeline, param_grid={\n",
    "    'pca__n_components': [1, 2, 3, 4],\n",
    "})"
   ]
  },
  {
   "cell_type": "code",
   "execution_count": 120,
   "id": "a74cc826-7bb4-4cbf-9baf-b6ae2204183d",
   "metadata": {},
   "outputs": [
    {
     "name": "stderr",
     "output_type": "stream",
     "text": [
      "C:\\Users\\lenovo\\anaconda3\\lib\\site-packages\\sklearn\\model_selection\\_search.py:969: UserWarning: One or more of the test scores are non-finite: [-1.45097405 -0.2199532         -inf        -inf]\n",
      "  warnings.warn(\n",
      "C:\\Users\\lenovo\\anaconda3\\lib\\site-packages\\sklearn\\model_selection\\_search.py:978: RuntimeWarning: invalid value encountered in subtract\n",
      "  (array - array_means[:, np.newaxis]) ** 2, axis=1, weights=weights\n"
     ]
    },
    {
     "data": {
      "text/plain": [
       "GridSearchCV(estimator=Pipeline(steps=[('fill_na',\n",
       "                                        FunctionTransformer(func=<function fill_in_planets at 0x0000019F89360EE0>)),\n",
       "                                       ('ohe', OneHotEncoder()),\n",
       "                                       ('create_dense_matrix',\n",
       "                                        FunctionTransformer(func=<function <lambda> at 0x0000019F8937A550>)),\n",
       "                                       ('pca', PCA(n_components=2))]),\n",
       "             param_grid={'pca__n_components': [1, 2, 3, 4]})"
      ]
     },
     "execution_count": 120,
     "metadata": {},
     "output_type": "execute_result"
    }
   ],
   "source": [
    "search.fit(spaceship_titanic.HomePlanet)"
   ]
  },
  {
   "cell_type": "code",
   "execution_count": 121,
   "id": "73ab238c-3571-4899-bf23-9c6e8030f276",
   "metadata": {},
   "outputs": [
    {
     "data": {
      "text/plain": [
       "{'mean_fit_time': array([0.01221385, 0.0119329 , 0.00625024, 0.00312529]),\n",
       " 'std_fit_time': array([0.00708254, 0.00606708, 0.00765495, 0.00625057]),\n",
       " 'mean_score_time': array([0.00423656, 0.00922174, 0.        , 0.00624943]),\n",
       " 'std_score_time': array([0.00365651, 0.01223334, 0.        , 0.00765395]),\n",
       " 'param_pca__n_components': masked_array(data=[1, 2, 3, 4],\n",
       "              mask=[False, False, False, False],\n",
       "        fill_value='?',\n",
       "             dtype=object),\n",
       " 'params': [{'pca__n_components': 1},\n",
       "  {'pca__n_components': 2},\n",
       "  {'pca__n_components': 3},\n",
       "  {'pca__n_components': 4}],\n",
       " 'split0_test_score': array([-1.42556499, -0.13879519, 13.53009794,        -inf]),\n",
       " 'split1_test_score': array([-1.45059461, -0.25972173, 14.37830609, 17.24216434]),\n",
       " 'split2_test_score': array([-1.53664913, -0.24710998,        -inf,        -inf]),\n",
       " 'split3_test_score': array([-1.42801955, -0.25251356,        -inf, 23.4471231 ]),\n",
       " 'split4_test_score': array([-1.41404198, -0.20162552, 13.49400695,        -inf]),\n",
       " 'mean_test_score': array([-1.45097405, -0.2199532 ,        -inf,        -inf]),\n",
       " 'std_test_score': array([0.04444518, 0.04539103,        nan,        nan]),\n",
       " 'rank_test_score': array([2, 1, 3, 3])}"
      ]
     },
     "execution_count": 121,
     "metadata": {},
     "output_type": "execute_result"
    }
   ],
   "source": [
    "search.cv_results_"
   ]
  },
  {
   "cell_type": "code",
   "execution_count": 122,
   "id": "84c1a4e7-d614-42a6-8064-87680bf015cd",
   "metadata": {},
   "outputs": [
    {
     "data": {
      "text/plain": [
       "{'pca__n_components': 2}"
      ]
     },
     "execution_count": 122,
     "metadata": {},
     "output_type": "execute_result"
    }
   ],
   "source": [
    " search.best_params_"
   ]
  },
  {
   "cell_type": "code",
   "execution_count": 123,
   "id": "d55b4af4-1baf-42df-801c-e1e5b884142b",
   "metadata": {},
   "outputs": [
    {
     "data": {
      "image/png": "[encoded data removed]",
      "text/plain": [
       "<Figure size 640x480 with 1 Axes>"
      ]
     },
     "metadata": {},
     "output_type": "display_data"
    }
   ],
   "source": [
    "plt.hist(spaceship_titanic.Age)\n",
    "plt.show()"
   ]
  },
  {
   "cell_type": "code",
   "execution_count": 127,
   "id": "6eb10320-360d-439d-9099-57ec68951250",
   "metadata": {},
   "outputs": [
    {
     "data": {
      "text/plain": [
       "FeatureUnion(transformer_list=[('log_of_price',\n",
       "                                Pipeline(steps=[('pos_values',\n",
       "                                                 FunctionTransformer(func=<function <lambda> at 0x0000019F84FC1310>)),\n",
       "                                                ('log10',\n",
       "                                                 FunctionTransformer(func=<function <lambda> at 0x0000019F84FC1B80>))])),\n",
       "                               ('planet_encoding',\n",
       "                                Pipeline(steps=[('fill_na',\n",
       "                                                 FunctionTransformer(func=<function fill_in_planets at 0x0000019F89360EE0>)),\n",
       "                                                ('ohe', OneHotEncoder()),\n",
       "                                                ('create_dense_matrix',\n",
       "                                                 FunctionTransformer(func=<function <lambda> at 0x0000019F8937A550>)),\n",
       "                                                ('pca',\n",
       "                                                 PCA(n_components=2))]))])"
      ]
     },
     "execution_count": 127,
     "metadata": {},
     "output_type": "execute_result"
    }
   ],
   "source": [
    "FeatureUnion([\n",
    "    ('log_of_price', log_pipeline),\n",
    "    ('planet_encoding', home_planet_pipeline)\n",
    "])"
   ]
  },
  {
   "cell_type": "code",
   "execution_count": 130,
   "id": "5f271b3e-78ca-429e-9f90-27317e0d211f",
   "metadata": {},
   "outputs": [
    {
     "data": {
      "text/plain": [
       "ColumnTransformer(transformers=[('log_of_price',\n",
       "                                 Pipeline(steps=[('pos_values',\n",
       "                                                  FunctionTransformer(func=<function <lambda> at 0x0000019F84FC1310>)),\n",
       "                                                 ('log10',\n",
       "                                                  FunctionTransformer(func=<function <lambda> at 0x0000019F84FC1B80>))]),\n",
       "                                 ['RoomService', 'FoodCourt', 'ShoppingMall',\n",
       "                                  'Spa', 'VRDeck']),\n",
       "                                ('planet_encoding',\n",
       "                                 Pipeline(steps=[('fill_na',\n",
       "                                                  FunctionTransformer(func=<function fill_in_planets at 0x0000019F89360EE0>)),\n",
       "                                                 ('ohe', OneHotEncoder()),\n",
       "                                                 ('create_dense_matrix',\n",
       "                                                  FunctionTransformer(func=<function <lambda> at 0x0000019F8937A550>)),\n",
       "                                                 ('pca', PCA(n_components=2))]),\n",
       "                                 ['HomePlanet'])])"
      ]
     },
     "execution_count": 130,
     "metadata": {},
     "output_type": "execute_result"
    }
   ],
   "source": [
    "ColumnTransformer([\n",
    "    ('log_of_price', log_pipeline, ['RoomService', 'FoodCourt', 'ShoppingMall', 'Spa', 'VRDeck']),\n",
    "    ('planet_encoding', home_planet_pipeline, ['HomePlanet'])\n",
    "])"
   ]
  },
  {
   "cell_type": "code",
   "execution_count": null,
   "id": "e6d65988-1514-414b-bc1a-14ed19e3a6a5",
   "metadata": {},
   "outputs": [],
   "source": []
  },
  {
   "cell_type": "code",
   "execution_count": 132,
   "id": "f93daf06-f6ec-416f-8f3b-756fb22caf44",
   "metadata": {},
   "outputs": [
    {
     "data": {
      "text/plain": [
       "TfidfVectorizer()"
      ]
     },
     "execution_count": 132,
     "metadata": {},
     "output_type": "execute_result"
    }
   ],
   "source": [
    "tfidf = TfidfVectorizer()\n",
    "tfidf.fit(spaceship_titanic.Name.fillna('None'))"
   ]
  },
  {
   "cell_type": "code",
   "execution_count": 133,
   "id": "2ef929e4-5686-425e-a0ff-2152661be28a",
   "metadata": {},
   "outputs": [
    {
     "data": {
      "text/plain": [
       "<8693x4891 sparse matrix of type '<class 'numpy.float64'>'\n",
       "\twith 17186 stored elements in Compressed Sparse Row format>"
      ]
     },
     "execution_count": 133,
     "metadata": {},
     "output_type": "execute_result"
    }
   ],
   "source": [
    "tfidf.transform(spaceship_titanic.Name.fillna('None'))"
   ]
  },
  {
   "cell_type": "code",
   "execution_count": 149,
   "id": "7c6b6e60-d2a9-4cf0-a178-1c14b6620a28",
   "metadata": {},
   "outputs": [],
   "source": [
    "names_encoding_pipeline = Pipeline([\n",
    "    ('fill_na', FunctionTransformer(fill_in_string_values)),\n",
    "    ('tfidf', TfidfVectorizer()),\n",
    "    ('svd', TruncatedSVD())\n",
    "])"
   ]
  },
  {
   "cell_type": "code",
   "execution_count": 150,
   "id": "f974fcdf-275b-4d36-9054-23397c714b3f",
   "metadata": {},
   "outputs": [
    {
     "data": {
      "text/plain": [
       "Pipeline(steps=[('fill_na',\n",
       "                 FunctionTransformer(func=<function fill_in_string_values at 0x0000019F896C45E0>)),\n",
       "                ('tfidf', TfidfVectorizer()), ('svd', TruncatedSVD())])"
      ]
     },
     "execution_count": 150,
     "metadata": {},
     "output_type": "execute_result"
    }
   ],
   "source": [
    "names_encoding_pipeline"
   ]
  },
  {
   "cell_type": "code",
   "execution_count": 152,
   "id": "1dc8c70f-5413-4ee2-8adb-9b04e20d0c30",
   "metadata": {},
   "outputs": [],
   "source": [
    "column_tranformer = ColumnTransformer([\n",
    "    ('log_of_price', log_pipeline, ['RoomService', 'FoodCourt', 'ShoppingMall', 'Spa', 'VRDeck']),\n",
    "    ('planet_encoding', home_planet_pipeline, ['HomePlanet']),\n",
    "    ('names_encoding', names_encoding_pipeline)\n",
    "])"
   ]
  },
  {
   "cell_type": "code",
   "execution_count": 153,
   "id": "b2280129-f7c4-4527-a3fe-b1d300f246fd",
   "metadata": {},
   "outputs": [
    {
     "data": {
      "text/plain": [
       "ColumnTransformer(transformers=[('log_of_price',\n",
       "                                 Pipeline(steps=[('pos_values',\n",
       "                                                  FunctionTransformer(func=<function <lambda> at 0x0000019F84FC1310>)),\n",
       "                                                 ('log10',\n",
       "                                                  FunctionTransformer(func=<function <lambda> at 0x0000019F84FC1B80>))]),\n",
       "                                 ['RoomService', 'FoodCourt', 'ShoppingMall',\n",
       "                                  'Spa', 'VRDeck']),\n",
       "                                ('planet_encoding',\n",
       "                                 Pipeline(steps=[('fill_na',\n",
       "                                                  FunctionTransformer(func...in_string_values at 0x0000019F896C45E0>)),\n",
       "                                                 ('ohe', OneHotEncoder()),\n",
       "                                                 ('create_dense_matrix',\n",
       "                                                  FunctionTransformer(func=<function <lambda> at 0x0000019F8946B670>))]),\n",
       "                                 ['HomePlanet']),\n",
       "                                ('names_encoding',\n",
       "                                 Pipeline(steps=[('fill_na',\n",
       "                                                  FunctionTransformer(func=<function fill_in_string_values at 0x0000019F896C45E0>)),\n",
       "                                                 ('tfidf', TfidfVectorizer()),\n",
       "                                                 ('svd', TruncatedSVD())]))])"
      ]
     },
     "execution_count": 153,
     "metadata": {},
     "output_type": "execute_result"
    }
   ],
   "source": [
    "column_tranformer"
   ]
  },
  {
   "cell_type": "code",
   "execution_count": 156,
   "id": "7e9dd516-4a77-4fcc-9480-f2312ead6f9a",
   "metadata": {},
   "outputs": [],
   "source": [
    "pipeline = Pipeline([\n",
    "    ('features', column_tranformer),\n",
    "    ('final_pca', PCA()),\n",
    "    ('model', LogisticRegression())\n",
    "])"
   ]
  },
  {
   "cell_type": "code",
   "execution_count": 157,
   "id": "50375eb2-6145-49da-a143-3f1af109ff3e",
   "metadata": {},
   "outputs": [
    {
     "data": {
      "text/plain": [
       "[('features',\n",
       "  ColumnTransformer(transformers=[('log_of_price',\n",
       "                                   Pipeline(steps=[('pos_values',\n",
       "                                                    FunctionTransformer(func=<function <lambda> at 0x0000019F84FC1310>)),\n",
       "                                                   ('log10',\n",
       "                                                    FunctionTransformer(func=<function <lambda> at 0x0000019F84FC1B80>))]),\n",
       "                                   ['RoomService', 'FoodCourt', 'ShoppingMall',\n",
       "                                    'Spa', 'VRDeck']),\n",
       "                                  ('planet_encoding',\n",
       "                                   Pipeline(steps=[('fill_na',\n",
       "                                                    FunctionTransformer(func...in_string_values at 0x0000019F896C45E0>)),\n",
       "                                                   ('ohe', OneHotEncoder()),\n",
       "                                                   ('create_dense_matrix',\n",
       "                                                    FunctionTransformer(func=<function <lambda> at 0x0000019F8946B670>))]),\n",
       "                                   ['HomePlanet']),\n",
       "                                  ('names_encoding',\n",
       "                                   Pipeline(steps=[('fill_na',\n",
       "                                                    FunctionTransformer(func=<function fill_in_string_values at 0x0000019F896C45E0>)),\n",
       "                                                   ('tfidf', TfidfVectorizer()),\n",
       "                                                   ('svd', TruncatedSVD())]))])),\n",
       " ('final_pca', PCA()),\n",
       " ('model', LogisticRegression())]"
      ]
     },
     "execution_count": 157,
     "metadata": {},
     "output_type": "execute_result"
    }
   ],
   "source": [
    "pipeline.steps"
   ]
  },
  {
   "cell_type": "code",
   "execution_count": 158,
   "id": "53a6514a-5fa6-40dc-8b65-6957fffd516b",
   "metadata": {},
   "outputs": [
    {
     "data": {
      "text/plain": [
       "'features__names_encoding__tfidf__min_dif'"
      ]
     },
     "execution_count": 158,
     "metadata": {},
     "output_type": "execute_result"
    }
   ],
   "source": [
    "'features__names_encoding__tfidf__min_dif'"
   ]
  },
  {
   "cell_type": "code",
   "execution_count": 171,
   "id": "bbcbce38-2c67-4778-90cc-b5aac1e88031",
   "metadata": {},
   "outputs": [
    {
     "name": "stdout",
     "output_type": "stream",
     "text": [
      "(False, Interval(-0.001, 18.0, closed='right'))\n",
      "(False, Interval(18.0, 24.0, closed='right'))\n",
      "(False, Interval(24.0, 31.0, closed='right'))\n",
      "(False, Interval(31.0, 41.0, closed='right'))\n",
      "(False, Interval(41.0, 79.0, closed='right'))\n",
      "(True, Interval(-0.001, 18.0, closed='right'))\n",
      "(True, Interval(18.0, 24.0, closed='right'))\n",
      "(True, Interval(24.0, 31.0, closed='right'))\n",
      "(True, Interval(31.0, 41.0, closed='right'))\n",
      "(True, Interval(41.0, 79.0, closed='right'))\n"
     ]
    }
   ],
   "source": [
    "for group_index, group_data in spaceship_titanic.groupby(['Transported', pd.qcut(spaceship_titanic.Age, 5)]):\n",
    "    print(group_index)"
   ]
  },
  {
   "cell_type": "code",
   "execution_count": null,
   "id": "d9b97914-b584-4274-b1c3-a209d6aefe76",
   "metadata": {},
   "outputs": [],
   "source": []
  }
 ],
 "metadata": {
  "kernelspec": {
   "display_name": "Python 3 (ipykernel)",
   "language": "python",
   "name": "python3"
  },
  "language_info": {
   "codemirror_mode": {
    "name": "ipython",
    "version": 3
   },
   "file_extension": ".py",
   "mimetype": "text/x-python",
   "name": "python",
   "nbconvert_exporter": "python",
   "pygments_lexer": "ipython3",
   "version": "3.9.13"
  }
 },
 "nbformat": 4,
 "nbformat_minor": 5
}
