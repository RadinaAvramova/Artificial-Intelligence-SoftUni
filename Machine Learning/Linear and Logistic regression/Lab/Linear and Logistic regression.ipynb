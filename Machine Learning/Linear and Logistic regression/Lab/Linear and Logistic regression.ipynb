{
 "cells": [
  {
   "cell_type": "code",
   "execution_count": 2,
   "id": "8378cb8e-12fa-44a9-b5d5-25d174b86e01",
   "metadata": {},
   "outputs": [],
   "source": [
    "%matplotlib inline\n"
   ]
  },
  {
   "cell_type": "code",
   "execution_count": 67,
   "id": "cfb30fbe-e49c-4966-b9f7-be0201ce2ee6",
   "metadata": {},
   "outputs": [],
   "source": [
    "import pandas as pd\n",
    "import matplotlib.pyplot as plt\n",
    "import numpy as np\n",
    "\n",
    "from sklearn.preprocessing import MinMaxScaler\n",
    "\n",
    "from sklearn.linear_model import LinearRegression\n",
    "from sklearn.metrics import mean_squared_error"
   ]
  },
  {
   "cell_type": "markdown",
   "id": "5e7da65e-164c-4fc1-92ba-0fc03c59fe5c",
   "metadata": {},
   "source": [
    "# Linear and Logistic Regression Lab"
   ]
  },
  {
   "cell_type": "markdown",
   "id": "be5596b3-0ca5-453e-a877-beedd935783f",
   "metadata": {},
   "source": [
    "## Demo"
   ]
  },
  {
   "cell_type": "code",
   "execution_count": 32,
   "id": "8defc2a8-c74c-463e-bea4-0d0f6fb4c17a",
   "metadata": {},
   "outputs": [],
   "source": [
    "housing_data = pd.read_fwf(\"https://raw.githubusercontent.com/rupakc/UCI-Data-Analysis/master/Boston%20Housing%20Dataset/Boston%20Housing/housing.data\", header = None)"
   ]
  },
  {
   "cell_type": "code",
   "execution_count": 66,
   "id": "6c5b0109-f100-403b-8633-3dbc1017908a",
   "metadata": {},
   "outputs": [
    {
     "data": {
      "text/html": [
       "<div>\n",
       "<style scoped>\n",
       "    .dataframe tbody tr th:only-of-type {\n",
       "        vertical-align: middle;\n",
       "    }\n",
       "\n",
       "    .dataframe tbody tr th {\n",
       "        vertical-align: top;\n",
       "    }\n",
       "\n",
       "    .dataframe thead th {\n",
       "        text-align: right;\n",
       "    }\n",
       "</style>\n",
       "<table border=\"1\" class=\"dataframe\">\n",
       "  <thead>\n",
       "    <tr style=\"text-align: right;\">\n",
       "      <th></th>\n",
       "      <th>count</th>\n",
       "      <th>mean</th>\n",
       "      <th>std</th>\n",
       "      <th>min</th>\n",
       "      <th>25%</th>\n",
       "      <th>50%</th>\n",
       "      <th>75%</th>\n",
       "      <th>max</th>\n",
       "    </tr>\n",
       "  </thead>\n",
       "  <tbody>\n",
       "    <tr>\n",
       "      <th>0</th>\n",
       "      <td>506.0</td>\n",
       "      <td>1.716290</td>\n",
       "      <td>2.653510</td>\n",
       "      <td>0.00632</td>\n",
       "      <td>0.0819</td>\n",
       "      <td>0.250895</td>\n",
       "      <td>2.326717</td>\n",
       "      <td>9.96654</td>\n",
       "    </tr>\n",
       "    <tr>\n",
       "      <th>1</th>\n",
       "      <td>506.0</td>\n",
       "      <td>11.363636</td>\n",
       "      <td>23.322453</td>\n",
       "      <td>0.00000</td>\n",
       "      <td>0.0000</td>\n",
       "      <td>0.000000</td>\n",
       "      <td>12.500000</td>\n",
       "      <td>100.00000</td>\n",
       "    </tr>\n",
       "    <tr>\n",
       "      <th>2</th>\n",
       "      <td>506.0</td>\n",
       "      <td>11.136779</td>\n",
       "      <td>6.860353</td>\n",
       "      <td>0.46000</td>\n",
       "      <td>5.1900</td>\n",
       "      <td>9.690000</td>\n",
       "      <td>18.100000</td>\n",
       "      <td>27.74000</td>\n",
       "    </tr>\n",
       "    <tr>\n",
       "      <th>3</th>\n",
       "      <td>506.0</td>\n",
       "      <td>0.069170</td>\n",
       "      <td>0.253994</td>\n",
       "      <td>0.00000</td>\n",
       "      <td>0.0000</td>\n",
       "      <td>0.000000</td>\n",
       "      <td>0.000000</td>\n",
       "      <td>1.00000</td>\n",
       "    </tr>\n",
       "    <tr>\n",
       "      <th>4</th>\n",
       "      <td>506.0</td>\n",
       "      <td>0.554695</td>\n",
       "      <td>0.115878</td>\n",
       "      <td>0.38500</td>\n",
       "      <td>0.4490</td>\n",
       "      <td>0.538000</td>\n",
       "      <td>0.624000</td>\n",
       "      <td>0.87100</td>\n",
       "    </tr>\n",
       "    <tr>\n",
       "      <th>5</th>\n",
       "      <td>506.0</td>\n",
       "      <td>6.284634</td>\n",
       "      <td>0.702617</td>\n",
       "      <td>3.56100</td>\n",
       "      <td>5.8855</td>\n",
       "      <td>6.208500</td>\n",
       "      <td>6.623500</td>\n",
       "      <td>8.78000</td>\n",
       "    </tr>\n",
       "    <tr>\n",
       "      <th>6</th>\n",
       "      <td>506.0</td>\n",
       "      <td>68.574901</td>\n",
       "      <td>28.148861</td>\n",
       "      <td>2.90000</td>\n",
       "      <td>45.0250</td>\n",
       "      <td>77.500000</td>\n",
       "      <td>94.075000</td>\n",
       "      <td>100.00000</td>\n",
       "    </tr>\n",
       "    <tr>\n",
       "      <th>7</th>\n",
       "      <td>506.0</td>\n",
       "      <td>3.696228</td>\n",
       "      <td>1.999689</td>\n",
       "      <td>0.58570</td>\n",
       "      <td>2.0737</td>\n",
       "      <td>3.107300</td>\n",
       "      <td>5.112625</td>\n",
       "      <td>9.22290</td>\n",
       "    </tr>\n",
       "    <tr>\n",
       "      <th>8</th>\n",
       "      <td>506.0</td>\n",
       "      <td>4.332016</td>\n",
       "      <td>1.417166</td>\n",
       "      <td>1.00000</td>\n",
       "      <td>4.0000</td>\n",
       "      <td>4.000000</td>\n",
       "      <td>5.000000</td>\n",
       "      <td>8.00000</td>\n",
       "    </tr>\n",
       "    <tr>\n",
       "      <th>9</th>\n",
       "      <td>506.0</td>\n",
       "      <td>408.237154</td>\n",
       "      <td>168.537116</td>\n",
       "      <td>187.00000</td>\n",
       "      <td>279.0000</td>\n",
       "      <td>330.000000</td>\n",
       "      <td>666.000000</td>\n",
       "      <td>711.00000</td>\n",
       "    </tr>\n",
       "    <tr>\n",
       "      <th>10</th>\n",
       "      <td>506.0</td>\n",
       "      <td>18.455534</td>\n",
       "      <td>2.164946</td>\n",
       "      <td>12.60000</td>\n",
       "      <td>17.4000</td>\n",
       "      <td>19.050000</td>\n",
       "      <td>20.200000</td>\n",
       "      <td>22.00000</td>\n",
       "    </tr>\n",
       "    <tr>\n",
       "      <th>11</th>\n",
       "      <td>506.0</td>\n",
       "      <td>356.674032</td>\n",
       "      <td>91.294864</td>\n",
       "      <td>0.32000</td>\n",
       "      <td>375.3775</td>\n",
       "      <td>391.440000</td>\n",
       "      <td>396.225000</td>\n",
       "      <td>396.90000</td>\n",
       "    </tr>\n",
       "    <tr>\n",
       "      <th>12</th>\n",
       "      <td>506.0</td>\n",
       "      <td>12.653063</td>\n",
       "      <td>7.141062</td>\n",
       "      <td>1.73000</td>\n",
       "      <td>6.9500</td>\n",
       "      <td>11.360000</td>\n",
       "      <td>16.955000</td>\n",
       "      <td>37.97000</td>\n",
       "    </tr>\n",
       "    <tr>\n",
       "      <th>13</th>\n",
       "      <td>506.0</td>\n",
       "      <td>22.532806</td>\n",
       "      <td>9.197104</td>\n",
       "      <td>5.00000</td>\n",
       "      <td>17.0250</td>\n",
       "      <td>21.200000</td>\n",
       "      <td>25.000000</td>\n",
       "      <td>50.00000</td>\n",
       "    </tr>\n",
       "  </tbody>\n",
       "</table>\n",
       "</div>"
      ],
      "text/plain": [
       "    count        mean         std        min       25%         50%  \\\n",
       "0   506.0    1.716290    2.653510    0.00632    0.0819    0.250895   \n",
       "1   506.0   11.363636   23.322453    0.00000    0.0000    0.000000   \n",
       "2   506.0   11.136779    6.860353    0.46000    5.1900    9.690000   \n",
       "3   506.0    0.069170    0.253994    0.00000    0.0000    0.000000   \n",
       "4   506.0    0.554695    0.115878    0.38500    0.4490    0.538000   \n",
       "5   506.0    6.284634    0.702617    3.56100    5.8855    6.208500   \n",
       "6   506.0   68.574901   28.148861    2.90000   45.0250   77.500000   \n",
       "7   506.0    3.696228    1.999689    0.58570    2.0737    3.107300   \n",
       "8   506.0    4.332016    1.417166    1.00000    4.0000    4.000000   \n",
       "9   506.0  408.237154  168.537116  187.00000  279.0000  330.000000   \n",
       "10  506.0   18.455534    2.164946   12.60000   17.4000   19.050000   \n",
       "11  506.0  356.674032   91.294864    0.32000  375.3775  391.440000   \n",
       "12  506.0   12.653063    7.141062    1.73000    6.9500   11.360000   \n",
       "13  506.0   22.532806    9.197104    5.00000   17.0250   21.200000   \n",
       "\n",
       "           75%        max  \n",
       "0     2.326717    9.96654  \n",
       "1    12.500000  100.00000  \n",
       "2    18.100000   27.74000  \n",
       "3     0.000000    1.00000  \n",
       "4     0.624000    0.87100  \n",
       "5     6.623500    8.78000  \n",
       "6    94.075000  100.00000  \n",
       "7     5.112625    9.22290  \n",
       "8     5.000000    8.00000  \n",
       "9   666.000000  711.00000  \n",
       "10   20.200000   22.00000  \n",
       "11  396.225000  396.90000  \n",
       "12   16.955000   37.97000  \n",
       "13   25.000000   50.00000  "
      ]
     },
     "execution_count": 66,
     "metadata": {},
     "output_type": "execute_result"
    }
   ],
   "source": [
    "housing_data.describe().T"
   ]
  },
  {
   "cell_type": "code",
   "execution_count": 34,
   "id": "bf66f6e5-d181-437d-99e3-0987757adb48",
   "metadata": {},
   "outputs": [],
   "source": [
    "attributes= housing_data.drop(columns=[13])"
   ]
  },
  {
   "cell_type": "code",
   "execution_count": 68,
   "id": "7155bc99-a6f8-43d9-a9f6-9fb4e402db95",
   "metadata": {},
   "outputs": [],
   "source": [
    "# Scaling the data - sets minimum to 0 and maximum to 1\n",
    "scaler = MinMaxScaler()"
   ]
  },
  {
   "cell_type": "code",
   "execution_count": 69,
   "id": "60465432-544a-4632-bffd-52feac804ddb",
   "metadata": {},
   "outputs": [
    {
     "data": {
      "text/plain": [
       "MinMaxScaler()"
      ]
     },
     "execution_count": 69,
     "metadata": {},
     "output_type": "execute_result"
    }
   ],
   "source": [
    "scaler.fit(attributes)"
   ]
  },
  {
   "cell_type": "code",
   "execution_count": 73,
   "id": "3615194a-551f-4b4c-8cbc-ce99d09c150d",
   "metadata": {},
   "outputs": [
    {
     "data": {
      "text/plain": [
       "array([  9.96654, 100.     ,  27.74   ,   1.     ,   0.871  ,   8.78   ,\n",
       "       100.     ,   9.2229 ,   8.     , 711.     ,  22.     , 396.9    ,\n",
       "        37.97   ])"
      ]
     },
     "execution_count": 73,
     "metadata": {},
     "output_type": "execute_result"
    }
   ],
   "source": [
    "scaler.data_max_"
   ]
  },
  {
   "cell_type": "code",
   "execution_count": 74,
   "id": "604a9e0c-0b09-4a24-bd37-ef3eb5fe6e08",
   "metadata": {},
   "outputs": [
    {
     "data": {
      "text/plain": [
       "array([6.320e-03, 0.000e+00, 4.600e-01, 0.000e+00, 3.850e-01, 3.561e+00,\n",
       "       2.900e+00, 5.857e-01, 1.000e+00, 1.870e+02, 1.260e+01, 3.200e-01,\n",
       "       1.730e+00])"
      ]
     },
     "execution_count": 74,
     "metadata": {},
     "output_type": "execute_result"
    }
   ],
   "source": [
    "scaler.data_min_"
   ]
  },
  {
   "cell_type": "code",
   "execution_count": 75,
   "id": "72b86f6c-910c-4336-b43f-d9f28868e8a6",
   "metadata": {},
   "outputs": [
    {
     "data": {
      "text/plain": [
       "array([9.96022e+00, 1.00000e+02, 2.72800e+01, 1.00000e+00, 4.86000e-01,\n",
       "       5.21900e+00, 9.71000e+01, 8.63720e+00, 7.00000e+00, 5.24000e+02,\n",
       "       9.40000e+00, 3.96580e+02, 3.62400e+01])"
      ]
     },
     "execution_count": 75,
     "metadata": {},
     "output_type": "execute_result"
    }
   ],
   "source": [
    "scaler.data_range_"
   ]
  },
  {
   "cell_type": "code",
   "execution_count": 79,
   "id": "1d6d8836-6855-4676-af98-535cd3cc0310",
   "metadata": {},
   "outputs": [],
   "source": [
    "#Transform\n",
    "attributes = scaler.transform(attributes)"
   ]
  },
  {
   "cell_type": "code",
   "execution_count": 35,
   "id": "d5466f4d-4fe0-4826-87cd-8359ed983c4e",
   "metadata": {},
   "outputs": [],
   "source": [
    "target = housing_data[13]"
   ]
  },
  {
   "cell_type": "code",
   "execution_count": 36,
   "id": "0e155a7c-399d-4428-a512-501b1bca15ed",
   "metadata": {},
   "outputs": [],
   "source": [
    "linear_regression = LinearRegression()"
   ]
  },
  {
   "cell_type": "code",
   "execution_count": 37,
   "id": "0a50f0de-5055-4956-a947-8a3b777fa5ad",
   "metadata": {},
   "outputs": [
    {
     "data": {
      "text/plain": [
       "LinearRegression()"
      ]
     },
     "execution_count": 37,
     "metadata": {},
     "output_type": "execute_result"
    }
   ],
   "source": [
    "linear_regression.fit(attributes, target)"
   ]
  },
  {
   "cell_type": "code",
   "execution_count": 38,
   "id": "6c7cdf37-a1b9-4b54-b1e6-d64a1259447b",
   "metadata": {},
   "outputs": [
    {
     "data": {
      "text/plain": [
       "0.7198065414937174"
      ]
     },
     "execution_count": 38,
     "metadata": {},
     "output_type": "execute_result"
    }
   ],
   "source": [
    "linear_regression.score(attributes, target)"
   ]
  },
  {
   "cell_type": "code",
   "execution_count": 41,
   "id": "15dd92d4-1d5d-4a35-945d-a873c83fca9f",
   "metadata": {},
   "outputs": [],
   "source": [
    "predictions = linear_regression.predict(attributes)"
   ]
  },
  {
   "cell_type": "code",
   "execution_count": 42,
   "id": "095cd828-01fb-4d6f-97f1-a6a8f5587860",
   "metadata": {},
   "outputs": [
    {
     "data": {
      "text/plain": [
       "23.653807404961373"
      ]
     },
     "execution_count": 42,
     "metadata": {},
     "output_type": "execute_result"
    }
   ],
   "source": [
    "mean_squared_error(target, predictions)"
   ]
  },
  {
   "cell_type": "code",
   "execution_count": 47,
   "id": "3754ab0d-d7f9-40da-a5ab-05bbae3e43b2",
   "metadata": {},
   "outputs": [
    {
     "data": {
      "text/plain": [
       "23.653807404961373"
      ]
     },
     "execution_count": 47,
     "metadata": {},
     "output_type": "execute_result"
    }
   ],
   "source": [
    "# The mean squared error serves this purpose\n",
    "((predictions - target) ** 2).sum() / len(target)"
   ]
  },
  {
   "cell_type": "code",
   "execution_count": 48,
   "id": "68012e21-2832-4c3a-acf6-9e3902a0f0a1",
   "metadata": {},
   "outputs": [
    {
     "data": {
      "text/plain": [
       "4.86351800705635"
      ]
     },
     "execution_count": 48,
     "metadata": {},
     "output_type": "execute_result"
    }
   ],
   "source": [
    "np.sqrt(mean_squared_error(target, predictions))"
   ]
  },
  {
   "cell_type": "code",
   "execution_count": 80,
   "id": "df3c8755-f758-4410-814b-1219699be275",
   "metadata": {},
   "outputs": [
    {
     "data": {
      "image/png": "[encoded data removed]",
      "text/plain": [
       "<Figure size 640x480 with 1 Axes>"
      ]
     },
     "metadata": {},
     "output_type": "display_data"
    }
   ],
   "source": [
    "plt.hist(target, bins = 'fd')\n",
    "plt.xlabel('House price [x 1e3 USD]')\n",
    "plt.ylabel('Count')\n",
    "plt.show()"
   ]
  },
  {
   "cell_type": "code",
   "execution_count": 81,
   "id": "03116ae8-5bc0-4604-849c-b0afc2114e4c",
   "metadata": {},
   "outputs": [
    {
     "data": {
      "text/plain": [
       "22.532806324110698"
      ]
     },
     "execution_count": 81,
     "metadata": {},
     "output_type": "execute_result"
    }
   ],
   "source": [
    "target.mean()"
   ]
  },
  {
   "cell_type": "code",
   "execution_count": 82,
   "id": "7dfe8f5d-7ce3-45c6-94e6-f198b63fdc29",
   "metadata": {},
   "outputs": [
    {
     "data": {
      "text/plain": [
       "1.1080984082549072"
      ]
     },
     "execution_count": 82,
     "metadata": {},
     "output_type": "execute_result"
    }
   ],
   "source": [
    "target.skew()"
   ]
  },
  {
   "cell_type": "code",
   "execution_count": 83,
   "id": "c7573d0a-690f-40db-972c-d4ca3232ff11",
   "metadata": {},
   "outputs": [
    {
     "data": {
      "text/plain": [
       "17.157373124869437"
      ]
     },
     "execution_count": 83,
     "metadata": {},
     "output_type": "execute_result"
    }
   ],
   "source": [
    "(np.abs(target - predictions) / target).mean() * 100"
   ]
  },
  {
   "cell_type": "code",
   "execution_count": 84,
   "id": "f85cce4a-5ff8-49bb-a44e-c7ca8727bd5b",
   "metadata": {},
   "outputs": [],
   "source": [
    "target_lt_10k = target[target <= 10]"
   ]
  },
  {
   "cell_type": "code",
   "execution_count": 85,
   "id": "5d5687bf-7b6d-4358-a4b9-02fc1cae896d",
   "metadata": {},
   "outputs": [],
   "source": [
    "attributes_lt_10k = housing_data.loc[target_lt_10k.index].drop(columns = 13)"
   ]
  },
  {
   "cell_type": "code",
   "execution_count": 86,
   "id": "60c75e49-f59d-4da8-9899-65d6614f2663",
   "metadata": {},
   "outputs": [],
   "source": [
    "predictions_lt_10k = linear_regression.predict(attributes_lt_10k)"
   ]
  },
  {
   "cell_type": "code",
   "execution_count": 87,
   "id": "5791df8b-6ad5-4806-b95d-b10e5ec69456",
   "metadata": {},
   "outputs": [
    {
     "data": {
      "text/plain": [
       "59.87873831261289"
      ]
     },
     "execution_count": 87,
     "metadata": {},
     "output_type": "execute_result"
    }
   ],
   "source": [
    "(np.abs(target_lt_10k - predictions_lt_10k) / target_lt_10k).mean() *100"
   ]
  },
  {
   "cell_type": "code",
   "execution_count": 88,
   "id": "887c4254-e950-4ffa-a0bb-7e7a01d3239a",
   "metadata": {},
   "outputs": [
    {
     "data": {
      "text/plain": [
       "array([ 2.09281375e-01,  1.49403979e-02,  1.27164577e-02,  3.00565375e+00,\n",
       "       -1.55234852e+01,  4.29955958e+00,  2.84848139e-03, -1.08366345e+00,\n",
       "        1.93258621e-01, -2.42034372e-03, -9.65535221e-01,  9.43510233e-03,\n",
       "       -5.25242783e-01])"
      ]
     },
     "execution_count": 88,
     "metadata": {},
     "output_type": "execute_result"
    }
   ],
   "source": [
    "linear_regression.coef_ "
   ]
  },
  {
   "cell_type": "code",
   "execution_count": 89,
   "id": "f30de15e-18e2-41b6-9609-7f9d1652025a",
   "metadata": {},
   "outputs": [
    {
     "data": {
      "text/plain": [
       "28.305110750099168"
      ]
     },
     "execution_count": 89,
     "metadata": {},
     "output_type": "execute_result"
    }
   ],
   "source": [
    "linear_regression.intercept_"
   ]
  },
  {
   "cell_type": "code",
   "execution_count": null,
   "id": "dda04ff5-5059-4a3c-8b0e-83d4bc60f7b6",
   "metadata": {},
   "outputs": [],
   "source": []
  }
 ],
 "metadata": {
  "kernelspec": {
   "display_name": "Python 3 (ipykernel)",
   "language": "python",
   "name": "python3"
  },
  "language_info": {
   "codemirror_mode": {
    "name": "ipython",
    "version": 3
   },
   "file_extension": ".py",
   "mimetype": "text/x-python",
   "name": "python",
   "nbconvert_exporter": "python",
   "pygments_lexer": "ipython3",
   "version": "3.9.13"
  }
 },
 "nbformat": 4,
 "nbformat_minor": 5
}
