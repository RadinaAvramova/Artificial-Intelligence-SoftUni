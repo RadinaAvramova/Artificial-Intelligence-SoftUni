{
 "cells": [
  {
   "cell_type": "code",
   "execution_count": 1,
   "id": "a7bf5e5d-2789-43eb-83d4-a61284d9bfa5",
   "metadata": {},
   "outputs": [],
   "source": [
    "%matplotlib inline"
   ]
  },
  {
   "cell_type": "code",
   "execution_count": 48,
   "id": "e978e386-3156-4af2-ada0-7261a1902ac6",
   "metadata": {},
   "outputs": [],
   "source": [
    "import pandas as pd\n",
    "import numpy as np\n",
    "import matplotlib.pyplot as plt\n",
    "\n",
    "from sklearn.datasets import load_iris, make_circles\n",
    "from sklearn.tree import DecisionTreeClassifier\n",
    "\n",
    "from sklearn.model_selection import train_test_split\n",
    "from sklearn.inspection import permutation_importance\n",
    "\n",
    "from sklearn.neighbors import KNeighborsClassifier\n",
    "\n",
    "from sklearn.svm import SVC, NuSVC, OneClassSVM"
   ]
  },
  {
   "cell_type": "markdown",
   "id": "5e6d0671-639d-4d6a-8233-03b471e080f5",
   "metadata": {},
   "source": [
    "# Support Vector Machines "
   ]
  },
  {
   "cell_type": "markdown",
   "id": "9a1d5351-ce8d-4ad9-b7c0-8c73d3b308c9",
   "metadata": {},
   "source": [
    "## Demos"
   ]
  },
  {
   "cell_type": "code",
   "execution_count": 3,
   "id": "f1756b24-a364-4ecd-8f90-4e6976d2d0af",
   "metadata": {},
   "outputs": [],
   "source": [
    "attributes, labels = load_iris().data, load_iris().target"
   ]
  },
  {
   "cell_type": "code",
   "execution_count": 4,
   "id": "adf51568-fe37-48f9-9acc-a9b3007bcdf7",
   "metadata": {},
   "outputs": [],
   "source": [
    "attributes_train,attributes_test, labels_train, labels_test = train_test_split(attributes, labels, test_size = 0.15, stratify=labels)"
   ]
  },
  {
   "cell_type": "code",
   "execution_count": 5,
   "id": "ede73cac-52e2-48b9-bc29-4230a6acfd78",
   "metadata": {},
   "outputs": [],
   "source": [
    "tree = DecisionTreeClassifier(min_samples_leaf = 5)"
   ]
  },
  {
   "cell_type": "code",
   "execution_count": 6,
   "id": "321611c9-b59e-4ec6-8bc3-c1b5c9ea53d1",
   "metadata": {},
   "outputs": [
    {
     "data": {
      "text/plain": [
       "DecisionTreeClassifier(min_samples_leaf=5)"
      ]
     },
     "execution_count": 6,
     "metadata": {},
     "output_type": "execute_result"
    }
   ],
   "source": [
    "tree.fit(attributes_train, labels_train)"
   ]
  },
  {
   "cell_type": "code",
   "execution_count": 7,
   "id": "d5824c2f-70c6-41d4-9f0c-f96656c39ac6",
   "metadata": {},
   "outputs": [
    {
     "data": {
      "text/plain": [
       "0.9763779527559056"
      ]
     },
     "execution_count": 7,
     "metadata": {},
     "output_type": "execute_result"
    }
   ],
   "source": [
    "tree.score(attributes_train, labels_train)"
   ]
  },
  {
   "cell_type": "code",
   "execution_count": 8,
   "id": "3c02e6a1-ad45-4d3a-a78a-7deac1cea09f",
   "metadata": {},
   "outputs": [
    {
     "data": {
      "text/plain": [
       "0.8695652173913043"
      ]
     },
     "execution_count": 8,
     "metadata": {},
     "output_type": "execute_result"
    }
   ],
   "source": [
    "tree.score(attributes_test, labels_test)"
   ]
  },
  {
   "cell_type": "code",
   "execution_count": 9,
   "id": "2c610d51-5d7c-4376-8f96-bb03c47d430f",
   "metadata": {},
   "outputs": [
    {
     "data": {
      "text/plain": [
       "array([0.        , 0.        , 0.02107465, 0.97892535])"
      ]
     },
     "execution_count": 9,
     "metadata": {},
     "output_type": "execute_result"
    }
   ],
   "source": [
    "tree.feature_importances_"
   ]
  },
  {
   "cell_type": "code",
   "execution_count": 10,
   "id": "6ffba6fb-ebfb-4e0c-955b-06c38fe511ba",
   "metadata": {
    "tags": []
   },
   "outputs": [
    {
     "name": "stdout",
     "output_type": "stream",
     "text": [
      ".. _iris_dataset:\n",
      "\n",
      "Iris plants dataset\n",
      "--------------------\n",
      "\n",
      "**Data Set Characteristics:**\n",
      "\n",
      "    :Number of Instances: 150 (50 in each of three classes)\n",
      "    :Number of Attributes: 4 numeric, predictive attributes and the class\n",
      "    :Attribute Information:\n",
      "        - sepal length in cm\n",
      "        - sepal width in cm\n",
      "        - petal length in cm\n",
      "        - petal width in cm\n",
      "        - class:\n",
      "                - Iris-Setosa\n",
      "                - Iris-Versicolour\n",
      "                - Iris-Virginica\n",
      "                \n",
      "    :Summary Statistics:\n",
      "\n",
      "    ============== ==== ==== ======= ===== ====================\n",
      "                    Min  Max   Mean    SD   Class Correlation\n",
      "    ============== ==== ==== ======= ===== ====================\n",
      "    sepal length:   4.3  7.9   5.84   0.83    0.7826\n",
      "    sepal width:    2.0  4.4   3.05   0.43   -0.4194\n",
      "    petal length:   1.0  6.9   3.76   1.76    0.9490  (high!)\n",
      "    petal width:    0.1  2.5   1.20   0.76    0.9565  (high!)\n",
      "    ============== ==== ==== ======= ===== ====================\n",
      "\n",
      "    :Missing Attribute Values: None\n",
      "    :Class Distribution: 33.3% for each of 3 classes.\n",
      "    :Creator: R.A. Fisher\n",
      "    :Donor: Michael Marshall (MARSHALL%PLU@io.arc.nasa.gov)\n",
      "    :Date: July, 1988\n",
      "\n",
      "The famous Iris database, first used by Sir R.A. Fisher. The dataset is taken\n",
      "from Fisher's paper. Note that it's the same as in R, but not as in the UCI\n",
      "Machine Learning Repository, which has two wrong data points.\n",
      "\n",
      "This is perhaps the best known database to be found in the\n",
      "pattern recognition literature.  Fisher's paper is a classic in the field and\n",
      "is referenced frequently to this day.  (See Duda & Hart, for example.)  The\n",
      "data set contains 3 classes of 50 instances each, where each class refers to a\n",
      "type of iris plant.  One class is linearly separable from the other 2; the\n",
      "latter are NOT linearly separable from each other.\n",
      "\n",
      ".. topic:: References\n",
      "\n",
      "   - Fisher, R.A. \"The use of multiple measurements in taxonomic problems\"\n",
      "     Annual Eugenics, 7, Part II, 179-188 (1936); also in \"Contributions to\n",
      "     Mathematical Statistics\" (John Wiley, NY, 1950).\n",
      "   - Duda, R.O., & Hart, P.E. (1973) Pattern Classification and Scene Analysis.\n",
      "     (Q327.D83) John Wiley & Sons.  ISBN 0-471-22361-1.  See page 218.\n",
      "   - Dasarathy, B.V. (1980) \"Nosing Around the Neighborhood: A New System\n",
      "     Structure and Classification Rule for Recognition in Partially Exposed\n",
      "     Environments\".  IEEE Transactions on Pattern Analysis and Machine\n",
      "     Intelligence, Vol. PAMI-2, No. 1, 67-71.\n",
      "   - Gates, G.W. (1972) \"The Reduced Nearest Neighbor Rule\".  IEEE Transactions\n",
      "     on Information Theory, May 1972, 431-433.\n",
      "   - See also: 1988 MLC Proceedings, 54-64.  Cheeseman et al\"s AUTOCLASS II\n",
      "     conceptual clustering system finds 3 classes in the data.\n",
      "   - Many, many more ...\n"
     ]
    }
   ],
   "source": [
    "print(load_iris().DESCR)"
   ]
  },
  {
   "cell_type": "code",
   "execution_count": 11,
   "id": "c32e69e2-687b-43dd-9bd9-c1d742cbe410",
   "metadata": {},
   "outputs": [
    {
     "data": {
      "text/plain": [
       "{'importances_mean': array([0.        , 0.        , 0.        , 0.63622047]),\n",
       " 'importances_std': array([0.        , 0.        , 0.        , 0.02193447]),\n",
       " 'importances': array([[0.        , 0.        , 0.        , 0.        , 0.        ],\n",
       "        [0.        , 0.        , 0.        , 0.        , 0.        ],\n",
       "        [0.        , 0.        , 0.        , 0.        , 0.        ],\n",
       "        [0.65354331, 0.64566929, 0.61417323, 0.60629921, 0.66141732]])}"
      ]
     },
     "execution_count": 11,
     "metadata": {},
     "output_type": "execute_result"
    }
   ],
   "source": [
    "permutation_importance(tree, attributes_train, labels_train)"
   ]
  },
  {
   "cell_type": "code",
   "execution_count": 12,
   "id": "c77c79f9-81ee-4fcf-aeb0-916067644dcf",
   "metadata": {},
   "outputs": [
    {
     "data": {
      "text/plain": [
       "array([0.       , 0.       , 0.       , 0.6519685])"
      ]
     },
     "execution_count": 12,
     "metadata": {},
     "output_type": "execute_result"
    }
   ],
   "source": [
    "permutation_importance(tree, attributes_train, labels_train)['importances_mean']"
   ]
  },
  {
   "cell_type": "code",
   "execution_count": 13,
   "id": "9f821ed2-e8ac-413f-9718-825ad89b145c",
   "metadata": {},
   "outputs": [],
   "source": [
    "# Creating new model without first two features -a.k.a. features selection\n",
    "tree_new = DecisionTreeClassifier(min_samples_leaf = 5)"
   ]
  },
  {
   "cell_type": "code",
   "execution_count": 14,
   "id": "74a566d7-344c-4856-adf7-2462be7f3064",
   "metadata": {},
   "outputs": [
    {
     "data": {
      "text/plain": [
       "DecisionTreeClassifier(min_samples_leaf=5)"
      ]
     },
     "execution_count": 14,
     "metadata": {},
     "output_type": "execute_result"
    }
   ],
   "source": [
    "tree_new.fit(attributes_train[:, 2:], labels_train)"
   ]
  },
  {
   "cell_type": "code",
   "execution_count": 15,
   "id": "96b863a3-1040-48cc-970d-314d65bec660",
   "metadata": {},
   "outputs": [],
   "source": [
    "# tree_new.score(attributes_train[:, 2:], labels_train)"
   ]
  },
  {
   "cell_type": "code",
   "execution_count": 16,
   "id": "dbb78845-e314-4bf1-97c0-6ec926e79a97",
   "metadata": {},
   "outputs": [
    {
     "data": {
      "text/plain": [
       "array([0.02107465, 0.97892535])"
      ]
     },
     "execution_count": 16,
     "metadata": {},
     "output_type": "execute_result"
    }
   ],
   "source": [
    "tree_new.feature_importances_"
   ]
  },
  {
   "cell_type": "code",
   "execution_count": 17,
   "id": "7556fed3-5b40-47ad-ac66-7a87f1f10f9c",
   "metadata": {},
   "outputs": [
    {
     "data": {
      "text/plain": [
       "array([0.        , 0.64787402])"
      ]
     },
     "execution_count": 17,
     "metadata": {},
     "output_type": "execute_result"
    }
   ],
   "source": [
    "permutation_importance(tree_new, attributes_train[:, 2:], labels_train,n_repeats=50)['importances_mean']"
   ]
  },
  {
   "cell_type": "code",
   "execution_count": null,
   "id": "62b21c4a-4d85-4ec2-819b-19ae5aa5270a",
   "metadata": {},
   "outputs": [],
   "source": []
  },
  {
   "cell_type": "code",
   "execution_count": 18,
   "id": "06fa52b1-fac8-4199-9782-521de7c91017",
   "metadata": {},
   "outputs": [],
   "source": [
    "linear_svm = SVC(C = 100, kernel='linear')"
   ]
  },
  {
   "cell_type": "code",
   "execution_count": 19,
   "id": "f92de11c-b21f-4f90-9b2c-7ac34c67172a",
   "metadata": {},
   "outputs": [
    {
     "data": {
      "text/plain": [
       "SVC(C=100, kernel='linear')"
      ]
     },
     "execution_count": 19,
     "metadata": {},
     "output_type": "execute_result"
    }
   ],
   "source": [
    "linear_svm.fit(attributes_train, labels_train)"
   ]
  },
  {
   "cell_type": "code",
   "execution_count": 20,
   "id": "7ccda02a-4b24-4907-aad6-c50986d555ca",
   "metadata": {},
   "outputs": [
    {
     "data": {
      "text/plain": [
       "(array([[ -0.16986536,   0.47475009,  -0.93090756,  -0.51261047],\n",
       "        [  0.02436512,   0.21875659,  -0.52808813,  -0.25901212],\n",
       "        [  1.18531308,   2.80460841,  -4.42449055, -10.54803585]]),\n",
       " array([ 2.03616588,  1.15110235, 24.02246187]))"
      ]
     },
     "execution_count": 20,
     "metadata": {},
     "output_type": "execute_result"
    }
   ],
   "source": [
    "linear_svm.coef_, linear_svm.intercept_"
   ]
  },
  {
   "cell_type": "code",
   "execution_count": 21,
   "id": "67ea8aa1-20a2-412c-a9f7-7f70741a7d06",
   "metadata": {},
   "outputs": [
    {
     "data": {
      "text/plain": [
       "array([[4.5, 2.3, 1.3, 0.3],\n",
       "       [5.1, 3.8, 1.9, 0.4],\n",
       "       [5.1, 2.5, 3. , 1.1],\n",
       "       [6.3, 2.5, 4.9, 1.5],\n",
       "       [5.9, 3.2, 4.8, 1.8],\n",
       "       [6. , 2.7, 5.1, 1.6],\n",
       "       [6.1, 2.6, 5.6, 1.4],\n",
       "       [4.9, 2.5, 4.5, 1.7],\n",
       "       [6. , 3. , 4.8, 1.8],\n",
       "       [6.1, 3. , 4.9, 1.8],\n",
       "       [6.2, 2.8, 4.8, 1.8]])"
      ]
     },
     "execution_count": 21,
     "metadata": {},
     "output_type": "execute_result"
    }
   ],
   "source": [
    "linear_svm.support_vectors_"
   ]
  },
  {
   "cell_type": "code",
   "execution_count": 22,
   "id": "dc04618a-dcf9-43a9-b3cd-f792669f6d31",
   "metadata": {},
   "outputs": [
    {
     "data": {
      "text/plain": [
       "0.984251968503937"
      ]
     },
     "execution_count": 22,
     "metadata": {},
     "output_type": "execute_result"
    }
   ],
   "source": [
    "linear_svm.score(attributes_train, labels_train)"
   ]
  },
  {
   "cell_type": "code",
   "execution_count": 23,
   "id": "2bf2f76c-a319-4c07-9327-d66a5d2ac1b6",
   "metadata": {},
   "outputs": [
    {
     "data": {
      "text/plain": [
       "0.9565217391304348"
      ]
     },
     "execution_count": 23,
     "metadata": {},
     "output_type": "execute_result"
    }
   ],
   "source": [
    "linear_svm.score(attributes_test, labels_test)"
   ]
  },
  {
   "cell_type": "code",
   "execution_count": 28,
   "id": "70cbec23-4d02-400e-b2dc-7e4641572f9e",
   "metadata": {},
   "outputs": [],
   "source": [
    "X, y = make_circles(n_samples=100, factor=0.5, noise=0.07)"
   ]
  },
  {
   "cell_type": "code",
   "execution_count": 29,
   "id": "097ed452-abee-4d35-b2a3-a7eca3beb05e",
   "metadata": {},
   "outputs": [
    {
     "data": {
      "image/png": "[encoded data removed]",
      "text/plain": [
       "<Figure size 640x480 with 1 Axes>"
      ]
     },
     "metadata": {},
     "output_type": "display_data"
    }
   ],
   "source": [
    "plt.scatter(X[:, 0], X[:, 1], c = y)\n",
    "plt.gca().set_aspect('equal')\n",
    "plt.show()"
   ]
  },
  {
   "cell_type": "code",
   "execution_count": 34,
   "id": "31d8e14a-1106-43ca-92f2-d5592b5ff2d9",
   "metadata": {},
   "outputs": [],
   "source": [
    "circles_linear_svm = SVC(C = 10000, kernel = 'linear')"
   ]
  },
  {
   "cell_type": "code",
   "execution_count": 35,
   "id": "85da6298-c172-455f-a8e5-dd2b7d080c74",
   "metadata": {},
   "outputs": [
    {
     "data": {
      "text/plain": [
       "SVC(C=10000, kernel='linear')"
      ]
     },
     "execution_count": 35,
     "metadata": {},
     "output_type": "execute_result"
    }
   ],
   "source": [
    "circles_linear_svm.fit(X,y)"
   ]
  },
  {
   "cell_type": "code",
   "execution_count": 36,
   "id": "9aefa667-daef-4ebd-88c2-b936bf57a948",
   "metadata": {},
   "outputs": [
    {
     "data": {
      "text/plain": [
       "0.57"
      ]
     },
     "execution_count": 36,
     "metadata": {},
     "output_type": "execute_result"
    }
   ],
   "source": [
    "circles_linear_svm.score(X, y)"
   ]
  },
  {
   "cell_type": "code",
   "execution_count": 38,
   "id": "66d3177d-b436-4c00-8cd4-cc1c0d6314ff",
   "metadata": {},
   "outputs": [],
   "source": [
    "circles_poly_svm = SVC(C = 10000, kernel = 'poly')"
   ]
  },
  {
   "cell_type": "code",
   "execution_count": 39,
   "id": "971c1183-f0f2-43f5-8d19-5def179d9873",
   "metadata": {},
   "outputs": [
    {
     "data": {
      "text/plain": [
       "SVC(C=10000, kernel='poly')"
      ]
     },
     "execution_count": 39,
     "metadata": {},
     "output_type": "execute_result"
    }
   ],
   "source": [
    "circles_poly_svm.fit(X, y)"
   ]
  },
  {
   "cell_type": "code",
   "execution_count": 40,
   "id": "6597bf20-96cd-4de0-8f9c-f88decdb1f39",
   "metadata": {},
   "outputs": [
    {
     "data": {
      "text/plain": [
       "0.66"
      ]
     },
     "execution_count": 40,
     "metadata": {},
     "output_type": "execute_result"
    }
   ],
   "source": [
    "circles_poly_svm.score(X, y)"
   ]
  },
  {
   "cell_type": "code",
   "execution_count": 44,
   "id": "c0bbec0d-56c5-462c-8903-2832642c4760",
   "metadata": {},
   "outputs": [],
   "source": [
    "circles_gaussian_svm = SVC(C = 10000, kernel = 'rbf', gamma = 0.7)"
   ]
  },
  {
   "cell_type": "code",
   "execution_count": 45,
   "id": "5705bbc4-9c72-4e00-b5e1-041349a6c87d",
   "metadata": {},
   "outputs": [
    {
     "data": {
      "text/plain": [
       "SVC(C=10000, gamma=0.7)"
      ]
     },
     "execution_count": 45,
     "metadata": {},
     "output_type": "execute_result"
    }
   ],
   "source": [
    "circles_gaussian_svm.fit(X, y)"
   ]
  },
  {
   "cell_type": "code",
   "execution_count": 46,
   "id": "8ee4f63a-6d1f-4a5b-af92-44da7bd8ce34",
   "metadata": {},
   "outputs": [
    {
     "data": {
      "text/plain": [
       "1.0"
      ]
     },
     "execution_count": 46,
     "metadata": {},
     "output_type": "execute_result"
    }
   ],
   "source": [
    "circles_gaussian_svm.score(X, y)"
   ]
  },
  {
   "cell_type": "code",
   "execution_count": 54,
   "id": "5bfca17a-e951-4e56-9574-784d5c3d20ae",
   "metadata": {},
   "outputs": [],
   "source": [
    "anomaly_detector = OneClassSVM(nu = 0.05, gamma = 0.2)"
   ]
  },
  {
   "cell_type": "code",
   "execution_count": 55,
   "id": "e52c2514-eb1d-4892-a2f3-27ec2d697972",
   "metadata": {},
   "outputs": [
    {
     "data": {
      "text/plain": [
       "OneClassSVM(gamma=0.2, nu=0.05)"
      ]
     },
     "execution_count": 55,
     "metadata": {},
     "output_type": "execute_result"
    }
   ],
   "source": [
    "anomaly_detector.fit(attributes_train)"
   ]
  },
  {
   "cell_type": "code",
   "execution_count": 56,
   "id": "d963b6c3-a407-425a-b6a5-9abf4c99f272",
   "metadata": {},
   "outputs": [
    {
     "data": {
      "text/plain": [
       "array([ 1,  1,  1,  1,  1,  1,  1,  1,  1,  1,  1,  1,  1,  1,  1,  1,  1,\n",
       "        1,  1,  1, -1,  1,  1,  1,  1,  1,  1,  1,  1,  1,  1,  1,  1,  1,\n",
       "        1,  1,  1,  1,  1,  1,  1,  1,  1, -1, -1,  1,  1,  1,  1,  1,  1,\n",
       "        1,  1,  1,  1,  1,  1,  1,  1,  1,  1,  1,  1,  1,  1,  1,  1,  1,\n",
       "        1, -1,  1,  1,  1,  1,  1, -1,  1, -1,  1,  1,  1,  1, -1,  1,  1,\n",
       "        1,  1,  1,  1,  1,  1,  1,  1,  1,  1,  1,  1,  1,  1,  1,  1,  1,\n",
       "        1,  1,  1,  1,  1,  1,  1,  1,  1,  1,  1,  1,  1,  1,  1,  1,  1,\n",
       "        1,  1,  1,  1,  1,  1,  1,  1], dtype=int64)"
      ]
     },
     "execution_count": 56,
     "metadata": {},
     "output_type": "execute_result"
    }
   ],
   "source": [
    "anomaly_detector.predict(attributes_train)"
   ]
  },
  {
   "cell_type": "code",
   "execution_count": 58,
   "id": "d8995f3e-a625-4327-928e-a188faa21118",
   "metadata": {},
   "outputs": [
    {
     "data": {
      "text/plain": [
       "OneClassSVM(gamma=0.2, nu=0.05)"
      ]
     },
     "execution_count": 58,
     "metadata": {},
     "output_type": "execute_result"
    }
   ],
   "source": [
    "anomaly_detector"
   ]
  },
  {
   "cell_type": "code",
   "execution_count": null,
   "id": "4931325b-0483-4a57-a1ee-ab9fa22cea4b",
   "metadata": {},
   "outputs": [],
   "source": []
  }
 ],
 "metadata": {
  "kernelspec": {
   "display_name": "Python 3 (ipykernel)",
   "language": "python",
   "name": "python3"
  },
  "language_info": {
   "codemirror_mode": {
    "name": "ipython",
    "version": 3
   },
   "file_extension": ".py",
   "mimetype": "text/x-python",
   "name": "python",
   "nbconvert_exporter": "python",
   "pygments_lexer": "ipython3",
   "version": "3.9.13"
  }
 },
 "nbformat": 4,
 "nbformat_minor": 5
}
