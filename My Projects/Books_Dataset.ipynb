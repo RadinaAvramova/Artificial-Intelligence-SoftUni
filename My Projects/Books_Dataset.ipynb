{
 "cells": [
  {
   "cell_type": "code",
   "execution_count": 1,
   "id": "4986fcb4-4d0a-4a41-b514-475ffb8a9877",
   "metadata": {},
   "outputs": [],
   "source": [
    "%matplotlib inline"
   ]
  },
  {
   "cell_type": "code",
   "execution_count": 143,
   "id": "86ead1d0-ec8b-45d4-85c1-f40b0feafcad",
   "metadata": {},
   "outputs": [],
   "source": [
    "import numpy as np\n",
    "import matplotlib.pyplot as plt\n",
    "import pandas as pd\n",
    "\n",
    "import seaborn as sns\n",
    "\n",
    "from scipy.stats import skew, kurtosis\n",
    "\n",
    "from sklearn.preprocessing import LabelEncoder, StandardScaler, MinMaxScaler, PolynomialFeatures\n",
    "\n",
    "from sklearn.model_selection import train_test_split\n",
    "\n",
    "from sklearn.linear_model import RANSACRegressor, LinearRegression\n",
    "\n",
    "from sklearn.ensemble import RandomForestRegressor\n",
    "\n",
    "from sklearn.metrics import mean_squared_error,r2_score"
   ]
  },
  {
   "cell_type": "markdown",
   "id": "f880769f-9e96-4fb9-b5c4-46dcc211d184",
   "metadata": {},
   "source": [
    "# Books Dataset"
   ]
  },
  {
   "cell_type": "markdown",
   "id": "855f9922-b6b2-4809-b30c-f7a7a149a2f3",
   "metadata": {},
   "source": [
    "### Read and clean data"
   ]
  },
  {
   "cell_type": "code",
   "execution_count": 3,
   "id": "29d4fbbc-f95b-4b4e-8a06-4ea283f80b55",
   "metadata": {},
   "outputs": [],
   "source": [
    "books_rates = pd.read_csv('data/Books_Data_Clean.csv')"
   ]
  },
  {
   "cell_type": "code",
   "execution_count": 4,
   "id": "40071922-029b-4e67-b039-de4bf9b970b8",
   "metadata": {},
   "outputs": [
    {
     "data": {
      "text/html": [
       "<div>\n",
       "<style scoped>\n",
       "    .dataframe tbody tr th:only-of-type {\n",
       "        vertical-align: middle;\n",
       "    }\n",
       "\n",
       "    .dataframe tbody tr th {\n",
       "        vertical-align: top;\n",
       "    }\n",
       "\n",
       "    .dataframe thead th {\n",
       "        text-align: right;\n",
       "    }\n",
       "</style>\n",
       "<table border=\"1\" class=\"dataframe\">\n",
       "  <thead>\n",
       "    <tr style=\"text-align: right;\">\n",
       "      <th></th>\n",
       "      <th>index</th>\n",
       "      <th>Publishing Year</th>\n",
       "      <th>Book Name</th>\n",
       "      <th>Author</th>\n",
       "      <th>language_code</th>\n",
       "      <th>Author_Rating</th>\n",
       "      <th>Book_average_rating</th>\n",
       "      <th>Book_ratings_count</th>\n",
       "      <th>genre</th>\n",
       "      <th>gross sales</th>\n",
       "      <th>publisher revenue</th>\n",
       "      <th>sale price</th>\n",
       "      <th>sales rank</th>\n",
       "      <th>Publisher</th>\n",
       "      <th>units sold</th>\n",
       "    </tr>\n",
       "  </thead>\n",
       "  <tbody>\n",
       "    <tr>\n",
       "      <th>0</th>\n",
       "      <td>0</td>\n",
       "      <td>1975.0</td>\n",
       "      <td>Beowulf</td>\n",
       "      <td>Unknown, Seamus Heaney</td>\n",
       "      <td>en-US</td>\n",
       "      <td>Novice</td>\n",
       "      <td>3.42</td>\n",
       "      <td>155903</td>\n",
       "      <td>genre fiction</td>\n",
       "      <td>34160.0</td>\n",
       "      <td>20496.0</td>\n",
       "      <td>4.88</td>\n",
       "      <td>1</td>\n",
       "      <td>HarperCollins Publishers</td>\n",
       "      <td>7000</td>\n",
       "    </tr>\n",
       "    <tr>\n",
       "      <th>1</th>\n",
       "      <td>1</td>\n",
       "      <td>1987.0</td>\n",
       "      <td>Batman: Year One</td>\n",
       "      <td>Frank Miller, David Mazzucchelli, Richmond Lew...</td>\n",
       "      <td>eng</td>\n",
       "      <td>Intermediate</td>\n",
       "      <td>4.23</td>\n",
       "      <td>145267</td>\n",
       "      <td>genre fiction</td>\n",
       "      <td>12437.5</td>\n",
       "      <td>7462.5</td>\n",
       "      <td>1.99</td>\n",
       "      <td>2</td>\n",
       "      <td>HarperCollins Publishers</td>\n",
       "      <td>6250</td>\n",
       "    </tr>\n",
       "    <tr>\n",
       "      <th>2</th>\n",
       "      <td>2</td>\n",
       "      <td>2015.0</td>\n",
       "      <td>Go Set a Watchman</td>\n",
       "      <td>Harper Lee</td>\n",
       "      <td>eng</td>\n",
       "      <td>Novice</td>\n",
       "      <td>3.31</td>\n",
       "      <td>138669</td>\n",
       "      <td>genre fiction</td>\n",
       "      <td>47795.0</td>\n",
       "      <td>28677.0</td>\n",
       "      <td>8.69</td>\n",
       "      <td>3</td>\n",
       "      <td>Amazon Digital Services,  Inc.</td>\n",
       "      <td>5500</td>\n",
       "    </tr>\n",
       "    <tr>\n",
       "      <th>3</th>\n",
       "      <td>3</td>\n",
       "      <td>2008.0</td>\n",
       "      <td>When You Are Engulfed in Flames</td>\n",
       "      <td>David Sedaris</td>\n",
       "      <td>en-US</td>\n",
       "      <td>Intermediate</td>\n",
       "      <td>4.04</td>\n",
       "      <td>150898</td>\n",
       "      <td>fiction</td>\n",
       "      <td>41250.0</td>\n",
       "      <td>24750.0</td>\n",
       "      <td>7.50</td>\n",
       "      <td>3</td>\n",
       "      <td>Hachette Book Group</td>\n",
       "      <td>5500</td>\n",
       "    </tr>\n",
       "    <tr>\n",
       "      <th>4</th>\n",
       "      <td>4</td>\n",
       "      <td>2011.0</td>\n",
       "      <td>Daughter of Smoke &amp; Bone</td>\n",
       "      <td>Laini Taylor</td>\n",
       "      <td>eng</td>\n",
       "      <td>Intermediate</td>\n",
       "      <td>4.04</td>\n",
       "      <td>198283</td>\n",
       "      <td>genre fiction</td>\n",
       "      <td>37952.5</td>\n",
       "      <td>22771.5</td>\n",
       "      <td>7.99</td>\n",
       "      <td>4</td>\n",
       "      <td>Penguin Group (USA) LLC</td>\n",
       "      <td>4750</td>\n",
       "    </tr>\n",
       "  </tbody>\n",
       "</table>\n",
       "</div>"
      ],
      "text/plain": [
       "   index  Publishing Year                        Book Name  \\\n",
       "0      0           1975.0                          Beowulf   \n",
       "1      1           1987.0                 Batman: Year One   \n",
       "2      2           2015.0                Go Set a Watchman   \n",
       "3      3           2008.0  When You Are Engulfed in Flames   \n",
       "4      4           2011.0         Daughter of Smoke & Bone   \n",
       "\n",
       "                                              Author language_code  \\\n",
       "0                             Unknown, Seamus Heaney         en-US   \n",
       "1  Frank Miller, David Mazzucchelli, Richmond Lew...           eng   \n",
       "2                                         Harper Lee           eng   \n",
       "3                                      David Sedaris         en-US   \n",
       "4                                       Laini Taylor           eng   \n",
       "\n",
       "  Author_Rating  Book_average_rating  Book_ratings_count          genre  \\\n",
       "0        Novice                 3.42              155903  genre fiction   \n",
       "1  Intermediate                 4.23              145267  genre fiction   \n",
       "2        Novice                 3.31              138669  genre fiction   \n",
       "3  Intermediate                 4.04              150898        fiction   \n",
       "4  Intermediate                 4.04              198283  genre fiction   \n",
       "\n",
       "   gross sales  publisher revenue  sale price  sales rank  \\\n",
       "0      34160.0            20496.0        4.88           1   \n",
       "1      12437.5             7462.5        1.99           2   \n",
       "2      47795.0            28677.0        8.69           3   \n",
       "3      41250.0            24750.0        7.50           3   \n",
       "4      37952.5            22771.5        7.99           4   \n",
       "\n",
       "                       Publisher   units sold  \n",
       "0        HarperCollins Publishers        7000  \n",
       "1        HarperCollins Publishers        6250  \n",
       "2  Amazon Digital Services,  Inc.        5500  \n",
       "3             Hachette Book Group        5500  \n",
       "4         Penguin Group (USA) LLC        4750  "
      ]
     },
     "execution_count": 4,
     "metadata": {},
     "output_type": "execute_result"
    }
   ],
   "source": [
    "books_rates.head()"
   ]
  },
  {
   "cell_type": "code",
   "execution_count": 5,
   "id": "566346d9-acde-4a46-8cf7-b1c9af8fab52",
   "metadata": {},
   "outputs": [],
   "source": [
    "# Rename columns\n",
    "books_rates.columns = books_rates.columns.str.strip().str.lower().str.replace(' ', '_')"
   ]
  },
  {
   "cell_type": "code",
   "execution_count": 6,
   "id": "c6f7c011-ff03-4089-b7a8-72be540f6fe6",
   "metadata": {},
   "outputs": [
    {
     "data": {
      "text/plain": [
       "Index(['index', 'publishing_year', 'book_name', 'author', 'language_code',\n",
       "       'author_rating', 'book_average_rating', 'book_ratings_count', 'genre',\n",
       "       'gross_sales', 'publisher_revenue', 'sale_price', 'sales_rank',\n",
       "       'publisher', 'units_sold'],\n",
       "      dtype='object')"
      ]
     },
     "execution_count": 6,
     "metadata": {},
     "output_type": "execute_result"
    }
   ],
   "source": [
    "books_rates.columns"
   ]
  },
  {
   "cell_type": "code",
   "execution_count": 7,
   "id": "0e6b6d3f-20b9-4fa2-bde7-e6551eeb3ed7",
   "metadata": {},
   "outputs": [],
   "source": [
    "# Convert publisher_year from float to int\n",
    "books_rates['publishing_year'] = books_rates['publishing_year'].astype('Int64', errors='ignore')\n"
   ]
  },
  {
   "cell_type": "code",
   "execution_count": 8,
   "id": "c2573a24-64f3-4bb9-93bf-318a623ef69e",
   "metadata": {},
   "outputs": [
    {
     "data": {
      "text/plain": [
       "0       1975\n",
       "1       1987\n",
       "2       2015\n",
       "3       2008\n",
       "4       2011\n",
       "        ... \n",
       "1065    2014\n",
       "1066    1989\n",
       "1067    1930\n",
       "1068    2011\n",
       "1069    1999\n",
       "Name: publishing_year, Length: 1070, dtype: Int64"
      ]
     },
     "execution_count": 8,
     "metadata": {},
     "output_type": "execute_result"
    }
   ],
   "source": [
    "books_rates.publishing_year"
   ]
  },
  {
   "cell_type": "code",
   "execution_count": 9,
   "id": "dd1df810-912d-436c-98ed-f9411da0a0ff",
   "metadata": {},
   "outputs": [
    {
     "name": "stdout",
     "output_type": "stream",
     "text": [
      "<class 'pandas.core.frame.DataFrame'>\n",
      "RangeIndex: 1070 entries, 0 to 1069\n",
      "Data columns (total 15 columns):\n",
      " #   Column               Non-Null Count  Dtype  \n",
      "---  ------               --------------  -----  \n",
      " 0   index                1070 non-null   int64  \n",
      " 1   publishing_year      1069 non-null   Int64  \n",
      " 2   book_name            1047 non-null   object \n",
      " 3   author               1070 non-null   object \n",
      " 4   language_code        1017 non-null   object \n",
      " 5   author_rating        1070 non-null   object \n",
      " 6   book_average_rating  1070 non-null   float64\n",
      " 7   book_ratings_count   1070 non-null   int64  \n",
      " 8   genre                1070 non-null   object \n",
      " 9   gross_sales          1070 non-null   float64\n",
      " 10  publisher_revenue    1070 non-null   float64\n",
      " 11  sale_price           1070 non-null   float64\n",
      " 12  sales_rank           1070 non-null   int64  \n",
      " 13  publisher            1070 non-null   object \n",
      " 14  units_sold           1070 non-null   int64  \n",
      "dtypes: Int64(1), float64(4), int64(4), object(6)\n",
      "memory usage: 126.6+ KB\n"
     ]
    }
   ],
   "source": [
    "books_rates.info()"
   ]
  },
  {
   "cell_type": "code",
   "execution_count": 10,
   "id": "c7a6bd8e-d5ba-42cc-af54-3fb396c11519",
   "metadata": {},
   "outputs": [
    {
     "data": {
      "text/html": [
       "<div>\n",
       "<style scoped>\n",
       "    .dataframe tbody tr th:only-of-type {\n",
       "        vertical-align: middle;\n",
       "    }\n",
       "\n",
       "    .dataframe tbody tr th {\n",
       "        vertical-align: top;\n",
       "    }\n",
       "\n",
       "    .dataframe thead th {\n",
       "        text-align: right;\n",
       "    }\n",
       "</style>\n",
       "<table border=\"1\" class=\"dataframe\">\n",
       "  <thead>\n",
       "    <tr style=\"text-align: right;\">\n",
       "      <th></th>\n",
       "      <th>count</th>\n",
       "      <th>mean</th>\n",
       "      <th>std</th>\n",
       "      <th>min</th>\n",
       "      <th>25%</th>\n",
       "      <th>50%</th>\n",
       "      <th>75%</th>\n",
       "      <th>max</th>\n",
       "    </tr>\n",
       "  </thead>\n",
       "  <tbody>\n",
       "    <tr>\n",
       "      <th>index</th>\n",
       "      <td>1070.0</td>\n",
       "      <td>534.500000</td>\n",
       "      <td>309.026698</td>\n",
       "      <td>0.00</td>\n",
       "      <td>267.250</td>\n",
       "      <td>534.500</td>\n",
       "      <td>801.7500</td>\n",
       "      <td>1069.00</td>\n",
       "    </tr>\n",
       "    <tr>\n",
       "      <th>publishing_year</th>\n",
       "      <td>1069.0</td>\n",
       "      <td>1971.377923</td>\n",
       "      <td>185.080257</td>\n",
       "      <td>-560.00</td>\n",
       "      <td>1985.000</td>\n",
       "      <td>2003.000</td>\n",
       "      <td>2010.0000</td>\n",
       "      <td>2016.00</td>\n",
       "    </tr>\n",
       "    <tr>\n",
       "      <th>book_average_rating</th>\n",
       "      <td>1070.0</td>\n",
       "      <td>4.007000</td>\n",
       "      <td>0.247244</td>\n",
       "      <td>2.97</td>\n",
       "      <td>3.850</td>\n",
       "      <td>4.015</td>\n",
       "      <td>4.1700</td>\n",
       "      <td>4.77</td>\n",
       "    </tr>\n",
       "    <tr>\n",
       "      <th>book_ratings_count</th>\n",
       "      <td>1070.0</td>\n",
       "      <td>94909.913084</td>\n",
       "      <td>31513.242518</td>\n",
       "      <td>27308.00</td>\n",
       "      <td>70398.000</td>\n",
       "      <td>89309.000</td>\n",
       "      <td>113906.5000</td>\n",
       "      <td>206792.00</td>\n",
       "    </tr>\n",
       "    <tr>\n",
       "      <th>gross_sales</th>\n",
       "      <td>1070.0</td>\n",
       "      <td>1856.622944</td>\n",
       "      <td>3936.924240</td>\n",
       "      <td>104.94</td>\n",
       "      <td>372.465</td>\n",
       "      <td>809.745</td>\n",
       "      <td>1487.9575</td>\n",
       "      <td>47795.00</td>\n",
       "    </tr>\n",
       "    <tr>\n",
       "      <th>publisher_revenue</th>\n",
       "      <td>1070.0</td>\n",
       "      <td>843.281030</td>\n",
       "      <td>2257.596743</td>\n",
       "      <td>0.00</td>\n",
       "      <td>0.000</td>\n",
       "      <td>273.078</td>\n",
       "      <td>721.1805</td>\n",
       "      <td>28677.00</td>\n",
       "    </tr>\n",
       "    <tr>\n",
       "      <th>sale_price</th>\n",
       "      <td>1070.0</td>\n",
       "      <td>4.869561</td>\n",
       "      <td>3.559919</td>\n",
       "      <td>0.99</td>\n",
       "      <td>1.990</td>\n",
       "      <td>3.990</td>\n",
       "      <td>6.9900</td>\n",
       "      <td>33.86</td>\n",
       "    </tr>\n",
       "    <tr>\n",
       "      <th>sales_rank</th>\n",
       "      <td>1070.0</td>\n",
       "      <td>611.652336</td>\n",
       "      <td>369.849830</td>\n",
       "      <td>1.00</td>\n",
       "      <td>287.500</td>\n",
       "      <td>595.500</td>\n",
       "      <td>932.5000</td>\n",
       "      <td>1273.00</td>\n",
       "    </tr>\n",
       "    <tr>\n",
       "      <th>units_sold</th>\n",
       "      <td>1070.0</td>\n",
       "      <td>9676.980374</td>\n",
       "      <td>15370.571306</td>\n",
       "      <td>106.00</td>\n",
       "      <td>551.250</td>\n",
       "      <td>3924.000</td>\n",
       "      <td>5312.2500</td>\n",
       "      <td>61560.00</td>\n",
       "    </tr>\n",
       "  </tbody>\n",
       "</table>\n",
       "</div>"
      ],
      "text/plain": [
       "                      count          mean           std       min        25%  \\\n",
       "index                1070.0    534.500000    309.026698      0.00    267.250   \n",
       "publishing_year      1069.0   1971.377923    185.080257   -560.00   1985.000   \n",
       "book_average_rating  1070.0      4.007000      0.247244      2.97      3.850   \n",
       "book_ratings_count   1070.0  94909.913084  31513.242518  27308.00  70398.000   \n",
       "gross_sales          1070.0   1856.622944   3936.924240    104.94    372.465   \n",
       "publisher_revenue    1070.0    843.281030   2257.596743      0.00      0.000   \n",
       "sale_price           1070.0      4.869561      3.559919      0.99      1.990   \n",
       "sales_rank           1070.0    611.652336    369.849830      1.00    287.500   \n",
       "units_sold           1070.0   9676.980374  15370.571306    106.00    551.250   \n",
       "\n",
       "                           50%          75%        max  \n",
       "index                  534.500     801.7500    1069.00  \n",
       "publishing_year       2003.000    2010.0000    2016.00  \n",
       "book_average_rating      4.015       4.1700       4.77  \n",
       "book_ratings_count   89309.000  113906.5000  206792.00  \n",
       "gross_sales            809.745    1487.9575   47795.00  \n",
       "publisher_revenue      273.078     721.1805   28677.00  \n",
       "sale_price               3.990       6.9900      33.86  \n",
       "sales_rank             595.500     932.5000    1273.00  \n",
       "units_sold            3924.000    5312.2500   61560.00  "
      ]
     },
     "execution_count": 10,
     "metadata": {},
     "output_type": "execute_result"
    }
   ],
   "source": [
    "books_rates.describe().T"
   ]
  },
  {
   "cell_type": "code",
   "execution_count": 11,
   "id": "220ab137-153b-462d-99c8-56d147985bfd",
   "metadata": {},
   "outputs": [
    {
     "data": {
      "text/plain": [
       "(1070, 15)"
      ]
     },
     "execution_count": 11,
     "metadata": {},
     "output_type": "execute_result"
    }
   ],
   "source": [
    "books_rates.shape"
   ]
  },
  {
   "cell_type": "code",
   "execution_count": 12,
   "id": "7cc0578e-3a1d-499f-afc5-543b0c0fa287",
   "metadata": {},
   "outputs": [
    {
     "data": {
      "text/plain": [
       "index                   0\n",
       "publishing_year         1\n",
       "book_name              23\n",
       "author                  0\n",
       "language_code          53\n",
       "author_rating           0\n",
       "book_average_rating     0\n",
       "book_ratings_count      0\n",
       "genre                   0\n",
       "gross_sales             0\n",
       "publisher_revenue       0\n",
       "sale_price              0\n",
       "sales_rank              0\n",
       "publisher               0\n",
       "units_sold              0\n",
       "dtype: int64"
      ]
     },
     "execution_count": 12,
     "metadata": {},
     "output_type": "execute_result"
    }
   ],
   "source": [
    "books_rates.isnull().sum()"
   ]
  },
  {
   "cell_type": "code",
   "execution_count": 13,
   "id": "5cffde8c-41b4-4c4c-80a9-aa5ae48907bd",
   "metadata": {},
   "outputs": [
    {
     "data": {
      "text/html": [
       "<div>\n",
       "<style scoped>\n",
       "    .dataframe tbody tr th:only-of-type {\n",
       "        vertical-align: middle;\n",
       "    }\n",
       "\n",
       "    .dataframe tbody tr th {\n",
       "        vertical-align: top;\n",
       "    }\n",
       "\n",
       "    .dataframe thead th {\n",
       "        text-align: right;\n",
       "    }\n",
       "</style>\n",
       "<table border=\"1\" class=\"dataframe\">\n",
       "  <thead>\n",
       "    <tr style=\"text-align: right;\">\n",
       "      <th></th>\n",
       "      <th>index</th>\n",
       "      <th>publishing_year</th>\n",
       "      <th>book_name</th>\n",
       "      <th>author</th>\n",
       "      <th>language_code</th>\n",
       "      <th>author_rating</th>\n",
       "      <th>book_average_rating</th>\n",
       "      <th>book_ratings_count</th>\n",
       "      <th>genre</th>\n",
       "      <th>gross_sales</th>\n",
       "      <th>publisher_revenue</th>\n",
       "      <th>sale_price</th>\n",
       "      <th>sales_rank</th>\n",
       "      <th>publisher</th>\n",
       "      <th>units_sold</th>\n",
       "    </tr>\n",
       "  </thead>\n",
       "  <tbody>\n",
       "    <tr>\n",
       "      <th>22</th>\n",
       "      <td>22</td>\n",
       "      <td>1991</td>\n",
       "      <td>Needful Things</td>\n",
       "      <td>Stephen King</td>\n",
       "      <td>NaN</td>\n",
       "      <td>Intermediate</td>\n",
       "      <td>3.87</td>\n",
       "      <td>153821</td>\n",
       "      <td>genre fiction</td>\n",
       "      <td>2772.00</td>\n",
       "      <td>0.000</td>\n",
       "      <td>0.99</td>\n",
       "      <td>23</td>\n",
       "      <td>Amazon Digital Services,  Inc.</td>\n",
       "      <td>2800</td>\n",
       "    </tr>\n",
       "    <tr>\n",
       "      <th>24</th>\n",
       "      <td>24</td>\n",
       "      <td>1996</td>\n",
       "      <td>NaN</td>\n",
       "      <td>Kenneth Branagh, William Shakespeare</td>\n",
       "      <td>eng</td>\n",
       "      <td>Intermediate</td>\n",
       "      <td>4.12</td>\n",
       "      <td>156869</td>\n",
       "      <td>genre fiction</td>\n",
       "      <td>2639.34</td>\n",
       "      <td>1583.604</td>\n",
       "      <td>0.99</td>\n",
       "      <td>25</td>\n",
       "      <td>Amazon Digital Services,  Inc.</td>\n",
       "      <td>2666</td>\n",
       "    </tr>\n",
       "    <tr>\n",
       "      <th>34</th>\n",
       "      <td>34</td>\n",
       "      <td>2007</td>\n",
       "      <td>NaN</td>\n",
       "      <td>Brandon Sanderson</td>\n",
       "      <td>eng</td>\n",
       "      <td>Intermediate</td>\n",
       "      <td>4.35</td>\n",
       "      <td>150736</td>\n",
       "      <td>genre fiction</td>\n",
       "      <td>17980.00</td>\n",
       "      <td>10788.000</td>\n",
       "      <td>8.99</td>\n",
       "      <td>35</td>\n",
       "      <td>Random House LLC</td>\n",
       "      <td>2000</td>\n",
       "    </tr>\n",
       "    <tr>\n",
       "      <th>74</th>\n",
       "      <td>74</td>\n",
       "      <td>2007</td>\n",
       "      <td>Are You There, Vodka? It's Me, Chelsea</td>\n",
       "      <td>Chelsea Handler</td>\n",
       "      <td>NaN</td>\n",
       "      <td>Intermediate</td>\n",
       "      <td>3.85</td>\n",
       "      <td>127096</td>\n",
       "      <td>genre fiction</td>\n",
       "      <td>5462.31</td>\n",
       "      <td>3277.386</td>\n",
       "      <td>3.99</td>\n",
       "      <td>76</td>\n",
       "      <td>Hachette Book Group</td>\n",
       "      <td>1369</td>\n",
       "    </tr>\n",
       "    <tr>\n",
       "      <th>105</th>\n",
       "      <td>105</td>\n",
       "      <td>2011</td>\n",
       "      <td>NaN</td>\n",
       "      <td>Mark Cotta Vaz</td>\n",
       "      <td>eng</td>\n",
       "      <td>Intermediate</td>\n",
       "      <td>4.30</td>\n",
       "      <td>188136</td>\n",
       "      <td>genre fiction</td>\n",
       "      <td>7670.40</td>\n",
       "      <td>4602.240</td>\n",
       "      <td>7.99</td>\n",
       "      <td>108</td>\n",
       "      <td>Penguin Group (USA) LLC</td>\n",
       "      <td>960</td>\n",
       "    </tr>\n",
       "    <tr>\n",
       "      <th>...</th>\n",
       "      <td>...</td>\n",
       "      <td>...</td>\n",
       "      <td>...</td>\n",
       "      <td>...</td>\n",
       "      <td>...</td>\n",
       "      <td>...</td>\n",
       "      <td>...</td>\n",
       "      <td>...</td>\n",
       "      <td>...</td>\n",
       "      <td>...</td>\n",
       "      <td>...</td>\n",
       "      <td>...</td>\n",
       "      <td>...</td>\n",
       "      <td>...</td>\n",
       "      <td>...</td>\n",
       "    </tr>\n",
       "    <tr>\n",
       "      <th>1031</th>\n",
       "      <td>1031</td>\n",
       "      <td>2015</td>\n",
       "      <td>NaN</td>\n",
       "      <td>Colleen Hoover</td>\n",
       "      <td>en-GB</td>\n",
       "      <td>Excellent</td>\n",
       "      <td>4.25</td>\n",
       "      <td>72611</td>\n",
       "      <td>nonfiction</td>\n",
       "      <td>1175.93</td>\n",
       "      <td>705.558</td>\n",
       "      <td>10.99</td>\n",
       "      <td>1218</td>\n",
       "      <td>Amazon Digital Services,  Inc.</td>\n",
       "      <td>107</td>\n",
       "    </tr>\n",
       "    <tr>\n",
       "      <th>1032</th>\n",
       "      <td>1032</td>\n",
       "      <td>2012</td>\n",
       "      <td>Pines</td>\n",
       "      <td>Blake Crouch</td>\n",
       "      <td>NaN</td>\n",
       "      <td>Intermediate</td>\n",
       "      <td>3.88</td>\n",
       "      <td>34789</td>\n",
       "      <td>genre fiction</td>\n",
       "      <td>105.93</td>\n",
       "      <td>0.000</td>\n",
       "      <td>0.99</td>\n",
       "      <td>1218</td>\n",
       "      <td>Amazon Digital Services,  Inc.</td>\n",
       "      <td>107</td>\n",
       "    </tr>\n",
       "    <tr>\n",
       "      <th>1033</th>\n",
       "      <td>1033</td>\n",
       "      <td>1994</td>\n",
       "      <td>Disclosure</td>\n",
       "      <td>Michael Crichton</td>\n",
       "      <td>NaN</td>\n",
       "      <td>Intermediate</td>\n",
       "      <td>3.76</td>\n",
       "      <td>57818</td>\n",
       "      <td>genre fiction</td>\n",
       "      <td>854.93</td>\n",
       "      <td>512.958</td>\n",
       "      <td>7.99</td>\n",
       "      <td>1219</td>\n",
       "      <td>Random House LLC</td>\n",
       "      <td>107</td>\n",
       "    </tr>\n",
       "    <tr>\n",
       "      <th>1059</th>\n",
       "      <td>1059</td>\n",
       "      <td>1955</td>\n",
       "      <td>Beezus and Ramona</td>\n",
       "      <td>Beverly Cleary</td>\n",
       "      <td>NaN</td>\n",
       "      <td>Intermediate</td>\n",
       "      <td>3.97</td>\n",
       "      <td>75987</td>\n",
       "      <td>genre fiction</td>\n",
       "      <td>740.94</td>\n",
       "      <td>444.564</td>\n",
       "      <td>6.99</td>\n",
       "      <td>1257</td>\n",
       "      <td>Random House LLC</td>\n",
       "      <td>106</td>\n",
       "    </tr>\n",
       "    <tr>\n",
       "      <th>1060</th>\n",
       "      <td>1060</td>\n",
       "      <td>1972</td>\n",
       "      <td>The Farthest Shore</td>\n",
       "      <td>Ursula K. Le Guin</td>\n",
       "      <td>NaN</td>\n",
       "      <td>Excellent</td>\n",
       "      <td>4.11</td>\n",
       "      <td>65626</td>\n",
       "      <td>nonfiction</td>\n",
       "      <td>210.94</td>\n",
       "      <td>0.000</td>\n",
       "      <td>1.99</td>\n",
       "      <td>1258</td>\n",
       "      <td>Amazon Digital Services,  Inc.</td>\n",
       "      <td>106</td>\n",
       "    </tr>\n",
       "  </tbody>\n",
       "</table>\n",
       "<p>72 rows × 15 columns</p>\n",
       "</div>"
      ],
      "text/plain": [
       "      index  publishing_year                               book_name  \\\n",
       "22       22             1991                          Needful Things   \n",
       "24       24             1996                                     NaN   \n",
       "34       34             2007                                     NaN   \n",
       "74       74             2007  Are You There, Vodka? It's Me, Chelsea   \n",
       "105     105             2011                                     NaN   \n",
       "...     ...              ...                                     ...   \n",
       "1031   1031             2015                                     NaN   \n",
       "1032   1032             2012                                   Pines   \n",
       "1033   1033             1994                              Disclosure   \n",
       "1059   1059             1955                       Beezus and Ramona   \n",
       "1060   1060             1972                      The Farthest Shore   \n",
       "\n",
       "                                    author language_code author_rating  \\\n",
       "22                            Stephen King           NaN  Intermediate   \n",
       "24    Kenneth Branagh, William Shakespeare           eng  Intermediate   \n",
       "34                       Brandon Sanderson           eng  Intermediate   \n",
       "74                         Chelsea Handler           NaN  Intermediate   \n",
       "105                         Mark Cotta Vaz           eng  Intermediate   \n",
       "...                                    ...           ...           ...   \n",
       "1031                        Colleen Hoover         en-GB     Excellent   \n",
       "1032                          Blake Crouch           NaN  Intermediate   \n",
       "1033                      Michael Crichton           NaN  Intermediate   \n",
       "1059                        Beverly Cleary           NaN  Intermediate   \n",
       "1060                     Ursula K. Le Guin           NaN     Excellent   \n",
       "\n",
       "      book_average_rating  book_ratings_count          genre  gross_sales  \\\n",
       "22                   3.87              153821  genre fiction      2772.00   \n",
       "24                   4.12              156869  genre fiction      2639.34   \n",
       "34                   4.35              150736  genre fiction     17980.00   \n",
       "74                   3.85              127096  genre fiction      5462.31   \n",
       "105                  4.30              188136  genre fiction      7670.40   \n",
       "...                   ...                 ...            ...          ...   \n",
       "1031                 4.25               72611     nonfiction      1175.93   \n",
       "1032                 3.88               34789  genre fiction       105.93   \n",
       "1033                 3.76               57818  genre fiction       854.93   \n",
       "1059                 3.97               75987  genre fiction       740.94   \n",
       "1060                 4.11               65626     nonfiction       210.94   \n",
       "\n",
       "      publisher_revenue  sale_price  sales_rank  \\\n",
       "22                0.000        0.99          23   \n",
       "24             1583.604        0.99          25   \n",
       "34            10788.000        8.99          35   \n",
       "74             3277.386        3.99          76   \n",
       "105            4602.240        7.99         108   \n",
       "...                 ...         ...         ...   \n",
       "1031            705.558       10.99        1218   \n",
       "1032              0.000        0.99        1218   \n",
       "1033            512.958        7.99        1219   \n",
       "1059            444.564        6.99        1257   \n",
       "1060              0.000        1.99        1258   \n",
       "\n",
       "                           publisher  units_sold  \n",
       "22    Amazon Digital Services,  Inc.        2800  \n",
       "24    Amazon Digital Services,  Inc.        2666  \n",
       "34                  Random House LLC        2000  \n",
       "74               Hachette Book Group        1369  \n",
       "105          Penguin Group (USA) LLC         960  \n",
       "...                              ...         ...  \n",
       "1031  Amazon Digital Services,  Inc.         107  \n",
       "1032  Amazon Digital Services,  Inc.         107  \n",
       "1033                Random House LLC         107  \n",
       "1059                Random House LLC         106  \n",
       "1060  Amazon Digital Services,  Inc.         106  \n",
       "\n",
       "[72 rows x 15 columns]"
      ]
     },
     "execution_count": 13,
     "metadata": {},
     "output_type": "execute_result"
    }
   ],
   "source": [
    "# Check how many rows will be lost if we delete NaN values – 78 or approximately 7.3%.\n",
    "books_rates[books_rates.book_name.isnull() | books_rates.publishing_year.isnull() | books_rates.language_code.isnull()]"
   ]
  },
  {
   "cell_type": "code",
   "execution_count": 14,
   "id": "3637417c-009e-4aa5-bdd6-3126df858955",
   "metadata": {},
   "outputs": [],
   "source": [
    "books_rates = books_rates.dropna()"
   ]
  },
  {
   "cell_type": "code",
   "execution_count": 15,
   "id": "433a333e-acdc-48f7-bb4b-84809084f8f4",
   "metadata": {},
   "outputs": [
    {
     "data": {
      "text/plain": [
       "(998, 15)"
      ]
     },
     "execution_count": 15,
     "metadata": {},
     "output_type": "execute_result"
    }
   ],
   "source": [
    "books_rates.shape"
   ]
  },
  {
   "cell_type": "code",
   "execution_count": 16,
   "id": "880c6862-1ef4-43dd-bd6a-014a23c2e65f",
   "metadata": {},
   "outputs": [
    {
     "name": "stdout",
     "output_type": "stream",
     "text": [
      "\n",
      " AUTHOR ****\n",
      "Stephen King                 27\n",
      "Nicholas Sparks              10\n",
      "Jim Butcher                  10\n",
      "Charlaine Harris             10\n",
      "Jodi Picoult                  9\n",
      "                             ..\n",
      "Michael Connelly              1\n",
      "Ayn Rand                      1\n",
      "Judi Barrett, Ron Barrett     1\n",
      "Helen Simonson                1\n",
      "Dashiell Hammett              1\n",
      "Name: author, Length: 698, dtype: int64\n",
      "\n",
      " LANGUAGE_CODE ****\n",
      "eng      725\n",
      "en-US    228\n",
      "en-GB     29\n",
      "en-CA      7\n",
      "fre        4\n",
      "spa        2\n",
      "ara        2\n",
      "nl         1\n",
      "Name: language_code, dtype: int64\n",
      "\n",
      " AUTHOR_RATING ****\n",
      "Intermediate    589\n",
      "Excellent       333\n",
      "Famous           47\n",
      "Novice           29\n",
      "Name: author_rating, dtype: int64\n",
      "\n",
      " GENRE ****\n",
      "genre fiction    772\n",
      "nonfiction       156\n",
      "fiction           55\n",
      "children          15\n",
      "Name: genre, dtype: int64\n",
      "\n",
      " PUBLISHER ****\n",
      "Amazon Digital Services,  Inc.          566\n",
      "Random House LLC                        111\n",
      "Penguin Group (USA) LLC                  97\n",
      "HarperCollins Publishers                 65\n",
      "Hachette Book Group                      56\n",
      "Simon and Schuster Digital Sales Inc     55\n",
      "Macmillan                                40\n",
      "HarperCollins Publishing                  4\n",
      "HarperCollins Christian Publishing        4\n",
      "Name: publisher, dtype: int64\n"
     ]
    }
   ],
   "source": [
    "cat_columns = books_rates.select_dtypes(include='object')\n",
    "\n",
    "for col in cat_columns:\n",
    "    if col != 'book_name':\n",
    "        print('\\n',col.upper(), '****')\n",
    "        print(books_rates[col].value_counts())"
   ]
  },
  {
   "cell_type": "markdown",
   "id": "fb17af50-fbd2-467a-b6dd-9ea8debb8975",
   "metadata": {},
   "source": [
    "### Exploration of the data"
   ]
  },
  {
   "cell_type": "code",
   "execution_count": 17,
   "id": "d7afe103-747d-49c3-bc21-04b1c2b86b60",
   "metadata": {},
   "outputs": [
    {
     "name": "stdout",
     "output_type": "stream",
     "text": [
      "Top ten authors by sales\n"
     ]
    },
    {
     "data": {
      "text/plain": [
       "author\n",
       "Harper Lee                47795.00\n",
       "David Sedaris             42323.41\n",
       "Charlaine Harris          39453.08\n",
       "Stephen King              39203.89\n",
       "Laini Taylor              38278.41\n",
       "Unknown, Seamus Heaney    34160.00\n",
       "Sarah Dessen              31034.85\n",
       "Colleen Hoover            29706.14\n",
       "C.S. Lewis                28972.57\n",
       "Jeffrey Eugenides         27984.38\n",
       "Name: gross_sales, dtype: float64"
      ]
     },
     "execution_count": 17,
     "metadata": {},
     "output_type": "execute_result"
    }
   ],
   "source": [
    "#Best-selling author\n",
    "total_sales_per_author  = books_rates.groupby('author')['gross_sales'].sum()\n",
    "\n",
    "top_authors = total_sales_per_author.sort_values(ascending=False).head(10)\n",
    "\n",
    "print('Top ten authors by sales')\n",
    "top_authors"
   ]
  },
  {
   "cell_type": "code",
   "execution_count": 18,
   "id": "afdfdb6d-e469-4824-8346-b5abb4b7da12",
   "metadata": {},
   "outputs": [
    {
     "name": "stdout",
     "output_type": "stream",
     "text": [
      "Top ten selling books\n"
     ]
    },
    {
     "data": {
      "text/html": [
       "<div>\n",
       "<style scoped>\n",
       "    .dataframe tbody tr th:only-of-type {\n",
       "        vertical-align: middle;\n",
       "    }\n",
       "\n",
       "    .dataframe tbody tr th {\n",
       "        vertical-align: top;\n",
       "    }\n",
       "\n",
       "    .dataframe thead th {\n",
       "        text-align: right;\n",
       "    }\n",
       "</style>\n",
       "<table border=\"1\" class=\"dataframe\">\n",
       "  <thead>\n",
       "    <tr style=\"text-align: right;\">\n",
       "      <th></th>\n",
       "      <th>book_name</th>\n",
       "      <th>gross_sales</th>\n",
       "      <th>author</th>\n",
       "    </tr>\n",
       "  </thead>\n",
       "  <tbody>\n",
       "    <tr>\n",
       "      <th>0</th>\n",
       "      <td>Night Road</td>\n",
       "      <td>104.94</td>\n",
       "      <td>Kristin Hannah</td>\n",
       "    </tr>\n",
       "    <tr>\n",
       "      <th>1</th>\n",
       "      <td>Gray Mountain</td>\n",
       "      <td>104.94</td>\n",
       "      <td>John Grisham</td>\n",
       "    </tr>\n",
       "    <tr>\n",
       "      <th>2</th>\n",
       "      <td>Airframe</td>\n",
       "      <td>104.94</td>\n",
       "      <td>Michael Crichton</td>\n",
       "    </tr>\n",
       "    <tr>\n",
       "      <th>3</th>\n",
       "      <td>Intensity</td>\n",
       "      <td>104.94</td>\n",
       "      <td>Dean Koontz</td>\n",
       "    </tr>\n",
       "    <tr>\n",
       "      <th>4</th>\n",
       "      <td>The Carnivorous Carnival</td>\n",
       "      <td>105.93</td>\n",
       "      <td>Lemony Snicket, Brett Helquist</td>\n",
       "    </tr>\n",
       "    <tr>\n",
       "      <th>5</th>\n",
       "      <td>The Killer Angels</td>\n",
       "      <td>105.93</td>\n",
       "      <td>Michael Shaara</td>\n",
       "    </tr>\n",
       "    <tr>\n",
       "      <th>6</th>\n",
       "      <td>A Painted House</td>\n",
       "      <td>105.93</td>\n",
       "      <td>John Grisham</td>\n",
       "    </tr>\n",
       "    <tr>\n",
       "      <th>7</th>\n",
       "      <td>á¼ˆÎ½Ï„Î¹Î³ÏŒÎ½Î·</td>\n",
       "      <td>106.92</td>\n",
       "      <td>Sophocles, J.E. Thomas</td>\n",
       "    </tr>\n",
       "    <tr>\n",
       "      <th>8</th>\n",
       "      <td>Blood of the Fold</td>\n",
       "      <td>106.92</td>\n",
       "      <td>Terry Goodkind</td>\n",
       "    </tr>\n",
       "    <tr>\n",
       "      <th>9</th>\n",
       "      <td>Masquerade</td>\n",
       "      <td>106.92</td>\n",
       "      <td>Melissa de la Cruz</td>\n",
       "    </tr>\n",
       "  </tbody>\n",
       "</table>\n",
       "</div>"
      ],
      "text/plain": [
       "                  book_name  gross_sales                          author\n",
       "0                Night Road       104.94                  Kristin Hannah\n",
       "1             Gray Mountain       104.94                    John Grisham\n",
       "2                  Airframe       104.94                Michael Crichton\n",
       "3                 Intensity       104.94                     Dean Koontz\n",
       "4  The Carnivorous Carnival       105.93  Lemony Snicket, Brett Helquist\n",
       "5         The Killer Angels       105.93                  Michael Shaara\n",
       "6           A Painted House       105.93                    John Grisham\n",
       "7         á¼ˆÎ½Ï„Î¹Î³ÏŒÎ½Î·       106.92          Sophocles, J.E. Thomas\n",
       "8         Blood of the Fold       106.92                  Terry Goodkind\n",
       "9                Masquerade       106.92              Melissa de la Cruz"
      ]
     },
     "execution_count": 18,
     "metadata": {},
     "output_type": "execute_result"
    }
   ],
   "source": [
    "#Best-selling books\n",
    "best_selling_books = books_rates.groupby('book_name')['gross_sales'].sum().sort_values()\n",
    "authors = []\n",
    "for title in best_selling_books.index:\n",
    "    authors.append(books_rates.loc[books_rates['book_name'] == title, 'author'].iloc[0])\n",
    "\n",
    "result_df = pd.merge(best_selling_books, books_rates[['book_name', 'author']], on='book_name', how='left')\n",
    "print('Top ten selling books')\n",
    "result_df.head(10)"
   ]
  },
  {
   "cell_type": "code",
   "execution_count": 19,
   "id": "dd311b19-c2b6-4bb8-b752-dfd8f05632e0",
   "metadata": {},
   "outputs": [
    {
     "name": "stdout",
     "output_type": "stream",
     "text": [
      "Top ten books by average rating\n"
     ]
    },
    {
     "data": {
      "text/plain": [
       "book_name                             book_average_rating\n",
       " A Monster Calls                      4.36                   1\n",
       "The Electric Kool-Aid Acid Test       3.92                   1\n",
       "The Constant Princess                 3.88                   1\n",
       "The Corrections                       3.78                   1\n",
       "The DUFF: Designated Ugly Fat Friend  3.86                   1\n",
       "The Dark Half                         3.74                   1\n",
       "The Dark Tower                        4.27                   1\n",
       "The Darkest Minds                     4.26                   1\n",
       "The Day of the Jackal                 4.25                   1\n",
       "The Dead Zone                         3.90                   1\n",
       "Name: book_average_rating, dtype: int64"
      ]
     },
     "execution_count": 19,
     "metadata": {},
     "output_type": "execute_result"
    }
   ],
   "source": [
    "average_rating_by_book_name  = books_rates.groupby('book_name')['book_average_rating'].value_counts().sort_values(ascending= False).head(10)\n",
    "print('Top ten books by average rating')\n",
    "average_rating_by_book_name"
   ]
  },
  {
   "cell_type": "code",
   "execution_count": 20,
   "id": "e28ac3f7-3831-42b5-a15f-7fba0b1ac808",
   "metadata": {},
   "outputs": [
    {
     "name": "stdout",
     "output_type": "stream",
     "text": [
      "Top ten selling books\n"
     ]
    },
    {
     "data": {
      "text/html": [
       "<div>\n",
       "<style scoped>\n",
       "    .dataframe tbody tr th:only-of-type {\n",
       "        vertical-align: middle;\n",
       "    }\n",
       "\n",
       "    .dataframe tbody tr th {\n",
       "        vertical-align: top;\n",
       "    }\n",
       "\n",
       "    .dataframe thead th {\n",
       "        text-align: right;\n",
       "    }\n",
       "</style>\n",
       "<table border=\"1\" class=\"dataframe\">\n",
       "  <thead>\n",
       "    <tr style=\"text-align: right;\">\n",
       "      <th></th>\n",
       "      <th>book_name</th>\n",
       "      <th>book_average_rating</th>\n",
       "      <th>author</th>\n",
       "    </tr>\n",
       "  </thead>\n",
       "  <tbody>\n",
       "    <tr>\n",
       "      <th>347</th>\n",
       "      <td>Words of Radiance</td>\n",
       "      <td>4.77</td>\n",
       "      <td>Brandon Sanderson</td>\n",
       "    </tr>\n",
       "    <tr>\n",
       "      <th>668</th>\n",
       "      <td>A Court of Mist and Fury</td>\n",
       "      <td>4.72</td>\n",
       "      <td>Sarah J. Maas</td>\n",
       "    </tr>\n",
       "    <tr>\n",
       "      <th>20</th>\n",
       "      <td>The Essential Calvin and Hobbes: A Calvin and ...</td>\n",
       "      <td>4.65</td>\n",
       "      <td>Bill Watterson</td>\n",
       "    </tr>\n",
       "    <tr>\n",
       "      <th>467</th>\n",
       "      <td>The Way of Kings</td>\n",
       "      <td>4.64</td>\n",
       "      <td>Brandon Sanderson</td>\n",
       "    </tr>\n",
       "    <tr>\n",
       "      <th>688</th>\n",
       "      <td>Calvin and Hobbes</td>\n",
       "      <td>4.61</td>\n",
       "      <td>Bill Watterson, G.B. Trudeau</td>\n",
       "    </tr>\n",
       "    <tr>\n",
       "      <th>499</th>\n",
       "      <td>Queen of Shadows</td>\n",
       "      <td>4.60</td>\n",
       "      <td>Sarah J. Maas</td>\n",
       "    </tr>\n",
       "    <tr>\n",
       "      <th>112</th>\n",
       "      <td>The Hobbit and The Lord of the Rings</td>\n",
       "      <td>4.59</td>\n",
       "      <td>J.R.R. Tolkien</td>\n",
       "    </tr>\n",
       "    <tr>\n",
       "      <th>628</th>\n",
       "      <td>A Storm of Swords: Part 2 Blood and Gold</td>\n",
       "      <td>4.56</td>\n",
       "      <td>George R.R. Martin</td>\n",
       "    </tr>\n",
       "    <tr>\n",
       "      <th>117</th>\n",
       "      <td>The House of Hades</td>\n",
       "      <td>4.54</td>\n",
       "      <td>Rick Riordan</td>\n",
       "    </tr>\n",
       "    <tr>\n",
       "      <th>898</th>\n",
       "      <td>Heir of Fire</td>\n",
       "      <td>4.53</td>\n",
       "      <td>Sarah J. Maas</td>\n",
       "    </tr>\n",
       "  </tbody>\n",
       "</table>\n",
       "</div>"
      ],
      "text/plain": [
       "                                             book_name  book_average_rating  \\\n",
       "347                                  Words of Radiance                 4.77   \n",
       "668                           A Court of Mist and Fury                 4.72   \n",
       "20   The Essential Calvin and Hobbes: A Calvin and ...                 4.65   \n",
       "467                                   The Way of Kings                 4.64   \n",
       "688                                  Calvin and Hobbes                 4.61   \n",
       "499                                   Queen of Shadows                 4.60   \n",
       "112               The Hobbit and The Lord of the Rings                 4.59   \n",
       "628           A Storm of Swords: Part 2 Blood and Gold                 4.56   \n",
       "117                                 The House of Hades                 4.54   \n",
       "898                                       Heir of Fire                 4.53   \n",
       "\n",
       "                           author  \n",
       "347             Brandon Sanderson  \n",
       "668                 Sarah J. Maas  \n",
       "20                 Bill Watterson  \n",
       "467             Brandon Sanderson  \n",
       "688  Bill Watterson, G.B. Trudeau  \n",
       "499                 Sarah J. Maas  \n",
       "112                J.R.R. Tolkien  \n",
       "628            George R.R. Martin  \n",
       "117                  Rick Riordan  \n",
       "898                 Sarah J. Maas  "
      ]
     },
     "execution_count": 20,
     "metadata": {},
     "output_type": "execute_result"
    }
   ],
   "source": [
    "# average_ratings = books_rates.groupby('book_name')['book_average_rating'].value_counts().sort_values(ascending=False)\n",
    "average_ratings = books_rates.groupby('book_name')['book_average_rating'].agg(['count', 'mean']).sort_values(by='count', ascending=False)\n",
    "authors = []\n",
    "for title in average_ratings.index:\n",
    "    authors.append(books_rates.loc[books_rates['book_name'] == title, 'author'])\n",
    "\n",
    "result_df = pd.merge(average_ratings, books_rates[['book_name', 'book_average_rating','author']], on='book_name', how='left', suffixes=('_average', '_original'))\n",
    "result_df = result_df[['book_name', 'book_average_rating', 'author']]\n",
    "result_df = result_df.sort_values(by='book_average_rating', ascending=False)\n",
    "print('Top ten selling books')\n",
    "result_df.head(10)"
   ]
  },
  {
   "cell_type": "code",
   "execution_count": 21,
   "id": "dc51486d-5c52-4a17-835b-9524b0746165",
   "metadata": {},
   "outputs": [
    {
     "name": "stdout",
     "output_type": "stream",
     "text": [
      "genre\n",
      "children         6.126667\n",
      "fiction          5.119091\n",
      "genre fiction    4.655194\n",
      "nonfiction       5.530192\n",
      "Name: sale_price, dtype: float64\n"
     ]
    }
   ],
   "source": [
    "# Average sales price by genre\n",
    "g_price = books_rates.groupby(\"genre\")[\"sale_price\"];\n",
    "print(g_price.mean())"
   ]
  },
  {
   "cell_type": "code",
   "execution_count": 22,
   "id": "92285551-5808-49c8-9367-d46fdbf817a1",
   "metadata": {},
   "outputs": [
    {
     "data": {
      "image/png": "[encoded data removed]",
      "text/plain": [
       "<Figure size 640x480 with 1 Axes>"
      ]
     },
     "metadata": {},
     "output_type": "display_data"
    }
   ],
   "source": [
    "plt.title(\"Book's Rating Histogram\")\n",
    "plt.grid(True)\n",
    "sns.histplot(books_rates['book_average_rating'], kde=True)\n",
    "plt.xlabel('Rating')\n",
    "plt.ylabel('Frequency')\n",
    "plt.show()"
   ]
  },
  {
   "cell_type": "code",
   "execution_count": 23,
   "id": "34170ec1-5150-4a87-aba0-274fe93da397",
   "metadata": {},
   "outputs": [
    {
     "name": "stdout",
     "output_type": "stream",
     "text": [
      "Skewness: -0.3818552646460938 \n",
      " Mean rating: 4.003056112224446 \n",
      " Kurtosis: 0.5372955126974732\n",
      "Most of the books receive slightly above the average rating.\n"
     ]
    }
   ],
   "source": [
    "print('Skewness:',skew(books_rates['book_average_rating']),'\\n',\n",
    "      'Mean rating:',books_rates['book_average_rating'].mean(),'\\n', \n",
    "      'Kurtosis:', kurtosis(books_rates['book_average_rating']))\n",
    "print('Most of the books receive slightly above the average rating.')"
   ]
  },
  {
   "cell_type": "code",
   "execution_count": 24,
   "id": "d2c48758-f7fe-47e5-9ec2-9c4bc5608ffb",
   "metadata": {},
   "outputs": [
    {
     "data": {
      "image/png": "[encoded data removed]",
      "text/plain": [
       "<Figure size 640x480 with 1 Axes>"
      ]
     },
     "metadata": {},
     "output_type": "display_data"
    }
   ],
   "source": [
    "plt.title(\"Histogram of authors' sales.\")\n",
    "plt.grid(True)\n",
    "sns.histplot(books_rates['gross_sales'], kde=True)\n",
    "plt.xlabel('Total sales')\n",
    "plt.ylabel('Frequency')\n",
    "plt.show()"
   ]
  },
  {
   "cell_type": "code",
   "execution_count": 25,
   "id": "423799e2-74d1-4797-9189-2e723954d1eb",
   "metadata": {},
   "outputs": [
    {
     "name": "stdout",
     "output_type": "stream",
     "text": [
      "Skewness: 5.862824974902485 \n",
      " Mean sales: 1885.0851503006031 \n",
      " Kurtosis: 44.64326806018543 \n",
      " Count: 822\n",
      "82.36% of the authors have achieved sales below 2000.\n"
     ]
    }
   ],
   "source": [
    "gross_rates_below_2000 = len(books_rates[books_rates['gross_sales'] <2000])\n",
    "print('Skewness:',skew(books_rates['gross_sales']),'\\n',\n",
    "      'Mean sales:',books_rates['gross_sales'].mean(),'\\n', \n",
    "      'Kurtosis:', kurtosis(books_rates['gross_sales']),'\\n',\n",
    "      'Count:', gross_rates_below_2000)\n",
    "percentage = gross_rates_below_2000/int(books_rates.shape[0])*100\n",
    "print(f'{percentage:.2f}% of the authors have achieved sales below 2000.')"
   ]
  },
  {
   "cell_type": "code",
   "execution_count": 26,
   "id": "8dad6f54-af84-4d5f-9967-8a924dd16ce4",
   "metadata": {},
   "outputs": [
    {
     "data": {
      "image/png": "[encoded data removed]",
      "text/plain": [
       "<Figure size 640x480 with 1 Axes>"
      ]
     },
     "metadata": {},
     "output_type": "display_data"
    },
    {
     "name": "stdout",
     "output_type": "stream",
     "text": [
      "Fiction Books from Novice Authors have the highest gross sales compared to others\n"
     ]
    }
   ],
   "source": [
    "plt.title('Gross Sales by Genre')\n",
    "sns.barplot(data=books_rates, x='genre', y='gross_sales', hue='author_rating')\n",
    "plt.show()\n",
    "print(\"Fiction Books from Novice Authors have the highest gross sales compared to others\")"
   ]
  },
  {
   "cell_type": "code",
   "execution_count": 27,
   "id": "f3138fd3-e23b-4453-981d-2bca7d754332",
   "metadata": {},
   "outputs": [
    {
     "data": {
      "image/png": "[encoded data removed]",
      "text/plain": [
       "<Figure size 640x480 with 1 Axes>"
      ]
     },
     "metadata": {},
     "output_type": "display_data"
    },
    {
     "name": "stdout",
     "output_type": "stream",
     "text": [
      "'Excellent' Author tends to sold more books\n",
      "and Children Books also tends to sold more.\n"
     ]
    }
   ],
   "source": [
    "plt.title(\"Total Units Sold by Author's Rating\")\n",
    "sns.barplot(data=books_rates, x='author_rating', y='units_sold', hue='genre')\n",
    "plt.show()\n",
    "print(\"'Excellent' Author tends to sold more books\")\n",
    "print(\"and Children Books also tends to sold more.\")"
   ]
  },
  {
   "cell_type": "code",
   "execution_count": 28,
   "id": "d6772b67-7318-4f49-95f8-4bf03f5e5106",
   "metadata": {},
   "outputs": [
    {
     "data": {
      "image/png": "[encoded data removed]",
      "text/plain": [
       "<Figure size 640x480 with 1 Axes>"
      ]
     },
     "metadata": {},
     "output_type": "display_data"
    },
    {
     "name": "stdout",
     "output_type": "stream",
     "text": [
      "Famous Authors have the most average rating, and Novice Authors are lowest one\n"
     ]
    }
   ],
   "source": [
    "plt.title('Average Book Rating by Author Rating')\n",
    "sns.boxplot(data=books_rates, x = 'author_rating', y = 'book_average_rating')\n",
    "plt.show()\n",
    "print(\"Famous Authors have the most average rating, and Novice Authors are lowest one\")"
   ]
  },
  {
   "cell_type": "code",
   "execution_count": 29,
   "id": "a71e6af5-221e-40a4-a3da-5f1a24d1a2c6",
   "metadata": {},
   "outputs": [
    {
     "data": {
      "image/png": "[encoded data removed]",
      "text/plain": [
       "<Figure size 640x480 with 1 Axes>"
      ]
     },
     "metadata": {},
     "output_type": "display_data"
    },
    {
     "name": "stdout",
     "output_type": "stream",
     "text": [
      "Books from Intermediate Authors are rated more\n"
     ]
    }
   ],
   "source": [
    "plt.title(\"Book Ratings Count by Author Rating\")\n",
    "sns.boxplot(data=books_rates, x='author_rating', y='book_ratings_count')\n",
    "plt.show()\n",
    "print(\"Books from Intermediate Authors are rated more\")"
   ]
  },
  {
   "cell_type": "markdown",
   "id": "bff83d94-0780-4306-8b2c-c305164a0033",
   "metadata": {},
   "source": [
    "### Summary"
   ]
  },
  {
   "cell_type": "markdown",
   "id": "5e168647-3955-4a25-a56e-a39ce44f8be6",
   "metadata": {},
   "source": [
    " _Most of the books receive slightly below the average rating. 82.36% of the authors have achieved sales below 2000. 'Excellent' Author tends to sold more books and Children Books also tends to sold more. Famous Authors have the most average rating, and Novice Authors are lowest one. Books from Intermediate Authors are rated more_"
   ]
  },
  {
   "cell_type": "markdown",
   "id": "b97ccc5e-72c1-4099-b570-ee9fd3211d7c",
   "metadata": {},
   "source": [
    "## Modeling"
   ]
  },
  {
   "cell_type": "markdown",
   "id": "2876336b-6a86-4ef0-8bf5-b7459107de5f",
   "metadata": {},
   "source": [
    "##### The goal of modeling is to predict the 'units_sold' column"
   ]
  },
  {
   "cell_type": "markdown",
   "id": "7de6d068-21d4-4de9-8cb2-a6c397b22c3a",
   "metadata": {},
   "source": [
    "### Preparing data"
   ]
  },
  {
   "cell_type": "code",
   "execution_count": 30,
   "id": "9e761a3e-b25f-428f-8d07-0c736c13bee6",
   "metadata": {},
   "outputs": [],
   "source": [
    "# Copy the dataset to preserve the original\n",
    "books_rates_encoded = books_rates.copy()"
   ]
  },
  {
   "cell_type": "code",
   "execution_count": 31,
   "id": "600d78b7-4edf-4ab2-835e-bcefc103615b",
   "metadata": {},
   "outputs": [
    {
     "data": {
      "text/html": [
       "<div>\n",
       "<style scoped>\n",
       "    .dataframe tbody tr th:only-of-type {\n",
       "        vertical-align: middle;\n",
       "    }\n",
       "\n",
       "    .dataframe tbody tr th {\n",
       "        vertical-align: top;\n",
       "    }\n",
       "\n",
       "    .dataframe thead th {\n",
       "        text-align: right;\n",
       "    }\n",
       "</style>\n",
       "<table border=\"1\" class=\"dataframe\">\n",
       "  <thead>\n",
       "    <tr style=\"text-align: right;\">\n",
       "      <th></th>\n",
       "      <th>index</th>\n",
       "      <th>publishing_year</th>\n",
       "      <th>book_name</th>\n",
       "      <th>author</th>\n",
       "      <th>language_code</th>\n",
       "      <th>author_rating</th>\n",
       "      <th>book_average_rating</th>\n",
       "      <th>book_ratings_count</th>\n",
       "      <th>genre</th>\n",
       "      <th>gross_sales</th>\n",
       "      <th>publisher_revenue</th>\n",
       "      <th>sale_price</th>\n",
       "      <th>sales_rank</th>\n",
       "      <th>publisher</th>\n",
       "      <th>units_sold</th>\n",
       "    </tr>\n",
       "  </thead>\n",
       "  <tbody>\n",
       "    <tr>\n",
       "      <th>0</th>\n",
       "      <td>0</td>\n",
       "      <td>1975</td>\n",
       "      <td>Beowulf</td>\n",
       "      <td>Unknown, Seamus Heaney</td>\n",
       "      <td>en-US</td>\n",
       "      <td>Novice</td>\n",
       "      <td>3.42</td>\n",
       "      <td>155903</td>\n",
       "      <td>genre fiction</td>\n",
       "      <td>34160.0</td>\n",
       "      <td>20496.0</td>\n",
       "      <td>4.88</td>\n",
       "      <td>1</td>\n",
       "      <td>HarperCollins Publishers</td>\n",
       "      <td>7000</td>\n",
       "    </tr>\n",
       "    <tr>\n",
       "      <th>1</th>\n",
       "      <td>1</td>\n",
       "      <td>1987</td>\n",
       "      <td>Batman: Year One</td>\n",
       "      <td>Frank Miller, David Mazzucchelli, Richmond Lew...</td>\n",
       "      <td>eng</td>\n",
       "      <td>Intermediate</td>\n",
       "      <td>4.23</td>\n",
       "      <td>145267</td>\n",
       "      <td>genre fiction</td>\n",
       "      <td>12437.5</td>\n",
       "      <td>7462.5</td>\n",
       "      <td>1.99</td>\n",
       "      <td>2</td>\n",
       "      <td>HarperCollins Publishers</td>\n",
       "      <td>6250</td>\n",
       "    </tr>\n",
       "    <tr>\n",
       "      <th>2</th>\n",
       "      <td>2</td>\n",
       "      <td>2015</td>\n",
       "      <td>Go Set a Watchman</td>\n",
       "      <td>Harper Lee</td>\n",
       "      <td>eng</td>\n",
       "      <td>Novice</td>\n",
       "      <td>3.31</td>\n",
       "      <td>138669</td>\n",
       "      <td>genre fiction</td>\n",
       "      <td>47795.0</td>\n",
       "      <td>28677.0</td>\n",
       "      <td>8.69</td>\n",
       "      <td>3</td>\n",
       "      <td>Amazon Digital Services,  Inc.</td>\n",
       "      <td>5500</td>\n",
       "    </tr>\n",
       "    <tr>\n",
       "      <th>3</th>\n",
       "      <td>3</td>\n",
       "      <td>2008</td>\n",
       "      <td>When You Are Engulfed in Flames</td>\n",
       "      <td>David Sedaris</td>\n",
       "      <td>en-US</td>\n",
       "      <td>Intermediate</td>\n",
       "      <td>4.04</td>\n",
       "      <td>150898</td>\n",
       "      <td>fiction</td>\n",
       "      <td>41250.0</td>\n",
       "      <td>24750.0</td>\n",
       "      <td>7.50</td>\n",
       "      <td>3</td>\n",
       "      <td>Hachette Book Group</td>\n",
       "      <td>5500</td>\n",
       "    </tr>\n",
       "    <tr>\n",
       "      <th>4</th>\n",
       "      <td>4</td>\n",
       "      <td>2011</td>\n",
       "      <td>Daughter of Smoke &amp; Bone</td>\n",
       "      <td>Laini Taylor</td>\n",
       "      <td>eng</td>\n",
       "      <td>Intermediate</td>\n",
       "      <td>4.04</td>\n",
       "      <td>198283</td>\n",
       "      <td>genre fiction</td>\n",
       "      <td>37952.5</td>\n",
       "      <td>22771.5</td>\n",
       "      <td>7.99</td>\n",
       "      <td>4</td>\n",
       "      <td>Penguin Group (USA) LLC</td>\n",
       "      <td>4750</td>\n",
       "    </tr>\n",
       "  </tbody>\n",
       "</table>\n",
       "</div>"
      ],
      "text/plain": [
       "   index  publishing_year                        book_name  \\\n",
       "0      0             1975                          Beowulf   \n",
       "1      1             1987                 Batman: Year One   \n",
       "2      2             2015                Go Set a Watchman   \n",
       "3      3             2008  When You Are Engulfed in Flames   \n",
       "4      4             2011         Daughter of Smoke & Bone   \n",
       "\n",
       "                                              author language_code  \\\n",
       "0                             Unknown, Seamus Heaney         en-US   \n",
       "1  Frank Miller, David Mazzucchelli, Richmond Lew...           eng   \n",
       "2                                         Harper Lee           eng   \n",
       "3                                      David Sedaris         en-US   \n",
       "4                                       Laini Taylor           eng   \n",
       "\n",
       "  author_rating  book_average_rating  book_ratings_count          genre  \\\n",
       "0        Novice                 3.42              155903  genre fiction   \n",
       "1  Intermediate                 4.23              145267  genre fiction   \n",
       "2        Novice                 3.31              138669  genre fiction   \n",
       "3  Intermediate                 4.04              150898        fiction   \n",
       "4  Intermediate                 4.04              198283  genre fiction   \n",
       "\n",
       "   gross_sales  publisher_revenue  sale_price  sales_rank  \\\n",
       "0      34160.0            20496.0        4.88           1   \n",
       "1      12437.5             7462.5        1.99           2   \n",
       "2      47795.0            28677.0        8.69           3   \n",
       "3      41250.0            24750.0        7.50           3   \n",
       "4      37952.5            22771.5        7.99           4   \n",
       "\n",
       "                        publisher  units_sold  \n",
       "0        HarperCollins Publishers        7000  \n",
       "1        HarperCollins Publishers        6250  \n",
       "2  Amazon Digital Services,  Inc.        5500  \n",
       "3             Hachette Book Group        5500  \n",
       "4         Penguin Group (USA) LLC        4750  "
      ]
     },
     "execution_count": 31,
     "metadata": {},
     "output_type": "execute_result"
    }
   ],
   "source": [
    "books_rates_encoded.head()"
   ]
  },
  {
   "cell_type": "markdown",
   "id": "036f80ea-1466-4c47-be4d-d558aee3ee9c",
   "metadata": {},
   "source": [
    "#### Feature Engineering"
   ]
  },
  {
   "cell_type": "code",
   "execution_count": 32,
   "id": "ecb1439d-86d6-4856-8917-8d70798980f7",
   "metadata": {},
   "outputs": [
    {
     "data": {
      "text/plain": [
       "Index(['index', 'publishing_year', 'book_name', 'author', 'language_code',\n",
       "       'author_rating', 'book_average_rating', 'book_ratings_count', 'genre',\n",
       "       'gross_sales', 'publisher_revenue', 'sale_price', 'sales_rank',\n",
       "       'publisher', 'units_sold'],\n",
       "      dtype='object')"
      ]
     },
     "execution_count": 32,
     "metadata": {},
     "output_type": "execute_result"
    }
   ],
   "source": [
    "books_rates_encoded.columns"
   ]
  },
  {
   "cell_type": "code",
   "execution_count": 33,
   "id": "9d07452e-ce9f-4b79-9129-cbe3a8aa3652",
   "metadata": {},
   "outputs": [],
   "source": [
    "# Remove the 'index' and 'book_name' columns as they do not carry useful information.\n",
    "books_rates_encoded.drop(columns=['index', 'book_name'], inplace=True)"
   ]
  },
  {
   "cell_type": "code",
   "execution_count": 34,
   "id": "f76152ee-2b3b-4862-8af7-992737a00977",
   "metadata": {},
   "outputs": [
    {
     "data": {
      "text/html": [
       "<div>\n",
       "<style scoped>\n",
       "    .dataframe tbody tr th:only-of-type {\n",
       "        vertical-align: middle;\n",
       "    }\n",
       "\n",
       "    .dataframe tbody tr th {\n",
       "        vertical-align: top;\n",
       "    }\n",
       "\n",
       "    .dataframe thead th {\n",
       "        text-align: right;\n",
       "    }\n",
       "</style>\n",
       "<table border=\"1\" class=\"dataframe\">\n",
       "  <thead>\n",
       "    <tr style=\"text-align: right;\">\n",
       "      <th></th>\n",
       "      <th>publishing_year</th>\n",
       "      <th>author</th>\n",
       "      <th>language_code</th>\n",
       "      <th>author_rating</th>\n",
       "      <th>book_average_rating</th>\n",
       "      <th>book_ratings_count</th>\n",
       "      <th>genre</th>\n",
       "      <th>gross_sales</th>\n",
       "      <th>publisher_revenue</th>\n",
       "      <th>sale_price</th>\n",
       "      <th>sales_rank</th>\n",
       "      <th>publisher</th>\n",
       "      <th>units_sold</th>\n",
       "    </tr>\n",
       "  </thead>\n",
       "  <tbody>\n",
       "    <tr>\n",
       "      <th>0</th>\n",
       "      <td>1975</td>\n",
       "      <td>Unknown, Seamus Heaney</td>\n",
       "      <td>en-US</td>\n",
       "      <td>Novice</td>\n",
       "      <td>3.42</td>\n",
       "      <td>155903</td>\n",
       "      <td>genre fiction</td>\n",
       "      <td>34160.0</td>\n",
       "      <td>20496.0</td>\n",
       "      <td>4.88</td>\n",
       "      <td>1</td>\n",
       "      <td>HarperCollins Publishers</td>\n",
       "      <td>7000</td>\n",
       "    </tr>\n",
       "    <tr>\n",
       "      <th>1</th>\n",
       "      <td>1987</td>\n",
       "      <td>Frank Miller, David Mazzucchelli, Richmond Lew...</td>\n",
       "      <td>eng</td>\n",
       "      <td>Intermediate</td>\n",
       "      <td>4.23</td>\n",
       "      <td>145267</td>\n",
       "      <td>genre fiction</td>\n",
       "      <td>12437.5</td>\n",
       "      <td>7462.5</td>\n",
       "      <td>1.99</td>\n",
       "      <td>2</td>\n",
       "      <td>HarperCollins Publishers</td>\n",
       "      <td>6250</td>\n",
       "    </tr>\n",
       "    <tr>\n",
       "      <th>2</th>\n",
       "      <td>2015</td>\n",
       "      <td>Harper Lee</td>\n",
       "      <td>eng</td>\n",
       "      <td>Novice</td>\n",
       "      <td>3.31</td>\n",
       "      <td>138669</td>\n",
       "      <td>genre fiction</td>\n",
       "      <td>47795.0</td>\n",
       "      <td>28677.0</td>\n",
       "      <td>8.69</td>\n",
       "      <td>3</td>\n",
       "      <td>Amazon Digital Services,  Inc.</td>\n",
       "      <td>5500</td>\n",
       "    </tr>\n",
       "    <tr>\n",
       "      <th>3</th>\n",
       "      <td>2008</td>\n",
       "      <td>David Sedaris</td>\n",
       "      <td>en-US</td>\n",
       "      <td>Intermediate</td>\n",
       "      <td>4.04</td>\n",
       "      <td>150898</td>\n",
       "      <td>fiction</td>\n",
       "      <td>41250.0</td>\n",
       "      <td>24750.0</td>\n",
       "      <td>7.50</td>\n",
       "      <td>3</td>\n",
       "      <td>Hachette Book Group</td>\n",
       "      <td>5500</td>\n",
       "    </tr>\n",
       "    <tr>\n",
       "      <th>4</th>\n",
       "      <td>2011</td>\n",
       "      <td>Laini Taylor</td>\n",
       "      <td>eng</td>\n",
       "      <td>Intermediate</td>\n",
       "      <td>4.04</td>\n",
       "      <td>198283</td>\n",
       "      <td>genre fiction</td>\n",
       "      <td>37952.5</td>\n",
       "      <td>22771.5</td>\n",
       "      <td>7.99</td>\n",
       "      <td>4</td>\n",
       "      <td>Penguin Group (USA) LLC</td>\n",
       "      <td>4750</td>\n",
       "    </tr>\n",
       "  </tbody>\n",
       "</table>\n",
       "</div>"
      ],
      "text/plain": [
       "   publishing_year                                             author  \\\n",
       "0             1975                             Unknown, Seamus Heaney   \n",
       "1             1987  Frank Miller, David Mazzucchelli, Richmond Lew...   \n",
       "2             2015                                         Harper Lee   \n",
       "3             2008                                      David Sedaris   \n",
       "4             2011                                       Laini Taylor   \n",
       "\n",
       "  language_code author_rating  book_average_rating  book_ratings_count  \\\n",
       "0         en-US        Novice                 3.42              155903   \n",
       "1           eng  Intermediate                 4.23              145267   \n",
       "2           eng        Novice                 3.31              138669   \n",
       "3         en-US  Intermediate                 4.04              150898   \n",
       "4           eng  Intermediate                 4.04              198283   \n",
       "\n",
       "           genre  gross_sales  publisher_revenue  sale_price  sales_rank  \\\n",
       "0  genre fiction      34160.0            20496.0        4.88           1   \n",
       "1  genre fiction      12437.5             7462.5        1.99           2   \n",
       "2  genre fiction      47795.0            28677.0        8.69           3   \n",
       "3        fiction      41250.0            24750.0        7.50           3   \n",
       "4  genre fiction      37952.5            22771.5        7.99           4   \n",
       "\n",
       "                        publisher  units_sold  \n",
       "0        HarperCollins Publishers        7000  \n",
       "1        HarperCollins Publishers        6250  \n",
       "2  Amazon Digital Services,  Inc.        5500  \n",
       "3             Hachette Book Group        5500  \n",
       "4         Penguin Group (USA) LLC        4750  "
      ]
     },
     "execution_count": 34,
     "metadata": {},
     "output_type": "execute_result"
    }
   ],
   "source": [
    "books_rates_encoded.head()"
   ]
  },
  {
   "cell_type": "code",
   "execution_count": 35,
   "id": "b0734cc9-8cc4-4fc8-a8f2-8a18aa418025",
   "metadata": {},
   "outputs": [
    {
     "data": {
      "text/plain": [
       "(998, 13)"
      ]
     },
     "execution_count": 35,
     "metadata": {},
     "output_type": "execute_result"
    }
   ],
   "source": [
    "books_rates_encoded.shape"
   ]
  },
  {
   "cell_type": "markdown",
   "id": "2b727180-1b8e-4772-8a27-05891341d77d",
   "metadata": {},
   "source": [
    "#### Label Encoding"
   ]
  },
  {
   "cell_type": "code",
   "execution_count": 36,
   "id": "132990d8-e811-4bb1-9888-ff21ce219b95",
   "metadata": {},
   "outputs": [
    {
     "data": {
      "text/html": [
       "<div>\n",
       "<style scoped>\n",
       "    .dataframe tbody tr th:only-of-type {\n",
       "        vertical-align: middle;\n",
       "    }\n",
       "\n",
       "    .dataframe tbody tr th {\n",
       "        vertical-align: top;\n",
       "    }\n",
       "\n",
       "    .dataframe thead th {\n",
       "        text-align: right;\n",
       "    }\n",
       "</style>\n",
       "<table border=\"1\" class=\"dataframe\">\n",
       "  <thead>\n",
       "    <tr style=\"text-align: right;\">\n",
       "      <th></th>\n",
       "      <th>publishing_year</th>\n",
       "      <th>author</th>\n",
       "      <th>language_code</th>\n",
       "      <th>author_rating</th>\n",
       "      <th>book_average_rating</th>\n",
       "      <th>book_ratings_count</th>\n",
       "      <th>genre</th>\n",
       "      <th>gross_sales</th>\n",
       "      <th>publisher_revenue</th>\n",
       "      <th>sale_price</th>\n",
       "      <th>sales_rank</th>\n",
       "      <th>publisher</th>\n",
       "      <th>units_sold</th>\n",
       "    </tr>\n",
       "  </thead>\n",
       "  <tbody>\n",
       "    <tr>\n",
       "      <th>0</th>\n",
       "      <td>1975</td>\n",
       "      <td>662</td>\n",
       "      <td>3</td>\n",
       "      <td>3</td>\n",
       "      <td>3.42</td>\n",
       "      <td>155903</td>\n",
       "      <td>2</td>\n",
       "      <td>34160.00</td>\n",
       "      <td>20496.000</td>\n",
       "      <td>4.88</td>\n",
       "      <td>1</td>\n",
       "      <td>3</td>\n",
       "      <td>7000</td>\n",
       "    </tr>\n",
       "    <tr>\n",
       "      <th>1</th>\n",
       "      <td>1987</td>\n",
       "      <td>204</td>\n",
       "      <td>4</td>\n",
       "      <td>2</td>\n",
       "      <td>4.23</td>\n",
       "      <td>145267</td>\n",
       "      <td>2</td>\n",
       "      <td>12437.50</td>\n",
       "      <td>7462.500</td>\n",
       "      <td>1.99</td>\n",
       "      <td>2</td>\n",
       "      <td>3</td>\n",
       "      <td>6250</td>\n",
       "    </tr>\n",
       "    <tr>\n",
       "      <th>2</th>\n",
       "      <td>2015</td>\n",
       "      <td>235</td>\n",
       "      <td>4</td>\n",
       "      <td>3</td>\n",
       "      <td>3.31</td>\n",
       "      <td>138669</td>\n",
       "      <td>2</td>\n",
       "      <td>47795.00</td>\n",
       "      <td>28677.000</td>\n",
       "      <td>8.69</td>\n",
       "      <td>3</td>\n",
       "      <td>0</td>\n",
       "      <td>5500</td>\n",
       "    </tr>\n",
       "    <tr>\n",
       "      <th>3</th>\n",
       "      <td>2008</td>\n",
       "      <td>152</td>\n",
       "      <td>3</td>\n",
       "      <td>2</td>\n",
       "      <td>4.04</td>\n",
       "      <td>150898</td>\n",
       "      <td>1</td>\n",
       "      <td>41250.00</td>\n",
       "      <td>24750.000</td>\n",
       "      <td>7.50</td>\n",
       "      <td>3</td>\n",
       "      <td>1</td>\n",
       "      <td>5500</td>\n",
       "    </tr>\n",
       "    <tr>\n",
       "      <th>4</th>\n",
       "      <td>2011</td>\n",
       "      <td>407</td>\n",
       "      <td>4</td>\n",
       "      <td>2</td>\n",
       "      <td>4.04</td>\n",
       "      <td>198283</td>\n",
       "      <td>2</td>\n",
       "      <td>37952.50</td>\n",
       "      <td>22771.500</td>\n",
       "      <td>7.99</td>\n",
       "      <td>4</td>\n",
       "      <td>6</td>\n",
       "      <td>4750</td>\n",
       "    </tr>\n",
       "    <tr>\n",
       "      <th>...</th>\n",
       "      <td>...</td>\n",
       "      <td>...</td>\n",
       "      <td>...</td>\n",
       "      <td>...</td>\n",
       "      <td>...</td>\n",
       "      <td>...</td>\n",
       "      <td>...</td>\n",
       "      <td>...</td>\n",
       "      <td>...</td>\n",
       "      <td>...</td>\n",
       "      <td>...</td>\n",
       "      <td>...</td>\n",
       "      <td>...</td>\n",
       "    </tr>\n",
       "    <tr>\n",
       "      <th>1065</th>\n",
       "      <td>2014</td>\n",
       "      <td>342</td>\n",
       "      <td>4</td>\n",
       "      <td>2</td>\n",
       "      <td>3.52</td>\n",
       "      <td>37379</td>\n",
       "      <td>3</td>\n",
       "      <td>104.94</td>\n",
       "      <td>62.964</td>\n",
       "      <td>0.99</td>\n",
       "      <td>1268</td>\n",
       "      <td>0</td>\n",
       "      <td>106</td>\n",
       "    </tr>\n",
       "    <tr>\n",
       "      <th>1066</th>\n",
       "      <td>1989</td>\n",
       "      <td>86</td>\n",
       "      <td>4</td>\n",
       "      <td>0</td>\n",
       "      <td>4.34</td>\n",
       "      <td>57312</td>\n",
       "      <td>2</td>\n",
       "      <td>846.94</td>\n",
       "      <td>508.164</td>\n",
       "      <td>7.99</td>\n",
       "      <td>1270</td>\n",
       "      <td>7</td>\n",
       "      <td>106</td>\n",
       "    </tr>\n",
       "    <tr>\n",
       "      <th>1067</th>\n",
       "      <td>1930</td>\n",
       "      <td>141</td>\n",
       "      <td>4</td>\n",
       "      <td>2</td>\n",
       "      <td>3.92</td>\n",
       "      <td>58742</td>\n",
       "      <td>2</td>\n",
       "      <td>846.94</td>\n",
       "      <td>508.164</td>\n",
       "      <td>7.99</td>\n",
       "      <td>1271</td>\n",
       "      <td>1</td>\n",
       "      <td>106</td>\n",
       "    </tr>\n",
       "    <tr>\n",
       "      <th>1068</th>\n",
       "      <td>2011</td>\n",
       "      <td>404</td>\n",
       "      <td>3</td>\n",
       "      <td>0</td>\n",
       "      <td>4.17</td>\n",
       "      <td>58028</td>\n",
       "      <td>2</td>\n",
       "      <td>104.94</td>\n",
       "      <td>62.964</td>\n",
       "      <td>0.99</td>\n",
       "      <td>1272</td>\n",
       "      <td>0</td>\n",
       "      <td>106</td>\n",
       "    </tr>\n",
       "    <tr>\n",
       "      <th>1069</th>\n",
       "      <td>1999</td>\n",
       "      <td>420</td>\n",
       "      <td>4</td>\n",
       "      <td>0</td>\n",
       "      <td>4.07</td>\n",
       "      <td>55251</td>\n",
       "      <td>2</td>\n",
       "      <td>316.94</td>\n",
       "      <td>0.000</td>\n",
       "      <td>2.99</td>\n",
       "      <td>1273</td>\n",
       "      <td>0</td>\n",
       "      <td>106</td>\n",
       "    </tr>\n",
       "  </tbody>\n",
       "</table>\n",
       "<p>998 rows × 13 columns</p>\n",
       "</div>"
      ],
      "text/plain": [
       "      publishing_year  author  language_code  author_rating  \\\n",
       "0                1975     662              3              3   \n",
       "1                1987     204              4              2   \n",
       "2                2015     235              4              3   \n",
       "3                2008     152              3              2   \n",
       "4                2011     407              4              2   \n",
       "...               ...     ...            ...            ...   \n",
       "1065             2014     342              4              2   \n",
       "1066             1989      86              4              0   \n",
       "1067             1930     141              4              2   \n",
       "1068             2011     404              3              0   \n",
       "1069             1999     420              4              0   \n",
       "\n",
       "      book_average_rating  book_ratings_count  genre  gross_sales  \\\n",
       "0                    3.42              155903      2     34160.00   \n",
       "1                    4.23              145267      2     12437.50   \n",
       "2                    3.31              138669      2     47795.00   \n",
       "3                    4.04              150898      1     41250.00   \n",
       "4                    4.04              198283      2     37952.50   \n",
       "...                   ...                 ...    ...          ...   \n",
       "1065                 3.52               37379      3       104.94   \n",
       "1066                 4.34               57312      2       846.94   \n",
       "1067                 3.92               58742      2       846.94   \n",
       "1068                 4.17               58028      2       104.94   \n",
       "1069                 4.07               55251      2       316.94   \n",
       "\n",
       "      publisher_revenue  sale_price  sales_rank  publisher  units_sold  \n",
       "0             20496.000        4.88           1          3        7000  \n",
       "1              7462.500        1.99           2          3        6250  \n",
       "2             28677.000        8.69           3          0        5500  \n",
       "3             24750.000        7.50           3          1        5500  \n",
       "4             22771.500        7.99           4          6        4750  \n",
       "...                 ...         ...         ...        ...         ...  \n",
       "1065             62.964        0.99        1268          0         106  \n",
       "1066            508.164        7.99        1270          7         106  \n",
       "1067            508.164        7.99        1271          1         106  \n",
       "1068             62.964        0.99        1272          0         106  \n",
       "1069              0.000        2.99        1273          0         106  \n",
       "\n",
       "[998 rows x 13 columns]"
      ]
     },
     "execution_count": 36,
     "metadata": {},
     "output_type": "execute_result"
    }
   ],
   "source": [
    "label_encoders = {}\n",
    "numеric_columns = books_rates_encoded.select_dtypes(include=['int', 'float']).columns\n",
    "for col in books_rates_encoded.columns:\n",
    "    if col not in numеric_columns:\n",
    "        label_encoders[col] = LabelEncoder()\n",
    "        books_rates_encoded[col] = label_encoders[col].fit_transform(books_rates_encoded[col])\n",
    "books_rates_encoded"
   ]
  },
  {
   "cell_type": "code",
   "execution_count": 37,
   "id": "2376ad83-aa8a-41b7-835d-abb7fb94206c",
   "metadata": {},
   "outputs": [
    {
     "data": {
      "text/plain": [
       "publishing_year          Int64\n",
       "author                   int32\n",
       "language_code            int32\n",
       "author_rating            int32\n",
       "book_average_rating    float64\n",
       "book_ratings_count       int64\n",
       "genre                    int32\n",
       "gross_sales            float64\n",
       "publisher_revenue      float64\n",
       "sale_price             float64\n",
       "sales_rank               int64\n",
       "publisher                int32\n",
       "units_sold               int64\n",
       "dtype: object"
      ]
     },
     "execution_count": 37,
     "metadata": {},
     "output_type": "execute_result"
    }
   ],
   "source": [
    "books_rates_encoded.dtypes"
   ]
  },
  {
   "cell_type": "code",
   "execution_count": 38,
   "id": "bea108bf-8393-48b9-a137-43dad59e2a7e",
   "metadata": {},
   "outputs": [
    {
     "data": {
      "text/plain": [
       "{'Novice': 3, 'Intermediate': 2, 'Famous': 1, 'Excellent': 0}"
      ]
     },
     "execution_count": 38,
     "metadata": {},
     "output_type": "execute_result"
    }
   ],
   "source": [
    "authors_rates_labels = {}\n",
    "\n",
    "for key in (pd.Series(list(zip(books_rates['author_rating'], books_rates_encoded['author_rating']))).unique()):\n",
    "    authors_rates_labels[key[0]] = key[1]\n",
    "    \n",
    "authors_rates_labels"
   ]
  },
  {
   "cell_type": "markdown",
   "id": "7277251e-bd7e-478a-8bd6-02519aee103c",
   "metadata": {},
   "source": [
    "#### Splitting the dataset for training and testing"
   ]
  },
  {
   "cell_type": "code",
   "execution_count": 39,
   "id": "6a14506b-c665-4d5d-bddf-54963c25d98f",
   "metadata": {},
   "outputs": [],
   "source": [
    "X = books_rates_encoded.drop(columns=['units_sold'])\n",
    "y = books_rates_encoded.units_sold"
   ]
  },
  {
   "cell_type": "code",
   "execution_count": 40,
   "id": "f738e389-7c5d-4632-b4b2-b6d3566c6f6a",
   "metadata": {},
   "outputs": [
    {
     "data": {
      "text/plain": [
       "((998, 12), (998,))"
      ]
     },
     "execution_count": 40,
     "metadata": {},
     "output_type": "execute_result"
    }
   ],
   "source": [
    "X.shape, y.shape"
   ]
  },
  {
   "cell_type": "code",
   "execution_count": 41,
   "id": "bd43686f-3926-4932-adf2-a10a3acd3a87",
   "metadata": {},
   "outputs": [],
   "source": [
    "#Splitting the data\n",
    "X_train,X_test, y_train, y_test = train_test_split(X,y,test_size=0.3,random_state=42)"
   ]
  },
  {
   "cell_type": "code",
   "execution_count": 42,
   "id": "e2025487-f7a3-4175-adc0-40f6e03445d9",
   "metadata": {},
   "outputs": [
    {
     "data": {
      "text/plain": [
       "((698, 12), (698,))"
      ]
     },
     "execution_count": 42,
     "metadata": {},
     "output_type": "execute_result"
    }
   ],
   "source": [
    "X_train.shape,y_train.shape"
   ]
  },
  {
   "cell_type": "code",
   "execution_count": 43,
   "id": "cb8dc584-56fc-492e-9f70-4b0a02332743",
   "metadata": {},
   "outputs": [
    {
     "data": {
      "text/plain": [
       "((300, 12), (300,))"
      ]
     },
     "execution_count": 43,
     "metadata": {},
     "output_type": "execute_result"
    }
   ],
   "source": [
    "X_test.shape, y_test.shape"
   ]
  },
  {
   "cell_type": "code",
   "execution_count": 44,
   "id": "1e7ba5b0-07a7-4911-8cbf-4614aef60adc",
   "metadata": {},
   "outputs": [],
   "source": [
    "correlations = books_rates_encoded.corr()"
   ]
  },
  {
   "cell_type": "code",
   "execution_count": 45,
   "id": "3211f35f-fb4e-48a9-9b26-0e22c98d14f4",
   "metadata": {},
   "outputs": [
    {
     "data": {
      "image/png": "[encoded data removed]",
      "text/plain": [
       "<Figure size 1200x800 with 2 Axes>"
      ]
     },
     "metadata": {},
     "output_type": "display_data"
    }
   ],
   "source": [
    "plt.figure(figsize = (12,8))\n",
    "sns.heatmap(correlations.round(2),  annot = True, cmap ='BuPu')\n",
    "plt.show()"
   ]
  },
  {
   "cell_type": "markdown",
   "id": "934d6a83-98fa-4080-8d86-753f8f324eb0",
   "metadata": {},
   "source": [
    "$\\quad$The strongest positive correlation is 0.91 between publisher revenue and sales. This is expected, as publisher revenue comes from sales. The coefficient is not equal to 1.0, probably because some of the sales are used for various publishing expenses - salaries, consumables, licenses, etc. \n",
    "\n",
    "$\\quad$The next strong correlation is the negative correlation between the sales rank and the number of reader reviews, which is -0.83. A lower sales rank corresponds to a higher number of reviews.\n",
    "\n",
    "$\\quad$The next strongest correlation is the negative correlation of -0.61 between the author's reputation (author_rating) and the reader's rating of the title (book_average_rating). This moderately negative coefficient may seem peculiar – the higher the author's reputation, the weaker the reader's rating. This 'peculiarity' arises from the numerical encoding of the column performed in the previous section – the most well-known authors receive a value of 0, while the least known receive a value of 3 (maximum value). This reverses the correlation to negative. Considering this, the logic is correct – works by more renowned authors tend to be better rated by readers. As shown in the above boxplot, 'famous' authors receive the highest reader ratings, followed by 'excellent' authors.\n",
    "\n",
    "$\\quad$ The next strongest correlation is 0.5 between the number of reviews given to the book by readers and sales. Although 0.5 is considered a weak correlation, there is logic in it - the more sales a book has, the more readers it has, and it is more likely for them to give a review, regardless of whether the review is positive or not."
   ]
  },
  {
   "cell_type": "markdown",
   "id": "4badf411-2ac0-473f-b250-6b289c32d6f7",
   "metadata": {},
   "source": [
    "#### Scaling the data"
   ]
  },
  {
   "cell_type": "code",
   "execution_count": 46,
   "id": "298bf776-32c7-4e7e-a5bd-bed88f10dfa9",
   "metadata": {},
   "outputs": [],
   "source": [
    "std_scaler = StandardScaler()"
   ]
  },
  {
   "cell_type": "code",
   "execution_count": 47,
   "id": "8816ab5e-4377-4cc5-b7ce-1c800d6a825f",
   "metadata": {},
   "outputs": [],
   "source": [
    "X_train = std_scaler.fit_transform(X_train)"
   ]
  },
  {
   "cell_type": "code",
   "execution_count": 48,
   "id": "642245d9-62ea-4f79-ba7b-4b10efae7275",
   "metadata": {},
   "outputs": [],
   "source": [
    "X_test = std_scaler.fit_transform(X_test)"
   ]
  },
  {
   "cell_type": "code",
   "execution_count": 49,
   "id": "6b647b41-d1d4-4ff6-b36b-01074a44f98f",
   "metadata": {},
   "outputs": [
    {
     "data": {
      "text/plain": [
       "[('publishing_year', 1958.02),\n",
       " ('author', 358.11),\n",
       " ('language_code', 3.703333333333333),\n",
       " ('author_rating', 1.38),\n",
       " ('book_average_rating', 3.9923999999999995),\n",
       " ('book_ratings_count', 95163.84333333334),\n",
       " ('genre', 2.1033333333333335),\n",
       " ('gross_sales', 1966.4437999999996),\n",
       " ('publisher_revenue', 876.6034000000001),\n",
       " ('sale_price', 4.864400000000001),\n",
       " ('sales_rank', 596.38),\n",
       " ('publisher', 2.1633333333333336)]"
      ]
     },
     "execution_count": 49,
     "metadata": {},
     "output_type": "execute_result"
    }
   ],
   "source": [
    "# Mean values of each feature.\n",
    "list(zip(std_scaler.feature_names_in_, std_scaler.mean_))"
   ]
  },
  {
   "cell_type": "markdown",
   "id": "c7105525-a324-43b7-89b6-817e5322dc84",
   "metadata": {},
   "source": [
    "#### Random Forest Regression"
   ]
  },
  {
   "cell_type": "code",
   "execution_count": 50,
   "id": "d0011be9-fdfa-45ae-b600-885abec65b8b",
   "metadata": {},
   "outputs": [],
   "source": [
    "rfr_std = RandomForestRegressor()"
   ]
  },
  {
   "cell_type": "code",
   "execution_count": 51,
   "id": "5df5f913-e6ce-4298-8390-df1e5d9f413c",
   "metadata": {},
   "outputs": [
    {
     "data": {
      "text/plain": [
       "RandomForestRegressor()"
      ]
     },
     "execution_count": 51,
     "metadata": {},
     "output_type": "execute_result"
    }
   ],
   "source": [
    "rfr_std.fit(X_train, y_train)"
   ]
  },
  {
   "cell_type": "code",
   "execution_count": 52,
   "id": "f328e012-9b02-4f8d-b877-a82b2e943766",
   "metadata": {},
   "outputs": [],
   "source": [
    "y_pred = rfr_std.predict(X_test)"
   ]
  },
  {
   "cell_type": "code",
   "execution_count": 53,
   "id": "b43b7dcc-b30b-44f4-b46a-83719ba6eeb8",
   "metadata": {},
   "outputs": [
    {
     "data": {
      "text/plain": [
       "0.8119286564362218"
      ]
     },
     "execution_count": 53,
     "metadata": {},
     "output_type": "execute_result"
    }
   ],
   "source": [
    "r2_score(y_test, y_pred)"
   ]
  },
  {
   "cell_type": "markdown",
   "id": "49d0999f-a391-4fb2-84f9-91146702ef38",
   "metadata": {},
   "source": [
    "#### Scaling the data with MinMaxScaler"
   ]
  },
  {
   "cell_type": "code",
   "execution_count": 54,
   "id": "328e5044-10c9-4744-b161-2831aaaf757c",
   "metadata": {},
   "outputs": [],
   "source": [
    "min_max_scaler = MinMaxScaler()"
   ]
  },
  {
   "cell_type": "code",
   "execution_count": 55,
   "id": "949dc2c6-03f9-4879-9521-ec082e7ef99a",
   "metadata": {},
   "outputs": [],
   "source": [
    "X_train = min_max_scaler.fit_transform(X_train)"
   ]
  },
  {
   "cell_type": "code",
   "execution_count": 56,
   "id": "3c061c43-3f53-4660-b2d8-5fe085201870",
   "metadata": {},
   "outputs": [],
   "source": [
    "X_test = min_max_scaler.fit_transform(X_test)"
   ]
  },
  {
   "cell_type": "code",
   "execution_count": 57,
   "id": "326b48d8-a3ed-41de-9d25-c36e983eedbf",
   "metadata": {},
   "outputs": [],
   "source": [
    "# Random Forest Regression with MinMaxScaler\n",
    "rfr_min_max = RandomForestRegressor()"
   ]
  },
  {
   "cell_type": "code",
   "execution_count": 58,
   "id": "0bf74fc6-0aac-48fc-9734-4f8860d143e8",
   "metadata": {},
   "outputs": [
    {
     "data": {
      "text/plain": [
       "RandomForestRegressor()"
      ]
     },
     "execution_count": 58,
     "metadata": {},
     "output_type": "execute_result"
    }
   ],
   "source": [
    "rfr_min_max.fit(X_train, y_train)"
   ]
  },
  {
   "cell_type": "code",
   "execution_count": 59,
   "id": "7ebe180a-79df-4e65-bed8-1f7e06d900d9",
   "metadata": {},
   "outputs": [],
   "source": [
    "y_pred = rfr_min_max.predict(X_test)"
   ]
  },
  {
   "cell_type": "code",
   "execution_count": 60,
   "id": "2eb492e8-a1c6-4c4c-b0df-3d71ccf538c5",
   "metadata": {},
   "outputs": [
    {
     "data": {
      "text/plain": [
       "0.9420866713427158"
      ]
     },
     "execution_count": 60,
     "metadata": {},
     "output_type": "execute_result"
    }
   ],
   "source": [
    "r2_score(y_test, y_pred)"
   ]
  },
  {
   "cell_type": "markdown",
   "id": "ec6f39f6-a8cc-47cb-971b-70b4e8b65034",
   "metadata": {},
   "source": [
    "Scaling with MinMaxScaler explains the data variance better by 17.5% (0.94/0.80)"
   ]
  },
  {
   "cell_type": "markdown",
   "id": "5a751f71-e6e4-4bea-8085-fb2d62a7eef9",
   "metadata": {},
   "source": [
    "#### RANSAC"
   ]
  },
  {
   "cell_type": "code",
   "execution_count": 74,
   "id": "fbac9581-6472-4703-9e96-5e9133099b8e",
   "metadata": {},
   "outputs": [],
   "source": [
    "# Random Forest Regressor with standart scaler\n",
    "ransac = RANSACRegressor(\n",
    "    base_estimator=rfr_std,\n",
    "    max_trials=200,\n",
    "    min_samples=0.25\n",
    ")"
   ]
  },
  {
   "cell_type": "code",
   "execution_count": 75,
   "id": "d942d234-fda8-4944-a44b-a2e487bbc142",
   "metadata": {},
   "outputs": [
    {
     "data": {
      "text/plain": [
       "RANSACRegressor(base_estimator=RandomForestRegressor(), max_trials=200,\n",
       "                min_samples=0.25)"
      ]
     },
     "execution_count": 75,
     "metadata": {},
     "output_type": "execute_result"
    }
   ],
   "source": [
    "ransac.fit(X_train, y_train)"
   ]
  },
  {
   "cell_type": "code",
   "execution_count": 76,
   "id": "c20f2a93-5e8d-49d5-9cf4-e0c55d84c11f",
   "metadata": {},
   "outputs": [
    {
     "data": {
      "text/plain": [
       "0.9899713467048711"
      ]
     },
     "execution_count": 76,
     "metadata": {},
     "output_type": "execute_result"
    }
   ],
   "source": [
    "ransac.inlier_mask_.sum() / len(y_train)"
   ]
  },
  {
   "cell_type": "code",
   "execution_count": 77,
   "id": "b5e47f4c-6734-4ee9-8936-94488ceddfb1",
   "metadata": {},
   "outputs": [],
   "source": [
    "# Random Forest Regressor with standart scaler\n",
    "ransac = RANSACRegressor(\n",
    "    base_estimator=rfr_min_max,\n",
    "    max_trials=200,\n",
    "    min_samples=0.25\n",
    ")"
   ]
  },
  {
   "cell_type": "code",
   "execution_count": 78,
   "id": "9a8d67e4-9787-4e57-86f4-9c8ba6f39d21",
   "metadata": {},
   "outputs": [
    {
     "data": {
      "text/plain": [
       "RANSACRegressor(base_estimator=RandomForestRegressor(), max_trials=200,\n",
       "                min_samples=0.25)"
      ]
     },
     "execution_count": 78,
     "metadata": {},
     "output_type": "execute_result"
    }
   ],
   "source": [
    "ransac.fit(X_train, y_train)"
   ]
  },
  {
   "cell_type": "code",
   "execution_count": 79,
   "id": "16db0710-baa3-45b2-94ce-485f81d78c7d",
   "metadata": {},
   "outputs": [
    {
     "data": {
      "text/plain": [
       "0.9885386819484241"
      ]
     },
     "execution_count": 79,
     "metadata": {},
     "output_type": "execute_result"
    }
   ],
   "source": [
    "ransac.inlier_mask_.sum() / len(y_train)"
   ]
  },
  {
   "cell_type": "markdown",
   "id": "4ab1cb7d-c8fe-44d0-87ec-d9285ce4c8cd",
   "metadata": {},
   "source": [
    "High results - 0.98 or very few outliers - obtained by RANSAC for the random forest regressor in both scalings indicate that the model performs well in capturing the variations in the data. This confirms the above conclusion."
   ]
  },
  {
   "cell_type": "code",
   "execution_count": 130,
   "id": "5ab8232b-7bc6-4496-a72f-231c59d5c999",
   "metadata": {},
   "outputs": [
    {
     "data": {
      "text/plain": [
       "0.9982564712587263"
      ]
     },
     "execution_count": 130,
     "metadata": {},
     "output_type": "execute_result"
    }
   ],
   "source": [
    "ransac.score(X_train, y_train)"
   ]
  },
  {
   "cell_type": "code",
   "execution_count": 119,
   "id": "c69fd373-840d-4ec5-85e6-168225c66ea8",
   "metadata": {},
   "outputs": [
    {
     "data": {
      "text/plain": [
       "0.9292493768886887"
      ]
     },
     "execution_count": 119,
     "metadata": {},
     "output_type": "execute_result"
    }
   ],
   "source": [
    "ransac.score(X_test, y_test)"
   ]
  },
  {
   "cell_type": "markdown",
   "id": "bab746c4-162a-4c64-828c-5c33f31d8d57",
   "metadata": {},
   "source": [
    "Also, a high result on the test data."
   ]
  },
  {
   "cell_type": "code",
   "execution_count": 124,
   "id": "f1d4efb3-4a6c-47d2-b561-698dbe8b8696",
   "metadata": {},
   "outputs": [
    {
     "data": {
      "text/plain": [
       "0.9999641834053117"
      ]
     },
     "execution_count": 124,
     "metadata": {},
     "output_type": "execute_result"
    }
   ],
   "source": [
    "ransac.score(X_train[ransac.inlier_mask_], y_train[ransac.inlier_mask_])"
   ]
  },
  {
   "cell_type": "code",
   "execution_count": 128,
   "id": "dae0ed20-64b4-4750-b78e-be7eebee8b21",
   "metadata": {},
   "outputs": [
    {
     "data": {
      "text/plain": [
       "0.9274146276986994"
      ]
     },
     "execution_count": 128,
     "metadata": {},
     "output_type": "execute_result"
    }
   ],
   "source": [
    "ransac.score(X_train[~ransac.inlier_mask_], y_train[~ransac.inlier_mask_])"
   ]
  },
  {
   "cell_type": "markdown",
   "id": "bf7eab70-6bcf-4a48-ac32-9af01dd5ce99",
   "metadata": {},
   "source": [
    "#### Linear Regression"
   ]
  },
  {
   "cell_type": "code",
   "execution_count": 146,
   "id": "10d21ecb-0a06-4a25-a9cd-9fb45dc32a8b",
   "metadata": {},
   "outputs": [],
   "source": [
    "linear_regression = LinearRegression()"
   ]
  },
  {
   "cell_type": "code",
   "execution_count": 147,
   "id": "011f5713-318e-423d-bc07-f889df127bb7",
   "metadata": {},
   "outputs": [
    {
     "data": {
      "text/plain": [
       "LinearRegression()"
      ]
     },
     "execution_count": 147,
     "metadata": {},
     "output_type": "execute_result"
    }
   ],
   "source": [
    "linear_regression.fit(X_train, y_train)"
   ]
  },
  {
   "cell_type": "code",
   "execution_count": 148,
   "id": "cb6ccf14-6f33-4b82-9846-84d77f61ee0b",
   "metadata": {},
   "outputs": [
    {
     "data": {
      "text/plain": [
       "0.10645763120605989"
      ]
     },
     "execution_count": 148,
     "metadata": {},
     "output_type": "execute_result"
    }
   ],
   "source": [
    "linear_regression.score(X_train, y_train)"
   ]
  },
  {
   "cell_type": "code",
   "execution_count": 149,
   "id": "8589a2d8-0e93-4c8e-a142-2aa758200ff2",
   "metadata": {},
   "outputs": [
    {
     "data": {
      "text/plain": [
       "-0.01328701278483746"
      ]
     },
     "execution_count": 149,
     "metadata": {},
     "output_type": "execute_result"
    }
   ],
   "source": [
    "linear_regression.score(X_test, y_test)"
   ]
  },
  {
   "cell_type": "code",
   "execution_count": 150,
   "id": "07cba623-39f8-406a-8469-ed20d92f048b",
   "metadata": {},
   "outputs": [
    {
     "data": {
      "text/plain": [
       "array([  3415.67314664,  -3683.23939719,   7631.38188162,  -9501.50446027,\n",
       "        -8125.3419976 , -20867.25527071,   1787.21903732,  -9141.64774675,\n",
       "         9085.46470903,  -8743.22964575,  -2045.79261742,    280.883773  ])"
      ]
     },
     "execution_count": 150,
     "metadata": {},
     "output_type": "execute_result"
    }
   ],
   "source": [
    "linear_regression.coef_"
   ]
  },
  {
   "cell_type": "markdown",
   "id": "22054aa7-d3f8-471a-b832-184f02e01922",
   "metadata": {},
   "source": [
    "Linear regression yields exceptionally weak results, especially on the test data. Probably there is no linear dependence in the data. Trying with polynomial features might be necessary."
   ]
  },
  {
   "cell_type": "markdown",
   "id": "a044cfde-4a0e-400b-96da-607e8a053320",
   "metadata": {},
   "source": [
    "#### Linear Regression with polynomial features"
   ]
  },
  {
   "cell_type": "code",
   "execution_count": 164,
   "id": "725f7e90-e23b-40af-a640-a1a6b82db251",
   "metadata": {},
   "outputs": [],
   "source": [
    "polynomial_features = PolynomialFeatures(degree=4, interaction_only=True)"
   ]
  },
  {
   "cell_type": "code",
   "execution_count": 165,
   "id": "42cb092e-143a-4cc2-ae6c-16461dd909b4",
   "metadata": {},
   "outputs": [],
   "source": [
    "X_poly = polynomial_features.fit_transform(X_train,y_train)"
   ]
  },
  {
   "cell_type": "code",
   "execution_count": 166,
   "id": "63021f47-772a-4edb-b7d8-8b565e19eb48",
   "metadata": {},
   "outputs": [
    {
     "data": {
      "text/plain": [
       "(698, 794)"
      ]
     },
     "execution_count": 166,
     "metadata": {},
     "output_type": "execute_result"
    }
   ],
   "source": [
    "X_poly.shape"
   ]
  },
  {
   "cell_type": "code",
   "execution_count": 167,
   "id": "5cf2bfbe-1a23-44a8-bad7-5921f038de08",
   "metadata": {},
   "outputs": [
    {
     "data": {
      "text/plain": [
       "LinearRegression()"
      ]
     },
     "execution_count": 167,
     "metadata": {},
     "output_type": "execute_result"
    }
   ],
   "source": [
    "polynomial_regression = LinearRegression()\n",
    "polynomial_regression.fit(X_poly, y_train)"
   ]
  },
  {
   "cell_type": "code",
   "execution_count": 168,
   "id": "e6c33a40-6fc2-4b77-b90a-6676ba9e7f45",
   "metadata": {},
   "outputs": [
    {
     "data": {
      "text/plain": [
       "0.9741624535835504"
      ]
     },
     "execution_count": 168,
     "metadata": {},
     "output_type": "execute_result"
    }
   ],
   "source": [
    "polynomial_regression.score(X_poly, y_train)"
   ]
  },
  {
   "cell_type": "code",
   "execution_count": 169,
   "id": "1bd66c8d-2f03-4ceb-be3a-caac8edb455a",
   "metadata": {},
   "outputs": [],
   "source": [
    "X_test_poly = polynomial_features.transform(X_test)"
   ]
  },
  {
   "cell_type": "code",
   "execution_count": 170,
   "id": "8a527f36-4111-412b-85a8-907b54e9a931",
   "metadata": {},
   "outputs": [],
   "source": [
    "y_predict = polynomial_regression.predict(X_test_poly)"
   ]
  },
  {
   "cell_type": "code",
   "execution_count": 172,
   "id": "caf4194e-edbe-402c-8f8d-e6d5c3adef4a",
   "metadata": {},
   "outputs": [
    {
     "data": {
      "text/plain": [
       "-3558925329929905.0"
      ]
     },
     "execution_count": 172,
     "metadata": {},
     "output_type": "execute_result"
    }
   ],
   "source": [
    "polynomial_regression.score(X_test_poly, y_test)"
   ]
  },
  {
   "cell_type": "markdown",
   "id": "8bead3a4-9a79-4682-832d-59ebb754aa00",
   "metadata": {},
   "source": [
    "This very high result on the training data - 0.9741... indicates that the model is likely overfitting. This is confirmed by the high negative coefficient of determination on the testing data. It should be tried with a lower degree."
   ]
  },
  {
   "cell_type": "code",
   "execution_count": 173,
   "id": "67a87a57-149a-47c5-a35a-273bd43a359b",
   "metadata": {},
   "outputs": [],
   "source": [
    "polynomial_features = PolynomialFeatures(degree=3, interaction_only=True)"
   ]
  },
  {
   "cell_type": "code",
   "execution_count": 174,
   "id": "f11610cb-fe33-40b3-9cbd-c9611e3e8355",
   "metadata": {},
   "outputs": [],
   "source": [
    "X_poly_cubed = polynomial_features.fit_transform(X_train,y_train)"
   ]
  },
  {
   "cell_type": "code",
   "execution_count": 175,
   "id": "d5444260-bef2-4dae-ac4c-c49169a052a7",
   "metadata": {},
   "outputs": [
    {
     "data": {
      "text/plain": [
       "(698, 299)"
      ]
     },
     "execution_count": 175,
     "metadata": {},
     "output_type": "execute_result"
    }
   ],
   "source": [
    "X_poly_cubed.shape"
   ]
  },
  {
   "cell_type": "code",
   "execution_count": 176,
   "id": "08b0ad48-c72c-42ac-b624-67ddaf089428",
   "metadata": {},
   "outputs": [
    {
     "data": {
      "text/plain": [
       "LinearRegression()"
      ]
     },
     "execution_count": 176,
     "metadata": {},
     "output_type": "execute_result"
    }
   ],
   "source": [
    "polynomial_regression.fit(X_poly_cubed, y_train)"
   ]
  },
  {
   "cell_type": "code",
   "execution_count": 177,
   "id": "e8a5dc1f-b5f2-4dd7-9952-db0c578e9e77",
   "metadata": {},
   "outputs": [
    {
     "data": {
      "text/plain": [
       "0.6820938524356761"
      ]
     },
     "execution_count": 177,
     "metadata": {},
     "output_type": "execute_result"
    }
   ],
   "source": [
    "polynomial_regression.score(X_poly_cubed, y_train)"
   ]
  },
  {
   "cell_type": "code",
   "execution_count": 178,
   "id": "4c019f75-c045-4e7d-832f-2c24ca6e5c6a",
   "metadata": {},
   "outputs": [],
   "source": [
    "X_test_cubed = polynomial_features.transform(X_test)"
   ]
  },
  {
   "cell_type": "code",
   "execution_count": 179,
   "id": "1e20ed67-aa06-42e5-9a09-b1e063d923bf",
   "metadata": {},
   "outputs": [],
   "source": [
    "y_predict = polynomial_regression.predict(X_test_cubed)"
   ]
  },
  {
   "cell_type": "code",
   "execution_count": 180,
   "id": "22c5acb7-0fb2-44f1-b558-6439a01773d1",
   "metadata": {},
   "outputs": [
    {
     "data": {
      "text/plain": [
       "-383.8884122533495"
      ]
     },
     "execution_count": 180,
     "metadata": {},
     "output_type": "execute_result"
    }
   ],
   "source": [
    "polynomial_regression.score(X_test_cubed, y_test)"
   ]
  },
  {
   "cell_type": "code",
   "execution_count": null,
   "id": "83ee9160-ec27-463c-8a63-0f8ac8429a8f",
   "metadata": {},
   "outputs": [],
   "source": []
  }
 ],
 "metadata": {
  "kernelspec": {
   "display_name": "Python 3 (ipykernel)",
   "language": "python",
   "name": "python3"
  },
  "language_info": {
   "codemirror_mode": {
    "name": "ipython",
    "version": 3
   },
   "file_extension": ".py",
   "mimetype": "text/x-python",
   "name": "python",
   "nbconvert_exporter": "python",
   "pygments_lexer": "ipython3",
   "version": "3.9.13"
  }
 },
 "nbformat": 4,
 "nbformat_minor": 5
}
