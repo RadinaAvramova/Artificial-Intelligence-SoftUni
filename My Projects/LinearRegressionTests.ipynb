{
 "cells": [
  {
   "cell_type": "code",
   "execution_count": 1,
   "id": "4f91ff93-d572-47b2-8695-987c1b6ab618",
   "metadata": {},
   "outputs": [],
   "source": [
    "%matplotlib inline"
   ]
  },
  {
   "cell_type": "code",
   "execution_count": 2,
   "id": "1e1c822d-030b-47f2-93ad-c50c328c4fcd",
   "metadata": {},
   "outputs": [],
   "source": [
    "import matplotlib.pyplot as plt\n",
    "import numpy as np"
   ]
  },
  {
   "cell_type": "code",
   "execution_count": 225,
   "id": "0946cae6-e594-4c7d-928e-2a042a40aeeb",
   "metadata": {},
   "outputs": [
    {
     "data": {
      "image/png": "[encoded data removed]",
      "text/plain": [
       "<Figure size 640x480 with 1 Axes>"
      ]
     },
     "metadata": {},
     "output_type": "display_data"
    }
   ],
   "source": [
    "rng = np.random.RandomState(45)\n",
    "\n",
    "x = 10 * rng.rand(100)\n",
    "y = -4 * x + 5 + 10*rng.rand(100)\n",
    "fig, ax = plt.subplots()\n",
    "\n",
    "ax.scatter(x, y)\n",
    "ax.axis('equal')\n",
    "\n",
    "ax.set_xlim(-2,6)\n",
    "ax.set_ylim(0,-10)\n",
    "plt.show()"
   ]
  },
  {
   "cell_type": "code",
   "execution_count": 168,
   "id": "0809d02b-bcb1-4a38-a652-a0bd36f9e14a",
   "metadata": {},
   "outputs": [
    {
     "name": "stdout",
     "output_type": "stream",
     "text": [
      "0.004867594752598903 9.994791511322937 4.98181041879599 2.8721892167501974\n"
     ]
    }
   ],
   "source": [
    "print(x.min(), x.max(), x.mean(), x.std())"
   ]
  },
  {
   "cell_type": "code",
   "execution_count": 169,
   "id": "ea141af3-a29c-46f8-9cf7-0003aad55a85",
   "metadata": {},
   "outputs": [
    {
     "name": "stdout",
     "output_type": "stream",
     "text": [
      "3.6609234371455486 100.94945283561401 51.602522523179346 26.800703894096976\n"
     ]
    }
   ],
   "source": [
    "print(y.min(), y.max(), y.mean(), y.std())"
   ]
  },
  {
   "cell_type": "code",
   "execution_count": 170,
   "id": "e0a26850-e472-4733-b3f9-d55503b97584",
   "metadata": {},
   "outputs": [],
   "source": [
    "def get_slope(point_1,point_2):\n",
    "    range_x = point_2[0] - point_1[0]\n",
    "    range_y = point_2[1] - point_1[1]\n",
    "    slope = range_y/range_x\n",
    "\n",
    "    return slope"
   ]
  },
  {
   "cell_type": "code",
   "execution_count": 171,
   "id": "a53d5f90-fc6a-41f5-b505-46124fe50691",
   "metadata": {},
   "outputs": [],
   "source": [
    "def get_middle_point(point_1, point_2):\n",
    "    mean_x = np.array(point_2[0],point_1[0]).mean()\n",
    "    mean_y = np.array(point_2[1],point_1[1]).mean()\n",
    "    return (mean_x, mean_y) "
   ]
  },
  {
   "cell_type": "code",
   "execution_count": 172,
   "id": "71bb7438-f272-4479-912f-0b6220c31dc6",
   "metadata": {},
   "outputs": [],
   "source": [
    "def find_parameters(x, y, n_iter):\n",
    "    points = list(zip(x, y))\n",
    "    \n",
    "    points_x_sorted = sorted(points, key= lambda x: x[0])\n",
    "    points_y_sorted = sorted(points, key= lambda x: x[1])\n",
    "    slopes_list = [] \n",
    " \n",
    "    center_x = 0\n",
    "    center_y = 0\n",
    "    for i in range(len(points_x_sorted)):\n",
    "        point_1, point_2 = points_x_sorted[i],points_x_sorted[(i+1)*-1]\n",
    "        \n",
    "        slopes_list.append(get_slope(point_1, point_2))\n",
    "        \n",
    "        center_point = get_middle_point(point_1, point_2)\n",
    "  \n",
    "        center_x += center_point[0]\n",
    "        center_y += center_point[1]\n",
    "        \n",
    "        if i == n_iter:\n",
    "            break\n",
    "            \n",
    "    center_x /= n_iter\n",
    "    center_y /= n_iter\n",
    "    \n",
    "    slopes_list = np.array(slopes_list)\n",
    "    slope = slopes_list.mean()\n",
    "    \n",
    "    center_point = (center_x, center_y)\n",
    "    \n",
    "    intercept =  center_y - slope * center_x\n",
    "\n",
    "    print('Slope:', slope, 'Intercept:', intercept)"
   ]
  },
  {
   "cell_type": "code",
   "execution_count": 227,
   "id": "45ae29b2-fdc1-403f-a7d7-b7ed1809f973",
   "metadata": {},
   "outputs": [
    {
     "name": "stdout",
     "output_type": "stream",
     "text": [
      "Slope: -3.953887457343794 Intercept: 10.074729509036583\n"
     ]
    }
   ],
   "source": [
    "find_parameters(x,y,20)"
   ]
  },
  {
   "cell_type": "code",
   "execution_count": null,
   "id": "dfe72a1c-1fa2-4b55-9483-4f2cbfe6e616",
   "metadata": {},
   "outputs": [],
   "source": []
  }
 ],
 "metadata": {
  "kernelspec": {
   "display_name": "Python 3 (ipykernel)",
   "language": "python",
   "name": "python3"
  },
  "language_info": {
   "codemirror_mode": {
    "name": "ipython",
    "version": 3
   },
   "file_extension": ".py",
   "mimetype": "text/x-python",
   "name": "python",
   "nbconvert_exporter": "python",
   "pygments_lexer": "ipython3",
   "version": "3.9.13"
  }
 },
 "nbformat": 4,
 "nbformat_minor": 5
}
