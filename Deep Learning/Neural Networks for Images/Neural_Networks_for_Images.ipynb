{
  "nbformat": 4,
  "nbformat_minor": 0,
  "metadata": {
    "colab": {
      "provenance": [],
      "gpuType": "T4"
    },
    "kernelspec": {
      "name": "python3",
      "display_name": "Python 3"
    },
    "language_info": {
      "name": "python"
    },
    "accelerator": "GPU"
  },
  "cells": [
    {
      "cell_type": "code",
      "execution_count": 1,
      "metadata": {
        "colab": {
          "base_uri": "https://localhost:8080/"
        },
        "id": "NA_FXKVX9iGz",
        "outputId": "35f76bb4-a537-4b79-d776-9386316d96c8"
      },
      "outputs": [
        {
          "output_type": "stream",
          "name": "stdout",
          "text": [
            "Mounted at /content/gdrive\n"
          ]
        }
      ],
      "source": [
        "from google.colab import drive\n",
        "drive.mount('/content/gdrive')"
      ]
    },
    {
      "cell_type": "code",
      "source": [
        "import numpy as np\n",
        "import pandas as pd\n",
        "import matplotlib.pyplot as plt\n",
        "\n",
        "import tensorflow as tf\n",
        "\n",
        "from tensorflow.keras.datasets import mnist\n",
        "\n",
        "from tensorflow.keras.models import Sequential, Model\n",
        "from tensorflow.keras.layers import Input, Conv2D, MaxPool2D, GlobalAvgPool2D, Dense, Dropout, Flatten, Concatenate"
      ],
      "metadata": {
        "id": "MciO_EHd_lZe"
      },
      "execution_count": 2,
      "outputs": []
    },
    {
      "cell_type": "markdown",
      "source": [
        "# Neural Networks for Images"
      ],
      "metadata": {
        "id": "VID9ortr_u47"
      }
    },
    {
      "cell_type": "code",
      "source": [
        "(X_train, y_train), (X_test, y_test) = mnist.load_data()"
      ],
      "metadata": {
        "colab": {
          "base_uri": "https://localhost:8080/"
        },
        "id": "jPA9Q5Yz_t-x",
        "outputId": "65020e4f-33b4-4b5c-834a-b1f901dcea4c"
      },
      "execution_count": 3,
      "outputs": [
        {
          "output_type": "stream",
          "name": "stdout",
          "text": [
            "Downloading data from https://storage.googleapis.com/tensorflow/tf-keras-datasets/mnist.npz\n",
            "11490434/11490434 [==============================] - 0s 0us/step\n"
          ]
        }
      ]
    },
    {
      "cell_type": "code",
      "source": [
        "X_train.shape, y_train.shape"
      ],
      "metadata": {
        "colab": {
          "base_uri": "https://localhost:8080/"
        },
        "id": "FVzDIjPeC1Fq",
        "outputId": "7f1ca90c-3463-4bcc-c8d4-6612dedb660a"
      },
      "execution_count": 4,
      "outputs": [
        {
          "output_type": "execute_result",
          "data": {
            "text/plain": [
              "((60000, 28, 28), (60000,))"
            ]
          },
          "metadata": {},
          "execution_count": 4
        }
      ]
    },
    {
      "cell_type": "code",
      "source": [
        "X_train = tf.expand_dims(X_train, -1).numpy()\n",
        "X_test = tf.expand_dims(X_test, -1).numpy()"
      ],
      "metadata": {
        "id": "nbkRXehvDAe8"
      },
      "execution_count": 5,
      "outputs": []
    },
    {
      "cell_type": "code",
      "source": [
        "INPUT_SHAPE = X_train.shape[1:]\n",
        "NUM_CLASSES = len(set(y_train))"
      ],
      "metadata": {
        "id": "jGqYh-LKEbW4"
      },
      "execution_count": 6,
      "outputs": []
    },
    {
      "cell_type": "code",
      "source": [
        "INPUT_SHAPE, NUM_CLASSES"
      ],
      "metadata": {
        "colab": {
          "base_uri": "https://localhost:8080/"
        },
        "id": "oYq4xM7BFRaB",
        "outputId": "3daf9c65-4bbc-415d-ee49-1a04019e0261"
      },
      "execution_count": 7,
      "outputs": [
        {
          "output_type": "execute_result",
          "data": {
            "text/plain": [
              "((28, 28, 1), 10)"
            ]
          },
          "metadata": {},
          "execution_count": 7
        }
      ]
    },
    {
      "cell_type": "code",
      "source": [
        "tf.keras.backend.clear_session()"
      ],
      "metadata": {
        "id": "8etYaZ3w8RzT"
      },
      "execution_count": 8,
      "outputs": []
    },
    {
      "cell_type": "code",
      "source": [
        "model = Sequential([\n",
        "    Input(INPUT_SHAPE),\n",
        "    Conv2D(32, 3, padding = 'same', strides = 2, activation = 'relu'),\n",
        "    Conv2D(32, 3, padding = 'same', activation = 'relu'),\n",
        "    MaxPool2D(),\n",
        "    Conv2D(16, 3, padding = 'same', strides = 2, activation = 'relu'),\n",
        "    Conv2D(16, 3, padding = 'same', activation = 'relu'),\n",
        "\n",
        "    # Flatten(),\n",
        "    GlobalAvgPool2D(),\n",
        "\n",
        "    Dense(NUM_CLASSES, activation = 'relu'),\n",
        "    Dropout(0.05),\n",
        "    Dense(NUM_CLASSES, activation = 'softmax')\n",
        "])"
      ],
      "metadata": {
        "id": "ktPnm27bFVmc"
      },
      "execution_count": 9,
      "outputs": []
    },
    {
      "cell_type": "code",
      "source": [
        "model.summary()"
      ],
      "metadata": {
        "colab": {
          "base_uri": "https://localhost:8080/"
        },
        "id": "k6KkuDaNGfU1",
        "outputId": "86d449d2-abe3-408d-f9ad-131195ecbd77"
      },
      "execution_count": 10,
      "outputs": [
        {
          "output_type": "stream",
          "name": "stdout",
          "text": [
            "Model: \"sequential\"\n",
            "_________________________________________________________________\n",
            " Layer (type)                Output Shape              Param #   \n",
            "=================================================================\n",
            " conv2d (Conv2D)             (None, 14, 14, 32)        320       \n",
            "                                                                 \n",
            " conv2d_1 (Conv2D)           (None, 14, 14, 32)        9248      \n",
            "                                                                 \n",
            " max_pooling2d (MaxPooling2  (None, 7, 7, 32)          0         \n",
            " D)                                                              \n",
            "                                                                 \n",
            " conv2d_2 (Conv2D)           (None, 4, 4, 16)          4624      \n",
            "                                                                 \n",
            " conv2d_3 (Conv2D)           (None, 4, 4, 16)          2320      \n",
            "                                                                 \n",
            " global_average_pooling2d (  (None, 16)                0         \n",
            " GlobalAveragePooling2D)                                         \n",
            "                                                                 \n",
            " dense (Dense)               (None, 10)                170       \n",
            "                                                                 \n",
            " dropout (Dropout)           (None, 10)                0         \n",
            "                                                                 \n",
            " dense_1 (Dense)             (None, 10)                110       \n",
            "                                                                 \n",
            "=================================================================\n",
            "Total params: 16792 (65.59 KB)\n",
            "Trainable params: 16792 (65.59 KB)\n",
            "Non-trainable params: 0 (0.00 Byte)\n",
            "_________________________________________________________________\n"
          ]
        }
      ]
    },
    {
      "cell_type": "code",
      "source": [
        "model.compile(optimizer = 'adam', loss = 'sparse_categorical_crossentropy', metrics = ['accuracy'])"
      ],
      "metadata": {
        "id": "z876cYFTGhHC"
      },
      "execution_count": 11,
      "outputs": []
    },
    {
      "cell_type": "code",
      "source": [
        "history = model.fit(X_train, y_train, epochs = 5, validation_split = 0.1)"
      ],
      "metadata": {
        "colab": {
          "base_uri": "https://localhost:8080/"
        },
        "id": "c05aMfwvC_CW",
        "outputId": "6b55c53e-1942-4706-e371-4f82930c85eb"
      },
      "execution_count": 12,
      "outputs": [
        {
          "output_type": "stream",
          "name": "stdout",
          "text": [
            "Epoch 1/5\n",
            "1688/1688 [==============================] - 15s 5ms/step - loss: 0.5607 - accuracy: 0.8124 - val_loss: 0.1672 - val_accuracy: 0.9575\n",
            "Epoch 2/5\n",
            "1688/1688 [==============================] - 9s 5ms/step - loss: 0.2138 - accuracy: 0.9253 - val_loss: 0.1171 - val_accuracy: 0.9685\n",
            "Epoch 3/5\n",
            "1688/1688 [==============================] - 9s 5ms/step - loss: 0.1626 - accuracy: 0.9461 - val_loss: 0.0751 - val_accuracy: 0.9813\n",
            "Epoch 4/5\n",
            "1688/1688 [==============================] - 8s 5ms/step - loss: 0.1291 - accuracy: 0.9597 - val_loss: 0.0773 - val_accuracy: 0.9805\n",
            "Epoch 5/5\n",
            "1688/1688 [==============================] - 9s 5ms/step - loss: 0.1070 - accuracy: 0.9666 - val_loss: 0.0718 - val_accuracy: 0.9823\n"
          ]
        }
      ]
    },
    {
      "cell_type": "code",
      "source": [
        "model.evaluate(X_test, y_test)"
      ],
      "metadata": {
        "colab": {
          "base_uri": "https://localhost:8080/"
        },
        "id": "tj7jJhu8DwAk",
        "outputId": "e1791283-081c-419d-9302-20b00edc6f25"
      },
      "execution_count": 13,
      "outputs": [
        {
          "output_type": "stream",
          "name": "stdout",
          "text": [
            "313/313 [==============================] - 1s 2ms/step - loss: 0.0640 - accuracy: 0.9817\n"
          ]
        },
        {
          "output_type": "execute_result",
          "data": {
            "text/plain": [
              "[0.06396148353815079, 0.9817000031471252]"
            ]
          },
          "metadata": {},
          "execution_count": 13
        }
      ]
    },
    {
      "cell_type": "code",
      "source": [
        "model.save_weights('model_global_pooling.h5')"
      ],
      "metadata": {
        "id": "1YLDjT1DF5e4"
      },
      "execution_count": 14,
      "outputs": []
    },
    {
      "cell_type": "code",
      "source": [
        "model.layers"
      ],
      "metadata": {
        "colab": {
          "base_uri": "https://localhost:8080/"
        },
        "id": "Utu-ppdK-JLp",
        "outputId": "d7d3df81-d969-4aa3-8b36-a0f017240d53"
      },
      "execution_count": 15,
      "outputs": [
        {
          "output_type": "execute_result",
          "data": {
            "text/plain": [
              "[<keras.src.layers.convolutional.conv2d.Conv2D at 0x7cf9381fc670>,\n",
              " <keras.src.layers.convolutional.conv2d.Conv2D at 0x7cf9381fcd00>,\n",
              " <keras.src.layers.pooling.max_pooling2d.MaxPooling2D at 0x7cf9381fce50>,\n",
              " <keras.src.layers.convolutional.conv2d.Conv2D at 0x7cf9381fd510>,\n",
              " <keras.src.layers.convolutional.conv2d.Conv2D at 0x7cf9381fda80>,\n",
              " <keras.src.layers.pooling.global_average_pooling2d.GlobalAveragePooling2D at 0x7cf9381fdbd0>,\n",
              " <keras.src.layers.core.dense.Dense at 0x7cf9381fe260>,\n",
              " <keras.src.layers.regularization.dropout.Dropout at 0x7cf9381fe3b0>,\n",
              " <keras.src.layers.core.dense.Dense at 0x7cf9381fe860>]"
            ]
          },
          "metadata": {},
          "execution_count": 15
        }
      ]
    },
    {
      "cell_type": "code",
      "source": [
        "len(model.layers[0].weights)"
      ],
      "metadata": {
        "colab": {
          "base_uri": "https://localhost:8080/"
        },
        "id": "ZMMXNMwb-jcr",
        "outputId": "e6deb273-1b2c-4bd1-d85d-9714a649ecec"
      },
      "execution_count": 16,
      "outputs": [
        {
          "output_type": "execute_result",
          "data": {
            "text/plain": [
              "2"
            ]
          },
          "metadata": {},
          "execution_count": 16
        }
      ]
    },
    {
      "cell_type": "code",
      "source": [
        "model.layers[0].kernel.shape"
      ],
      "metadata": {
        "colab": {
          "base_uri": "https://localhost:8080/"
        },
        "id": "pJhJBSw8-jlh",
        "outputId": "b20ba63e-9b3e-46e5-a082-4bf06aa6254c"
      },
      "execution_count": 17,
      "outputs": [
        {
          "output_type": "execute_result",
          "data": {
            "text/plain": [
              "TensorShape([3, 3, 1, 32])"
            ]
          },
          "metadata": {},
          "execution_count": 17
        }
      ]
    },
    {
      "cell_type": "code",
      "source": [
        "model.layers[0].kernel[:, :, :, 0].shape"
      ],
      "metadata": {
        "colab": {
          "base_uri": "https://localhost:8080/"
        },
        "id": "7e3iL5N6-Qpr",
        "outputId": "31f8d1dc-38c3-4a21-dc8a-68aead557988"
      },
      "execution_count": 18,
      "outputs": [
        {
          "output_type": "execute_result",
          "data": {
            "text/plain": [
              "TensorShape([3, 3, 1])"
            ]
          },
          "metadata": {},
          "execution_count": 18
        }
      ]
    },
    {
      "cell_type": "code",
      "source": [
        "for i in range(6):\n",
        "  plt.imshow(model.layers[0].kernel[:, :, :, i], cmap = 'gray')\n",
        "  plt.colorbar()\n",
        "  plt.show()"
      ],
      "metadata": {
        "colab": {
          "base_uri": "https://localhost:8080/",
          "height": 1000
        },
        "id": "sTu0LTaJ--vE",
        "outputId": "539c3aff-7650-4b22-ecb4-2f3e4c9d9ac9"
      },
      "execution_count": 19,
      "outputs": [
        {
          "output_type": "display_data",
          "data": {
            "text/plain": [
              "<Figure size 640x480 with 2 Axes>"
            ],
            "image/png": "[encoded data removed]"
          },
          "metadata": {}
        },
        {
          "output_type": "display_data",
          "data": {
            "text/plain": [
              "<Figure size 640x480 with 2 Axes>"
            ],
            "image/png": "[encoded data removed]"
          },
          "metadata": {}
        },
        {
          "output_type": "display_data",
          "data": {
            "text/plain": [
              "<Figure size 640x480 with 2 Axes>"
            ],
            "image/png": "[encoded data removed]"
          },
          "metadata": {}
        },
        {
          "output_type": "display_data",
          "data": {
            "text/plain": [
              "<Figure size 640x480 with 2 Axes>"
            ],
            "image/png": "[encoded data removed]"
          },
          "metadata": {}
        },
        {
          "output_type": "display_data",
          "data": {
            "text/plain": [
              "<Figure size 640x480 with 2 Axes>"
            ],
            "image/png": "[encoded data removed]"
          },
          "metadata": {}
        },
        {
          "output_type": "display_data",
          "data": {
            "text/plain": [
              "<Figure size 640x480 with 2 Axes>"
            ],
            "image/png": "[encoded data removed]"
          },
          "metadata": {}
        }
      ]
    },
    {
      "cell_type": "markdown",
      "source": [
        "### Residual Network"
      ],
      "metadata": {
        "id": "fy2WE5cubPk2"
      }
    },
    {
      "cell_type": "code",
      "source": [
        "input = Input((20, 20, 32))"
      ],
      "metadata": {
        "id": "1Hli6jwBW_af"
      },
      "execution_count": 20,
      "outputs": []
    },
    {
      "cell_type": "code",
      "source": [
        "x = Conv2D(32, (3, 3), padding = 'same', activation = 'relu')(input)\n",
        "resnet_block_start = Conv2D(32, (3, 3), padding = 'same', activation = 'relu')(x)\n",
        "\n",
        "long_path = Conv2D(32, (3, 3), padding = 'same', activation = 'relu')(resnet_block_start)\n",
        "long_path = Conv2D(32, (3, 3), padding = 'same', activation = 'relu')(long_path)\n",
        "\n",
        "concat = Concatenate()([long_path, resnet_block_start])\n",
        "\n",
        "x = Conv2D(32, (3, 3), activation = 'relu')(concat)"
      ],
      "metadata": {
        "id": "JD9bWLtNXFKw"
      },
      "execution_count": 21,
      "outputs": []
    },
    {
      "cell_type": "code",
      "source": [
        "x"
      ],
      "metadata": {
        "colab": {
          "base_uri": "https://localhost:8080/"
        },
        "id": "N_4YPXPUXga4",
        "outputId": "7c2dc8a1-ac68-4949-d019-0494b0faff54"
      },
      "execution_count": 22,
      "outputs": [
        {
          "output_type": "execute_result",
          "data": {
            "text/plain": [
              "<KerasTensor: shape=(None, 18, 18, 32) dtype=float32 (created by layer 'conv2d_8')>"
            ]
          },
          "metadata": {},
          "execution_count": 22
        }
      ]
    },
    {
      "cell_type": "code",
      "source": [
        "resnet_block = Model(inputs = [resnet_block_start], outputs = [concat])"
      ],
      "metadata": {
        "id": "vgArnlSeYgW7"
      },
      "execution_count": 23,
      "outputs": []
    },
    {
      "cell_type": "code",
      "source": [
        "resnet_block.summary()"
      ],
      "metadata": {
        "colab": {
          "base_uri": "https://localhost:8080/"
        },
        "id": "-hWGL7XobcjR",
        "outputId": "447d076d-a83a-4696-a1e0-1cfcea293b26"
      },
      "execution_count": 24,
      "outputs": [
        {
          "output_type": "stream",
          "name": "stdout",
          "text": [
            "Model: \"model\"\n",
            "__________________________________________________________________________________________________\n",
            " Layer (type)                Output Shape                 Param #   Connected to                  \n",
            "==================================================================================================\n",
            " input_3 (InputLayer)        [(None, 20, 20, 32)]         0         []                            \n",
            "                                                                                                  \n",
            " conv2d_6 (Conv2D)           (None, 20, 20, 32)           9248      ['input_3[0][0]']             \n",
            "                                                                                                  \n",
            " conv2d_7 (Conv2D)           (None, 20, 20, 32)           9248      ['conv2d_6[1][0]']            \n",
            "                                                                                                  \n",
            " concatenate (Concatenate)   (None, 20, 20, 64)           0         ['conv2d_7[1][0]',            \n",
            "                                                                     'input_3[0][0]']             \n",
            "                                                                                                  \n",
            "==================================================================================================\n",
            "Total params: 18496 (72.25 KB)\n",
            "Trainable params: 18496 (72.25 KB)\n",
            "Non-trainable params: 0 (0.00 Byte)\n",
            "__________________________________________________________________________________________________\n"
          ]
        }
      ]
    },
    {
      "cell_type": "code",
      "source": [
        "tf.keras.utils.plot_model(resnet_block)"
      ],
      "metadata": {
        "colab": {
          "base_uri": "https://localhost:8080/",
          "height": 369
        },
        "id": "VCWeBXUmcXn8",
        "outputId": "de90084f-286f-49a6-b607-181ad554874c"
      },
      "execution_count": 25,
      "outputs": [
        {
          "output_type": "execute_result",
          "data": {
            "image/png": "[encoded data removed]",
            "text/plain": [
              "<IPython.core.display.Image object>"
            ]
          },
          "metadata": {},
          "execution_count": 25
        }
      ]
    },
    {
      "cell_type": "code",
      "source": [
        "Concatenate()([concat, concat])"
      ],
      "metadata": {
        "colab": {
          "base_uri": "https://localhost:8080/"
        },
        "id": "hoC6tr3xc1oW",
        "outputId": "ccf939a3-919e-4977-ac9d-60226d3d3678"
      },
      "execution_count": 26,
      "outputs": [
        {
          "output_type": "execute_result",
          "data": {
            "text/plain": [
              "<KerasTensor: shape=(None, 20, 20, 128) dtype=float32 (created by layer 'concatenate_1')>"
            ]
          },
          "metadata": {},
          "execution_count": 26
        }
      ]
    },
    {
      "cell_type": "markdown",
      "source": [
        "### Network in Netwrok"
      ],
      "metadata": {
        "id": "e_IICeFqea5o"
      }
    },
    {
      "cell_type": "code",
      "source": [
        "x = Conv2D(32, (1, 1))(input)"
      ],
      "metadata": {
        "id": "NIMaVWZKc8HL"
      },
      "execution_count": 33,
      "outputs": []
    },
    {
      "cell_type": "code",
      "source": [
        "one_by_one_conv = Model(inputs = [input], outputs = [x])"
      ],
      "metadata": {
        "id": "4eBRr1QWdCu5"
      },
      "execution_count": 34,
      "outputs": []
    },
    {
      "cell_type": "code",
      "source": [
        "tf.keras.utils.plot_model(one_by_one_conv)"
      ],
      "metadata": {
        "colab": {
          "base_uri": "https://localhost:8080/",
          "height": 174
        },
        "id": "-b16MLPCdZb8",
        "outputId": "e71ffcc4-d14e-45b6-99e7-04bfdd5852b7"
      },
      "execution_count": 35,
      "outputs": [
        {
          "output_type": "execute_result",
          "data": {
            "image/png": "[encoded data removed]",
            "text/plain": [
              "<IPython.core.display.Image object>"
            ]
          },
          "metadata": {},
          "execution_count": 35
        }
      ]
    },
    {
      "cell_type": "code",
      "source": [
        "one_by_one_conv.summary()"
      ],
      "metadata": {
        "colab": {
          "base_uri": "https://localhost:8080/"
        },
        "id": "F986WL-SdikR",
        "outputId": "3c40d92f-c8b3-4336-e194-84e894e95acb"
      },
      "execution_count": 36,
      "outputs": [
        {
          "output_type": "stream",
          "name": "stdout",
          "text": [
            "Model: \"model_2\"\n",
            "_________________________________________________________________\n",
            " Layer (type)                Output Shape              Param #   \n",
            "=================================================================\n",
            " input_2 (InputLayer)        [(None, 20, 20, 32)]      0         \n",
            "                                                                 \n",
            " conv2d_9 (Conv2D)           (None, 20, 20, 32)        1056      \n",
            "                                                                 \n",
            "=================================================================\n",
            "Total params: 1056 (4.12 KB)\n",
            "Trainable params: 1056 (4.12 KB)\n",
            "Non-trainable params: 0 (0.00 Byte)\n",
            "_________________________________________________________________\n"
          ]
        }
      ]
    },
    {
      "cell_type": "code",
      "source": [
        ""
      ],
      "metadata": {
        "id": "1Uu88bEgdoYU"
      },
      "execution_count": null,
      "outputs": []
    }
  ]
}