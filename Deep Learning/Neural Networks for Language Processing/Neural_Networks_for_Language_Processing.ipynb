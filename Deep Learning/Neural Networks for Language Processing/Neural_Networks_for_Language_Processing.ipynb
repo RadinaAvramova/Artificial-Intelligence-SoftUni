{
  "nbformat": 4,
  "nbformat_minor": 0,
  "metadata": {
    "colab": {
      "provenance": []
    },
    "kernelspec": {
      "name": "python3",
      "display_name": "Python 3"
    },
    "language_info": {
      "name": "python"
    }
  },
  "cells": [
    {
      "cell_type": "code",
      "source": [
        "import numpy as np\n",
        "import pandas as pd\n",
        "import tensorflow as tf\n",
        "\n",
        "from tensorflow.keras.datasets import imdb\n",
        "\n",
        "from tensorflow.keras.models import Sequential\n",
        "from tensorflow.keras.layers import Input, Dense, Flatten, LSTM, Dropout, GRU, Bidirectional, Embedding"
      ],
      "metadata": {
        "id": "DBYI1f9uxP6_"
      },
      "execution_count": 1,
      "outputs": []
    },
    {
      "cell_type": "markdown",
      "source": [
        "# Neural Networks for Language Processing\n"
      ],
      "metadata": {
        "id": "q6yjXtSlxBlu"
      }
    },
    {
      "cell_type": "markdown",
      "source": [
        "### Live demos"
      ],
      "metadata": {
        "id": "04qF-OS8xJh9"
      }
    },
    {
      "cell_type": "code",
      "source": [
        "VOCABULARY_SIZE = 10000\n",
        "OOV = -1\n",
        "SEQUENCE_LENGTH = 800\n",
        "EMBEDING_LENGTH = 256"
      ],
      "metadata": {
        "id": "_HisETFsOJtG"
      },
      "execution_count": 2,
      "outputs": []
    },
    {
      "cell_type": "code",
      "source": [
        "(X_train, y_train),(X_test, y_tesg) = imdb.load_data(num_words = VOCABULARY_SIZE, oov_char = OOV)"
      ],
      "metadata": {
        "id": "Y7FApnf8xKzU"
      },
      "execution_count": 3,
      "outputs": []
    },
    {
      "cell_type": "code",
      "source": [
        "X_train.shape"
      ],
      "metadata": {
        "colab": {
          "base_uri": "https://localhost:8080/"
        },
        "id": "oPWRRfN_xqF1",
        "outputId": "ce11fcac-a8d0-46e8-ee7a-52c45d692d89"
      },
      "execution_count": 4,
      "outputs": [
        {
          "output_type": "execute_result",
          "data": {
            "text/plain": [
              "(25000,)"
            ]
          },
          "metadata": {},
          "execution_count": 4
        }
      ]
    },
    {
      "cell_type": "code",
      "source": [
        "# Tokens\n",
        "X_train[0][:10]"
      ],
      "metadata": {
        "colab": {
          "base_uri": "https://localhost:8080/"
        },
        "id": "nTGcM_JLz0MO",
        "outputId": "f142d9dd-6c10-4803-f091-b0995898a5d0"
      },
      "execution_count": 5,
      "outputs": [
        {
          "output_type": "execute_result",
          "data": {
            "text/plain": [
              "[1, 14, 22, 16, 43, 530, 973, 1622, 1385, 65]"
            ]
          },
          "metadata": {},
          "execution_count": 5
        }
      ]
    },
    {
      "cell_type": "code",
      "source": [
        "# Add padding\n",
        "tf.keras.utils.pad_sequences(X_train[0:5], maxlen = SEQUENCE_LENGTH, padding= 'post')"
      ],
      "metadata": {
        "colab": {
          "base_uri": "https://localhost:8080/"
        },
        "id": "KmQeGXgM1M9Y",
        "outputId": "03048efb-0b1d-4529-fb7b-ae0363954eec"
      },
      "execution_count": 6,
      "outputs": [
        {
          "output_type": "execute_result",
          "data": {
            "text/plain": [
              "array([[   1,   14,   22, ...,    0,    0,    0],\n",
              "       [   1,  194, 1153, ...,    0,    0,    0],\n",
              "       [   1,   14,   47, ...,    0,    0,    0],\n",
              "       [   1,    4,   -1, ...,    0,    0,    0],\n",
              "       [   1,  249, 1323, ...,    0,    0,    0]], dtype=int32)"
            ]
          },
          "metadata": {},
          "execution_count": 6
        }
      ]
    },
    {
      "cell_type": "code",
      "source": [
        "imdb.get_word_index()['the'], imdb.get_word_index()['in'], imdb.get_word_index()['table']"
      ],
      "metadata": {
        "colab": {
          "base_uri": "https://localhost:8080/"
        },
        "id": "8AMHzzHA1gaM",
        "outputId": "2fb04811-40a7-4ed7-a164-cf1febcef30d"
      },
      "execution_count": 7,
      "outputs": [
        {
          "output_type": "execute_result",
          "data": {
            "text/plain": [
              "(1, 8, 2699)"
            ]
          },
          "metadata": {},
          "execution_count": 7
        }
      ]
    },
    {
      "cell_type": "code",
      "source": [
        "indices = imdb.get_word_index()"
      ],
      "metadata": {
        "id": "Khy4bxaV2TiA"
      },
      "execution_count": 8,
      "outputs": []
    },
    {
      "cell_type": "code",
      "source": [
        "words = {v : k for k, v in indices.items()}"
      ],
      "metadata": {
        "id": "SXFqwL0_3QVg"
      },
      "execution_count": 9,
      "outputs": []
    },
    {
      "cell_type": "code",
      "source": [
        "words[14]"
      ],
      "metadata": {
        "colab": {
          "base_uri": "https://localhost:8080/",
          "height": 36
        },
        "id": "nrqtg7zW3a58",
        "outputId": "9bab20df-b374-4bd1-9a4f-56dcf5fac375"
      },
      "execution_count": 10,
      "outputs": [
        {
          "output_type": "execute_result",
          "data": {
            "text/plain": [
              "'as'"
            ],
            "application/vnd.google.colaboratory.intrinsic+json": {
              "type": "string"
            }
          },
          "metadata": {},
          "execution_count": 10
        }
      ]
    },
    {
      "cell_type": "code",
      "source": [
        "[words[x] for x in X_train[0][:10]]"
      ],
      "metadata": {
        "colab": {
          "base_uri": "https://localhost:8080/"
        },
        "id": "s_YhNc_R3daV",
        "outputId": "f7e88793-5cab-4de8-b9d2-5c3e1107cac8"
      },
      "execution_count": 11,
      "outputs": [
        {
          "output_type": "execute_result",
          "data": {
            "text/plain": [
              "['the',\n",
              " 'as',\n",
              " 'you',\n",
              " 'with',\n",
              " 'out',\n",
              " 'themselves',\n",
              " 'powerful',\n",
              " 'lets',\n",
              " 'loves',\n",
              " 'their']"
            ]
          },
          "metadata": {},
          "execution_count": 11
        }
      ]
    },
    {
      "cell_type": "code",
      "source": [
        "tf.keras.backend.clear_session()"
      ],
      "metadata": {
        "id": "7E1IiaIH0Uu6"
      },
      "execution_count": 12,
      "outputs": []
    },
    {
      "cell_type": "markdown",
      "source": [
        "### LSTM"
      ],
      "metadata": {
        "id": "ni10Ub7oVWnw"
      }
    },
    {
      "cell_type": "code",
      "source": [
        "model = Sequential([\n",
        "    Input((SEQUENCE_LENGTH, 32)),\n",
        "    LSTM(5, return_sequences = True),\n",
        "    LSTM(10, return_sequences = True),\n",
        "    LSTM(5),\n",
        "    Flatten(),\n",
        "\n",
        "    Dense(VOCABULARY_SIZE, activation = 'sigmoid')\n",
        "])"
      ],
      "metadata": {
        "id": "URO4NCRS45BZ"
      },
      "execution_count": 13,
      "outputs": []
    },
    {
      "cell_type": "code",
      "source": [
        "model.summary()"
      ],
      "metadata": {
        "colab": {
          "base_uri": "https://localhost:8080/"
        },
        "id": "u91fy-8v0QG5",
        "outputId": "6434de9a-3c26-4357-d324-dbe6e2c55749"
      },
      "execution_count": 14,
      "outputs": [
        {
          "output_type": "stream",
          "name": "stdout",
          "text": [
            "Model: \"sequential\"\n",
            "_________________________________________________________________\n",
            " Layer (type)                Output Shape              Param #   \n",
            "=================================================================\n",
            " lstm (LSTM)                 (None, 800, 5)            760       \n",
            "                                                                 \n",
            " lstm_1 (LSTM)               (None, 800, 10)           640       \n",
            "                                                                 \n",
            " lstm_2 (LSTM)               (None, 5)                 320       \n",
            "                                                                 \n",
            " flatten (Flatten)           (None, 5)                 0         \n",
            "                                                                 \n",
            " dense (Dense)               (None, 10000)             60000     \n",
            "                                                                 \n",
            "=================================================================\n",
            "Total params: 61720 (241.09 KB)\n",
            "Trainable params: 61720 (241.09 KB)\n",
            "Non-trainable params: 0 (0.00 Byte)\n",
            "_________________________________________________________________\n"
          ]
        }
      ]
    },
    {
      "cell_type": "code",
      "source": [
        "result = model.predict(tf.random.uniform((8, SEQUENCE_LENGTH, 32)))"
      ],
      "metadata": {
        "colab": {
          "base_uri": "https://localhost:8080/"
        },
        "id": "HAMuorP70Stv",
        "outputId": "a83585be-d2da-4eaf-d395-e48c8d115ba8"
      },
      "execution_count": 15,
      "outputs": [
        {
          "output_type": "stream",
          "name": "stdout",
          "text": [
            "1/1 [==============================] - 2s 2s/step\n"
          ]
        }
      ]
    },
    {
      "cell_type": "markdown",
      "source": [
        "### Bidirectional model"
      ],
      "metadata": {
        "id": "ygPjTkaRVavK"
      }
    },
    {
      "cell_type": "code",
      "source": [
        "bidirectional_model = Sequential([\n",
        "    Input((SEQUENCE_LENGTH, 32)),\n",
        "    Bidirectional(LSTM(5, return_sequences = True))\n",
        "])"
      ],
      "metadata": {
        "id": "4DG5do3o3VfW"
      },
      "execution_count": 16,
      "outputs": []
    },
    {
      "cell_type": "code",
      "source": [
        "bidirectional_model.summary()"
      ],
      "metadata": {
        "colab": {
          "base_uri": "https://localhost:8080/"
        },
        "id": "0mksnYPRV0O8",
        "outputId": "7d312345-0ec5-4661-c494-d693ba60bf9c"
      },
      "execution_count": 17,
      "outputs": [
        {
          "output_type": "stream",
          "name": "stdout",
          "text": [
            "Model: \"sequential_1\"\n",
            "_________________________________________________________________\n",
            " Layer (type)                Output Shape              Param #   \n",
            "=================================================================\n",
            " bidirectional (Bidirection  (None, 800, 10)           1520      \n",
            " al)                                                             \n",
            "                                                                 \n",
            "=================================================================\n",
            "Total params: 1520 (5.94 KB)\n",
            "Trainable params: 1520 (5.94 KB)\n",
            "Non-trainable params: 0 (0.00 Byte)\n",
            "_________________________________________________________________\n"
          ]
        }
      ]
    },
    {
      "cell_type": "code",
      "source": [
        "pca = Sequential([\n",
        "    Input(10000),\n",
        "    Dense(32, use_bias = False),\n",
        "])"
      ],
      "metadata": {
        "id": "qWSfgSq8V2mZ"
      },
      "execution_count": 18,
      "outputs": []
    },
    {
      "cell_type": "code",
      "source": [
        "pca.summary()"
      ],
      "metadata": {
        "colab": {
          "base_uri": "https://localhost:8080/"
        },
        "id": "2qpoec2zXkam",
        "outputId": "bc5e230d-e799-420b-e207-7e60f2f2eb12"
      },
      "execution_count": 19,
      "outputs": [
        {
          "output_type": "stream",
          "name": "stdout",
          "text": [
            "Model: \"sequential_2\"\n",
            "_________________________________________________________________\n",
            " Layer (type)                Output Shape              Param #   \n",
            "=================================================================\n",
            " dense_1 (Dense)             (None, 32)                320000    \n",
            "                                                                 \n",
            "=================================================================\n",
            "Total params: 320000 (1.22 MB)\n",
            "Trainable params: 320000 (1.22 MB)\n",
            "Non-trainable params: 0 (0.00 Byte)\n",
            "_________________________________________________________________\n"
          ]
        }
      ]
    },
    {
      "cell_type": "code",
      "source": [
        "tf.one_hot([15], depth = 10000)"
      ],
      "metadata": {
        "colab": {
          "base_uri": "https://localhost:8080/"
        },
        "id": "3zH9aipTXn2n",
        "outputId": "e45d9f83-5a84-4bd5-c3ec-173293a33468"
      },
      "execution_count": 20,
      "outputs": [
        {
          "output_type": "execute_result",
          "data": {
            "text/plain": [
              "<tf.Tensor: shape=(1, 10000), dtype=float32, numpy=array([[0., 0., 0., ..., 0., 0., 0.]], dtype=float32)>"
            ]
          },
          "metadata": {},
          "execution_count": 20
        }
      ]
    },
    {
      "cell_type": "markdown",
      "source": [],
      "metadata": {
        "id": "2rYfYxcEb-i1"
      }
    },
    {
      "cell_type": "markdown",
      "source": [
        "### Model with Embedding"
      ],
      "metadata": {
        "id": "O5TXqlPEb-lQ"
      }
    },
    {
      "cell_type": "code",
      "source": [
        "model = Sequential([\n",
        "    Embedding(input_dim = VOCABULARY_SIZE, output_dim = EMBEDING_LENGTH, input_length = SEQUENCE_LENGTH),\n",
        "    LSTM(5, return_sequences = True),\n",
        "    LSTM(10, return_sequences = True),\n",
        "    LSTM(5),\n",
        "    Flatten(),\n",
        "\n",
        "    Dense(VOCABULARY_SIZE, activation = 'sigmoid')\n",
        "])"
      ],
      "metadata": {
        "id": "Pnx2dDk6YJgI"
      },
      "execution_count": 22,
      "outputs": []
    },
    {
      "cell_type": "code",
      "source": [
        "model.summary()"
      ],
      "metadata": {
        "colab": {
          "base_uri": "https://localhost:8080/"
        },
        "id": "4qR7zEWCZdkm",
        "outputId": "55f86961-3c57-44a9-e53d-adf69fbb0e98"
      },
      "execution_count": 23,
      "outputs": [
        {
          "output_type": "stream",
          "name": "stdout",
          "text": [
            "Model: \"sequential_3\"\n",
            "_________________________________________________________________\n",
            " Layer (type)                Output Shape              Param #   \n",
            "=================================================================\n",
            " embedding (Embedding)       (None, 800, 256)          2560000   \n",
            "                                                                 \n",
            " lstm_4 (LSTM)               (None, 800, 5)            5240      \n",
            "                                                                 \n",
            " lstm_5 (LSTM)               (None, 800, 10)           640       \n",
            "                                                                 \n",
            " lstm_6 (LSTM)               (None, 5)                 320       \n",
            "                                                                 \n",
            " flatten_1 (Flatten)         (None, 5)                 0         \n",
            "                                                                 \n",
            " dense_2 (Dense)             (None, 10000)             60000     \n",
            "                                                                 \n",
            "=================================================================\n",
            "Total params: 2626200 (10.02 MB)\n",
            "Trainable params: 2626200 (10.02 MB)\n",
            "Non-trainable params: 0 (0.00 Byte)\n",
            "_________________________________________________________________\n"
          ]
        }
      ]
    },
    {
      "cell_type": "code",
      "source": [],
      "metadata": {
        "id": "FtJCKE3eZji8"
      },
      "execution_count": null,
      "outputs": []
    }
  ]
}